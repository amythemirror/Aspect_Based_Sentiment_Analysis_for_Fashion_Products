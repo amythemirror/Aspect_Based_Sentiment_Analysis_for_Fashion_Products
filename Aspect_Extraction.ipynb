{
 "cells": [
  {
   "cell_type": "code",
   "execution_count": 1,
   "metadata": {},
   "outputs": [],
   "source": [
    "# Load the \"autoreload\" extension\n",
    "%load_ext autoreload\n",
    "\n",
    "# always reload modules marked with \"%aimport\"\n",
    "%autoreload 1"
   ]
  },
  {
   "cell_type": "code",
   "execution_count": 2,
   "metadata": {},
   "outputs": [],
   "source": [
    "import numpy as np\n",
    "import pandas as pd\n",
    "from ast import literal_eval"
   ]
  },
  {
   "cell_type": "code",
   "execution_count": 3,
   "metadata": {
    "scrolled": true
   },
   "outputs": [
    {
     "data": {
      "text/html": [
       "<div>\n",
       "<style scoped>\n",
       "    .dataframe tbody tr th:only-of-type {\n",
       "        vertical-align: middle;\n",
       "    }\n",
       "\n",
       "    .dataframe tbody tr th {\n",
       "        vertical-align: top;\n",
       "    }\n",
       "\n",
       "    .dataframe thead th {\n",
       "        text-align: right;\n",
       "    }\n",
       "</style>\n",
       "<table border=\"1\" class=\"dataframe\">\n",
       "  <thead>\n",
       "    <tr style=\"text-align: right;\">\n",
       "      <th></th>\n",
       "      <th>overall</th>\n",
       "      <th>verified</th>\n",
       "      <th>reviewTime</th>\n",
       "      <th>reviewerID</th>\n",
       "      <th>asin</th>\n",
       "      <th>reviewerName</th>\n",
       "      <th>reviewText</th>\n",
       "      <th>summary</th>\n",
       "      <th>unixReviewTime</th>\n",
       "      <th>vote</th>\n",
       "      <th>style</th>\n",
       "      <th>image</th>\n",
       "      <th>reviewClean_sw</th>\n",
       "      <th>noun_adjective</th>\n",
       "    </tr>\n",
       "  </thead>\n",
       "  <tbody>\n",
       "    <tr>\n",
       "      <th>0</th>\n",
       "      <td>5</td>\n",
       "      <td>True</td>\n",
       "      <td>10 20, 2014</td>\n",
       "      <td>A1D4G1SNUZWQOT</td>\n",
       "      <td>7106116521</td>\n",
       "      <td>Tracy</td>\n",
       "      <td>Exactly what I needed.</td>\n",
       "      <td>perfect replacements!!</td>\n",
       "      <td>1413763200</td>\n",
       "      <td>NaN</td>\n",
       "      <td>NaN</td>\n",
       "      <td>NaN</td>\n",
       "      <td>[exactly, what, i, need, .]</td>\n",
       "      <td>[]</td>\n",
       "    </tr>\n",
       "    <tr>\n",
       "      <th>1</th>\n",
       "      <td>2</td>\n",
       "      <td>True</td>\n",
       "      <td>09 28, 2014</td>\n",
       "      <td>A3DDWDH9PX2YX2</td>\n",
       "      <td>7106116521</td>\n",
       "      <td>Sonja Lau</td>\n",
       "      <td>I agree with the other review, the opening is ...</td>\n",
       "      <td>I agree with the other review, the opening is ...</td>\n",
       "      <td>1411862400</td>\n",
       "      <td>3.0</td>\n",
       "      <td>NaN</td>\n",
       "      <td>NaN</td>\n",
       "      <td>[i, agree, with, the, other, review, ,, the, o...</td>\n",
       "      <td>[other, review, opening, small, hook, expensiv...</td>\n",
       "    </tr>\n",
       "    <tr>\n",
       "      <th>2</th>\n",
       "      <td>4</td>\n",
       "      <td>False</td>\n",
       "      <td>08 25, 2014</td>\n",
       "      <td>A2MWC41EW7XL15</td>\n",
       "      <td>7106116521</td>\n",
       "      <td>Kathleen</td>\n",
       "      <td>Love these... I am going to order another pack...</td>\n",
       "      <td>My New 'Friends' !!</td>\n",
       "      <td>1408924800</td>\n",
       "      <td>NaN</td>\n",
       "      <td>NaN</td>\n",
       "      <td>NaN</td>\n",
       "      <td>[love, these, ..., i, be, go, to, order, anoth...</td>\n",
       "      <td>[pack, work, someone, back, earring, fish, hoo...</td>\n",
       "    </tr>\n",
       "    <tr>\n",
       "      <th>3</th>\n",
       "      <td>2</td>\n",
       "      <td>True</td>\n",
       "      <td>08 24, 2014</td>\n",
       "      <td>A2UH2QQ275NV45</td>\n",
       "      <td>7106116521</td>\n",
       "      <td>Jodi Stoner</td>\n",
       "      <td>too tiny an opening</td>\n",
       "      <td>Two Stars</td>\n",
       "      <td>1408838400</td>\n",
       "      <td>NaN</td>\n",
       "      <td>NaN</td>\n",
       "      <td>NaN</td>\n",
       "      <td>[too, tiny, an, opening]</td>\n",
       "      <td>[tiny, opening]</td>\n",
       "    </tr>\n",
       "    <tr>\n",
       "      <th>4</th>\n",
       "      <td>3</td>\n",
       "      <td>False</td>\n",
       "      <td>07 27, 2014</td>\n",
       "      <td>A89F3LQADZBS5</td>\n",
       "      <td>7106116521</td>\n",
       "      <td>Alexander D.</td>\n",
       "      <td>Okay</td>\n",
       "      <td>Three Stars</td>\n",
       "      <td>1406419200</td>\n",
       "      <td>NaN</td>\n",
       "      <td>NaN</td>\n",
       "      <td>NaN</td>\n",
       "      <td>[okay]</td>\n",
       "      <td>[]</td>\n",
       "    </tr>\n",
       "  </tbody>\n",
       "</table>\n",
       "</div>"
      ],
      "text/plain": [
       "   overall  verified   reviewTime      reviewerID        asin  reviewerName  \\\n",
       "0        5      True  10 20, 2014  A1D4G1SNUZWQOT  7106116521         Tracy   \n",
       "1        2      True  09 28, 2014  A3DDWDH9PX2YX2  7106116521     Sonja Lau   \n",
       "2        4     False  08 25, 2014  A2MWC41EW7XL15  7106116521      Kathleen   \n",
       "3        2      True  08 24, 2014  A2UH2QQ275NV45  7106116521   Jodi Stoner   \n",
       "4        3     False  07 27, 2014   A89F3LQADZBS5  7106116521  Alexander D.   \n",
       "\n",
       "                                          reviewText  \\\n",
       "0                             Exactly what I needed.   \n",
       "1  I agree with the other review, the opening is ...   \n",
       "2  Love these... I am going to order another pack...   \n",
       "3                                too tiny an opening   \n",
       "4                                               Okay   \n",
       "\n",
       "                                             summary  unixReviewTime  vote  \\\n",
       "0                             perfect replacements!!      1413763200   NaN   \n",
       "1  I agree with the other review, the opening is ...      1411862400   3.0   \n",
       "2                                My New 'Friends' !!      1408924800   NaN   \n",
       "3                                          Two Stars      1408838400   NaN   \n",
       "4                                        Three Stars      1406419200   NaN   \n",
       "\n",
       "  style image                                     reviewClean_sw  \\\n",
       "0   NaN   NaN                        [exactly, what, i, need, .]   \n",
       "1   NaN   NaN  [i, agree, with, the, other, review, ,, the, o...   \n",
       "2   NaN   NaN  [love, these, ..., i, be, go, to, order, anoth...   \n",
       "3   NaN   NaN                           [too, tiny, an, opening]   \n",
       "4   NaN   NaN                                             [okay]   \n",
       "\n",
       "                                      noun_adjective  \n",
       "0                                                 []  \n",
       "1  [other, review, opening, small, hook, expensiv...  \n",
       "2  [pack, work, someone, back, earring, fish, hoo...  \n",
       "3                                    [tiny, opening]  \n",
       "4                                                 []  "
      ]
     },
     "execution_count": 3,
     "metadata": {},
     "output_type": "execute_result"
    }
   ],
   "source": [
    "df = pd.read_csv('data_wrangling.csv',\n",
    "                 converters={'reviewClean_sw': literal_eval, 'reviewClean': literal_eval, 'noun_adjective': literal_eval})\n",
    "df.head()"
   ]
  },
  {
   "cell_type": "markdown",
   "metadata": {},
   "source": [
    "**Cosine similarity threshold for aspect extraction**  \n",
    "threshold should be data driven\n",
    "- save all word-aspect similarities and take top 5%/10%, see if it make sense\n",
    "- take 10 samples for the top %, evaluate pairs from the boundaries"
   ]
  },
  {
   "cell_type": "code",
   "execution_count": 4,
   "metadata": {},
   "outputs": [
    {
     "data": {
      "text/plain": [
       "(852589, 14)"
      ]
     },
     "execution_count": 4,
     "metadata": {},
     "output_type": "execute_result"
    }
   ],
   "source": [
    "df.shape"
   ]
  },
  {
   "cell_type": "code",
   "execution_count": 5,
   "metadata": {},
   "outputs": [
    {
     "data": {
      "text/plain": [
       "(811394, 14)"
      ]
     },
     "execution_count": 5,
     "metadata": {},
     "output_type": "execute_result"
    }
   ],
   "source": [
    "# drop reviews without extracted noun or adjective\n",
    "df = df[df.noun_adjective.str.len() != 0]\n",
    "df.shape"
   ]
  },
  {
   "cell_type": "markdown",
   "metadata": {},
   "source": [
    "**Using word2vec model to calculate cosine similarity**"
   ]
  },
  {
   "cell_type": "code",
   "execution_count": 6,
   "metadata": {},
   "outputs": [],
   "source": [
    "from gensim.models import KeyedVectors\n",
    "\n",
    "# load the pretrained word2vec model as gensim keyedvectors\n",
    "wv = KeyedVectors.load('word2vec-google-news-300', mmap='r')\n",
    "\n",
    "# calculate and store the cosine similarities for all word-aspect pairs\n",
    "aspects = ['color', 'design', 'material', 'price', 'quality', 'sizing']\n",
    "\n",
    "def cosine_similarity(words):\n",
    "    '''extract aspects using cosine similarity between tokens and each aspect'''\n",
    "    cosine_similarity = dict()\n",
    "    for word in words:\n",
    "        if word in wv.vocab:\n",
    "            for aspect in aspects:\n",
    "                cosine_similarity[(word, aspect)] = abs(wv.similarity(word, aspect))\n",
    "    return cosine_similarity"
   ]
  },
  {
   "cell_type": "code",
   "execution_count": 7,
   "metadata": {},
   "outputs": [
    {
     "name": "stderr",
     "output_type": "stream",
     "text": [
      "C:\\Users\\Billy\\anaconda3\\lib\\site-packages\\tqdm\\std.py:699: FutureWarning: The Panel class is removed from pandas. Accessing it from the top-level namespace will also be removed in the next version\n",
      "  from pandas import Panel\n",
      "100%|█████████████████████████████████████████████████████████████████████████| 811394/811394 [16:23<00:00, 824.86it/s]\n"
     ]
    }
   ],
   "source": [
    "from tqdm import tqdm\n",
    "\n",
    "tqdm.pandas()\n",
    "\n",
    "df['word_aspect_similarity'] = df['noun_adjective'].progress_apply(cosine_similarity)"
   ]
  },
  {
   "cell_type": "code",
   "execution_count": 8,
   "metadata": {},
   "outputs": [
    {
     "data": {
      "text/html": [
       "<div>\n",
       "<style scoped>\n",
       "    .dataframe tbody tr th:only-of-type {\n",
       "        vertical-align: middle;\n",
       "    }\n",
       "\n",
       "    .dataframe tbody tr th {\n",
       "        vertical-align: top;\n",
       "    }\n",
       "\n",
       "    .dataframe thead th {\n",
       "        text-align: right;\n",
       "    }\n",
       "</style>\n",
       "<table border=\"1\" class=\"dataframe\">\n",
       "  <thead>\n",
       "    <tr style=\"text-align: right;\">\n",
       "      <th></th>\n",
       "      <th>overall</th>\n",
       "      <th>verified</th>\n",
       "      <th>reviewTime</th>\n",
       "      <th>reviewerID</th>\n",
       "      <th>asin</th>\n",
       "      <th>reviewerName</th>\n",
       "      <th>reviewText</th>\n",
       "      <th>summary</th>\n",
       "      <th>unixReviewTime</th>\n",
       "      <th>vote</th>\n",
       "      <th>style</th>\n",
       "      <th>image</th>\n",
       "      <th>reviewClean_sw</th>\n",
       "      <th>noun_adjective</th>\n",
       "      <th>word_aspect_similarity</th>\n",
       "    </tr>\n",
       "  </thead>\n",
       "  <tbody>\n",
       "    <tr>\n",
       "      <th>1</th>\n",
       "      <td>2</td>\n",
       "      <td>True</td>\n",
       "      <td>09 28, 2014</td>\n",
       "      <td>A3DDWDH9PX2YX2</td>\n",
       "      <td>7106116521</td>\n",
       "      <td>Sonja Lau</td>\n",
       "      <td>I agree with the other review, the opening is ...</td>\n",
       "      <td>I agree with the other review, the opening is ...</td>\n",
       "      <td>1411862400</td>\n",
       "      <td>3.0</td>\n",
       "      <td>NaN</td>\n",
       "      <td>NaN</td>\n",
       "      <td>[i, agree, with, the, other, review, ,, the, o...</td>\n",
       "      <td>[other, review, opening, small, hook, expensiv...</td>\n",
       "      <td>{('other', 'design'): 0.06390226, ('other', 'm...</td>\n",
       "    </tr>\n",
       "    <tr>\n",
       "      <th>2</th>\n",
       "      <td>4</td>\n",
       "      <td>False</td>\n",
       "      <td>08 25, 2014</td>\n",
       "      <td>A2MWC41EW7XL15</td>\n",
       "      <td>7106116521</td>\n",
       "      <td>Kathleen</td>\n",
       "      <td>Love these... I am going to order another pack...</td>\n",
       "      <td>My New 'Friends' !!</td>\n",
       "      <td>1408924800</td>\n",
       "      <td>NaN</td>\n",
       "      <td>NaN</td>\n",
       "      <td>NaN</td>\n",
       "      <td>[love, these, ..., i, be, go, to, order, anoth...</td>\n",
       "      <td>[pack, work, someone, back, earring, fish, hoo...</td>\n",
       "      <td>{('pack', 'design'): 0.07434415, ('pack', 'mat...</td>\n",
       "    </tr>\n",
       "    <tr>\n",
       "      <th>3</th>\n",
       "      <td>2</td>\n",
       "      <td>True</td>\n",
       "      <td>08 24, 2014</td>\n",
       "      <td>A2UH2QQ275NV45</td>\n",
       "      <td>7106116521</td>\n",
       "      <td>Jodi Stoner</td>\n",
       "      <td>too tiny an opening</td>\n",
       "      <td>Two Stars</td>\n",
       "      <td>1408838400</td>\n",
       "      <td>NaN</td>\n",
       "      <td>NaN</td>\n",
       "      <td>NaN</td>\n",
       "      <td>[too, tiny, an, opening]</td>\n",
       "      <td>[tiny, opening]</td>\n",
       "      <td>{('tiny', 'design'): 0.15835705, ('tiny', 'mat...</td>\n",
       "    </tr>\n",
       "    <tr>\n",
       "      <th>6</th>\n",
       "      <td>4</td>\n",
       "      <td>True</td>\n",
       "      <td>05 31, 2014</td>\n",
       "      <td>A7QS961ROI6E0</td>\n",
       "      <td>7106116521</td>\n",
       "      <td>REBECCA S LAYTON</td>\n",
       "      <td>These little plastic backs work great.  No mor...</td>\n",
       "      <td>Works great!</td>\n",
       "      <td>1401494400</td>\n",
       "      <td>NaN</td>\n",
       "      <td>NaN</td>\n",
       "      <td>NaN</td>\n",
       "      <td>[these, little, plastic, back, work, great, .,...</td>\n",
       "      <td>[little, plastic, back, loosing, hook, earring...</td>\n",
       "      <td>{('little', 'design'): 0.13715011, ('little', ...</td>\n",
       "    </tr>\n",
       "    <tr>\n",
       "      <th>7</th>\n",
       "      <td>3</td>\n",
       "      <td>True</td>\n",
       "      <td>09 22, 2013</td>\n",
       "      <td>A1BB77SEBQT8VX</td>\n",
       "      <td>B00007GDFV</td>\n",
       "      <td>Darrow H Ankrum II</td>\n",
       "      <td>mother - in - law wanted it as a present for h...</td>\n",
       "      <td>bought as a present</td>\n",
       "      <td>1379808000</td>\n",
       "      <td>NaN</td>\n",
       "      <td>{'Color:': ' Black'}</td>\n",
       "      <td>NaN</td>\n",
       "      <td>[mother, -, in, -, law, want, it, as, a, prese...</td>\n",
       "      <td>[mother, law, present, sister]</td>\n",
       "      <td>{('mother', 'design'): 0.038158633, ('mother',...</td>\n",
       "    </tr>\n",
       "  </tbody>\n",
       "</table>\n",
       "</div>"
      ],
      "text/plain": [
       "   overall  verified   reviewTime      reviewerID        asin  \\\n",
       "1        2      True  09 28, 2014  A3DDWDH9PX2YX2  7106116521   \n",
       "2        4     False  08 25, 2014  A2MWC41EW7XL15  7106116521   \n",
       "3        2      True  08 24, 2014  A2UH2QQ275NV45  7106116521   \n",
       "6        4      True  05 31, 2014   A7QS961ROI6E0  7106116521   \n",
       "7        3      True  09 22, 2013  A1BB77SEBQT8VX  B00007GDFV   \n",
       "\n",
       "         reviewerName                                         reviewText  \\\n",
       "1           Sonja Lau  I agree with the other review, the opening is ...   \n",
       "2            Kathleen  Love these... I am going to order another pack...   \n",
       "3         Jodi Stoner                                too tiny an opening   \n",
       "6    REBECCA S LAYTON  These little plastic backs work great.  No mor...   \n",
       "7  Darrow H Ankrum II  mother - in - law wanted it as a present for h...   \n",
       "\n",
       "                                             summary  unixReviewTime  vote  \\\n",
       "1  I agree with the other review, the opening is ...      1411862400   3.0   \n",
       "2                                My New 'Friends' !!      1408924800   NaN   \n",
       "3                                          Two Stars      1408838400   NaN   \n",
       "6                                       Works great!      1401494400   NaN   \n",
       "7                                bought as a present      1379808000   NaN   \n",
       "\n",
       "                  style image  \\\n",
       "1                   NaN   NaN   \n",
       "2                   NaN   NaN   \n",
       "3                   NaN   NaN   \n",
       "6                   NaN   NaN   \n",
       "7  {'Color:': ' Black'}   NaN   \n",
       "\n",
       "                                      reviewClean_sw  \\\n",
       "1  [i, agree, with, the, other, review, ,, the, o...   \n",
       "2  [love, these, ..., i, be, go, to, order, anoth...   \n",
       "3                           [too, tiny, an, opening]   \n",
       "6  [these, little, plastic, back, work, great, .,...   \n",
       "7  [mother, -, in, -, law, want, it, as, a, prese...   \n",
       "\n",
       "                                      noun_adjective  \\\n",
       "1  [other, review, opening, small, hook, expensiv...   \n",
       "2  [pack, work, someone, back, earring, fish, hoo...   \n",
       "3                                    [tiny, opening]   \n",
       "6  [little, plastic, back, loosing, hook, earring...   \n",
       "7                     [mother, law, present, sister]   \n",
       "\n",
       "                              word_aspect_similarity  \n",
       "1  {('other', 'design'): 0.06390226, ('other', 'm...  \n",
       "2  {('pack', 'design'): 0.07434415, ('pack', 'mat...  \n",
       "3  {('tiny', 'design'): 0.15835705, ('tiny', 'mat...  \n",
       "6  {('little', 'design'): 0.13715011, ('little', ...  \n",
       "7  {('mother', 'design'): 0.038158633, ('mother',...  "
      ]
     },
     "execution_count": 8,
     "metadata": {},
     "output_type": "execute_result"
    }
   ],
   "source": [
    "df.head()"
   ]
  },
  {
   "cell_type": "code",
   "execution_count": 9,
   "metadata": {},
   "outputs": [],
   "source": [
    "from collections import ChainMap\n",
    "\n",
    "# merge all word-aspect pairs into one dictionary\n",
    "similarities = dict(ChainMap(*df['word_aspect_similarity']))"
   ]
  },
  {
   "cell_type": "code",
   "execution_count": 26,
   "metadata": {},
   "outputs": [
    {
     "data": {
      "text/plain": [
       "142"
      ]
     },
     "execution_count": 26,
     "metadata": {},
     "output_type": "execute_result"
    }
   ],
   "source": [
    "# caculate the number to get the top 0.1% of word-aspect pairs\n",
    "n = int(len(similarities) * 0.001)\n",
    "\n",
    "# sort all similarities from high to low, take the top 3% word-aspect pairs\n",
    "top_similarities = dict(sorted(similarities.items(), key=lambda item: item[1], reverse=True)[:n])\n",
    "len(top_similarities)"
   ]
  },
  {
   "cell_type": "code",
   "execution_count": 27,
   "metadata": {},
   "outputs": [
    {
     "data": {
      "text/plain": [
       "[(('cleanliness', 'quality'), 0.438488),\n",
       " (('accessibility', 'quality'), 0.43856126),\n",
       " (('textured', 'color'), 0.43909323),\n",
       " (('transluscent', 'color'), 0.44130194),\n",
       " (('metalic', 'color'), 0.44235858),\n",
       " (('resale', 'price'), 0.44305393),\n",
       " (('selecting', 'sizing'), 0.44357574),\n",
       " (('geometric', 'design'), 0.44386277),\n",
       " (('typographic', 'design'), 0.44394654),\n",
       " (('dye', 'color'), 0.44419786)]"
      ]
     },
     "execution_count": 27,
     "metadata": {},
     "output_type": "execute_result"
    }
   ],
   "source": [
    "boundary = sorted(top_similarities.items(), key=lambda item: item[1])[:10]\n",
    "boundary"
   ]
  },
  {
   "cell_type": "code",
   "execution_count": 28,
   "metadata": {},
   "outputs": [],
   "source": [
    "import random\n",
    "\n",
    "def sample_from_dict(dictionary, number, seed):\n",
    "    random.seed(seed)\n",
    "    samples = {}\n",
    "    for key in random.sample(list(dictionary.keys()), number):\n",
    "        samples[key] = dictionary[key]\n",
    "    return samples"
   ]
  },
  {
   "cell_type": "code",
   "execution_count": 29,
   "metadata": {},
   "outputs": [
    {
     "data": {
      "text/plain": [
       "{('pearlescent', 'color'): 0.5242644,\n",
       " ('designing', 'design'): 0.7195531,\n",
       " ('dichroic', 'color'): 0.47555807,\n",
       " ('conceptual', 'design'): 0.48532945,\n",
       " ('aesthetic', 'design'): 0.48699003,\n",
       " ('hue', 'color'): 0.5208082,\n",
       " ('deisgn', 'design'): 0.53097343,\n",
       " ('textured', 'color'): 0.43909323,\n",
       " ('tint', 'color'): 0.5416193,\n",
       " ('discount', 'price'): 0.45319015,\n",
       " ('architectural', 'design'): 0.6386297,\n",
       " ('pricing', 'price'): 0.6456747,\n",
       " ('matte', 'color'): 0.5415027,\n",
       " ('sepia', 'color'): 0.4936772,\n",
       " ('value', 'price'): 0.4866057,\n",
       " ('multicolored', 'color'): 0.444778,\n",
       " ('market', 'price'): 0.5026717,\n",
       " ('boxiness', 'design'): 0.4535754,\n",
       " ('blueish', 'color'): 0.49244845,\n",
       " ('haloing', 'color'): 0.45099705}"
      ]
     },
     "execution_count": 29,
     "metadata": {},
     "output_type": "execute_result"
    }
   ],
   "source": [
    "samples = sample_from_dict(top_similarities, 20, 42)\n",
    "samples"
   ]
  },
  {
   "cell_type": "code",
   "execution_count": 28,
   "metadata": {},
   "outputs": [],
   "source": [
    "df.to_csv('aspect_extraction.csv', index=False)"
   ]
  },
  {
   "cell_type": "markdown",
   "metadata": {},
   "source": [
    "**Using domain fasttext model to calculate cosine similarity**  \n",
    "Train model after removing the stop words"
   ]
  },
  {
   "cell_type": "code",
   "execution_count": 35,
   "metadata": {},
   "outputs": [
    {
     "data": {
      "text/html": [
       "<div>\n",
       "<style scoped>\n",
       "    .dataframe tbody tr th:only-of-type {\n",
       "        vertical-align: middle;\n",
       "    }\n",
       "\n",
       "    .dataframe tbody tr th {\n",
       "        vertical-align: top;\n",
       "    }\n",
       "\n",
       "    .dataframe thead th {\n",
       "        text-align: right;\n",
       "    }\n",
       "</style>\n",
       "<table border=\"1\" class=\"dataframe\">\n",
       "  <thead>\n",
       "    <tr style=\"text-align: right;\">\n",
       "      <th></th>\n",
       "      <th>reviewClean</th>\n",
       "    </tr>\n",
       "  </thead>\n",
       "  <tbody>\n",
       "    <tr>\n",
       "      <th>0</th>\n",
       "      <td>[exactly, need]</td>\n",
       "    </tr>\n",
       "    <tr>\n",
       "      <th>1</th>\n",
       "      <td>[agree, review, opening, small, bend, hook, ex...</td>\n",
       "    </tr>\n",
       "    <tr>\n",
       "      <th>2</th>\n",
       "      <td>[love, go, order, pack, work, include, lose, e...</td>\n",
       "    </tr>\n",
       "    <tr>\n",
       "      <th>3</th>\n",
       "      <td>[tiny, opening]</td>\n",
       "    </tr>\n",
       "    <tr>\n",
       "      <th>4</th>\n",
       "      <td>[okay]</td>\n",
       "    </tr>\n",
       "  </tbody>\n",
       "</table>\n",
       "</div>"
      ],
      "text/plain": [
       "                                         reviewClean\n",
       "0                                    [exactly, need]\n",
       "1  [agree, review, opening, small, bend, hook, ex...\n",
       "2  [love, go, order, pack, work, include, lose, e...\n",
       "3                                    [tiny, opening]\n",
       "4                                             [okay]"
      ]
     },
     "execution_count": 35,
     "metadata": {},
     "output_type": "execute_result"
    }
   ],
   "source": [
    "reviewClean = pd.read_csv('data_wrangling.csv',\n",
    "                 usecols=['reviewClean'],\n",
    "                 converters={'reviewClean': literal_eval})\n",
    "reviewClean.head()"
   ]
  },
  {
   "cell_type": "code",
   "execution_count": 36,
   "metadata": {},
   "outputs": [],
   "source": [
    "from gensim.models.fasttext import FastText\n",
    "\n",
    "embedding_size = 60\n",
    "worker_number = 12\n",
    "window_size = 40\n",
    "min_word = 5\n",
    "down_sampling = 1e-2\n",
    "\n",
    "ft_model = FastText(reviewClean['reviewClean'],\n",
    "                      size=embedding_size,\n",
    "                      workers=worker_number,\n",
    "                      window=window_size,\n",
    "                      min_count=min_word,\n",
    "                      sample=down_sampling,\n",
    "                      sg=1,\n",
    "                      iter=100)"
   ]
  },
  {
   "cell_type": "code",
   "execution_count": 37,
   "metadata": {},
   "outputs": [],
   "source": [
    "ft_model.save('fasttext_domain_model')"
   ]
  },
  {
   "cell_type": "code",
   "execution_count": 38,
   "metadata": {},
   "outputs": [],
   "source": [
    "# calculate and store the cosine similarity for all word-aspect pairs\n",
    "aspects = ['color', 'design', 'material', 'price', 'quality', 'sizing']\n",
    "\n",
    "def cosine_similarity_ftdomain(words):\n",
    "    '''extract aspects using cosine similarity between tokens and each aspect'''\n",
    "    cosine_similarity = dict()\n",
    "    for word in words:\n",
    "        if word in ft_model.wv.vocab:\n",
    "            for aspect in aspects:\n",
    "                cosine_similarity[(word, aspect)] = abs(ft_model.wv.similarity(word, aspect))\n",
    "    return cosine_similarity"
   ]
  },
  {
   "cell_type": "code",
   "execution_count": 39,
   "metadata": {},
   "outputs": [
    {
     "name": "stderr",
     "output_type": "stream",
     "text": [
      "C:\\Users\\Billy\\anaconda3\\lib\\site-packages\\tqdm\\std.py:699: FutureWarning: The Panel class is removed from pandas. Accessing it from the top-level namespace will also be removed in the next version\n",
      "  from pandas import Panel\n",
      "100%|████████████████████████████████████████████████████████████████████████| 811394/811394 [10:55<00:00, 1237.69it/s]\n"
     ]
    }
   ],
   "source": [
    "from tqdm import tqdm\n",
    "\n",
    "tqdm.pandas()\n",
    "\n",
    "df['word_aspect_similarity_ftdomain'] = df['noun_adjective'].progress_apply(cosine_similarity_ftdomain)"
   ]
  },
  {
   "cell_type": "code",
   "execution_count": 40,
   "metadata": {},
   "outputs": [],
   "source": [
    "from collections import ChainMap\n",
    "\n",
    "# merge all word-aspect pairs into one dictionary\n",
    "similarities_ftdomain = dict(ChainMap(*df['word_aspect_similarity_ftdomain']))"
   ]
  },
  {
   "cell_type": "code",
   "execution_count": 41,
   "metadata": {},
   "outputs": [],
   "source": [
    "# caculate the number for the top 0.1% of word-aspect pairs\n",
    "n = int(len(similarities_ftdomain) * 0.001)\n",
    "\n",
    "# sort all similarities from high to low, take the top 5% word-aspect pairs\n",
    "top_similarities_ftdomain = dict(sorted(similarities_ftdomain.items(), key=lambda item: item[1], reverse=True)[:n])"
   ]
  },
  {
   "cell_type": "code",
   "execution_count": 133,
   "metadata": {},
   "outputs": [
    {
     "data": {
      "text/plain": [
       "{('equivalent', 'sizing'): 0.79520094,\n",
       " ('teal', 'color'): 0.8745486,\n",
       " ('design', 'design'): 1.0,\n",
       " ('quality-', 'quality'): 0.82936424,\n",
       " ('make', 'design'): 0.83632624,\n",
       " ('unique', 'design'): 0.8461783,\n",
       " ('quality', 'price'): 0.8629768,\n",
       " ('purple', 'color'): 0.87873244,\n",
       " ('plum', 'color'): 0.7932322,\n",
       " ('stretchy', 'material'): 0.8040991,\n",
       " ('red', 'color'): 0.8853427,\n",
       " ('pattern', 'color'): 0.79887587,\n",
       " ('quailty', 'quality'): 0.8142344,\n",
       " ('color', 'color'): 0.99999994,\n",
       " ('coloring', 'color'): 0.8471998,\n",
       " ('peach', 'color'): 0.84299254,\n",
       " ('xxl', 'sizing'): 0.80726933,\n",
       " ('happy', 'price'): 0.7986858,\n",
       " ('deep', 'color'): 0.80359685,\n",
       " ('grey', 'color'): 0.84927994}"
      ]
     },
     "execution_count": 133,
     "metadata": {},
     "output_type": "execute_result"
    }
   ],
   "source": [
    "samples_ftdomain = sample_from_dict(top_similarities_ftdomain, 20, 42)\n",
    "samples_ftdomain"
   ]
  },
  {
   "cell_type": "markdown",
   "metadata": {},
   "source": [
    "**Aspect Extraction**"
   ]
  },
  {
   "cell_type": "code",
   "execution_count": 134,
   "metadata": {},
   "outputs": [],
   "source": [
    "def aspect_extraction(data):\n",
    "    '''extract word-aspect pairs and aspects using 0.4 as the threshold for similarity'''\n",
    "    pair_list = []\n",
    "    aspect_list = []\n",
    "    for (word, aspect), similarity in data.items():\n",
    "        if similarity >= 0.40 and aspect not in aspect_list:\n",
    "            pair_list.append((word, aspect))\n",
    "            aspect_list.append(aspect)\n",
    "        elif similarity >= 0.40 and aspect in aspect_list:\n",
    "            pair_list.append((word, aspect))\n",
    "            \n",
    "    if len(aspect_list) == 0:\n",
    "        aspect_list.append('general')\n",
    "        \n",
    "    return pair_list, aspect_list"
   ]
  },
  {
   "cell_type": "code",
   "execution_count": 135,
   "metadata": {},
   "outputs": [
    {
     "name": "stderr",
     "output_type": "stream",
     "text": [
      "C:\\Users\\Billy\\anaconda3\\lib\\site-packages\\tqdm\\std.py:699: FutureWarning: The Panel class is removed from pandas. Accessing it from the top-level namespace will also be removed in the next version\n",
      "  from pandas import Panel\n",
      "100%|████████████████████████████████████████████████████████████████████████| 811394/811394 [02:12<00:00, 6107.54it/s]\n"
     ]
    },
    {
     "data": {
      "text/html": [
       "<div>\n",
       "<style scoped>\n",
       "    .dataframe tbody tr th:only-of-type {\n",
       "        vertical-align: middle;\n",
       "    }\n",
       "\n",
       "    .dataframe tbody tr th {\n",
       "        vertical-align: top;\n",
       "    }\n",
       "\n",
       "    .dataframe thead th {\n",
       "        text-align: right;\n",
       "    }\n",
       "</style>\n",
       "<table border=\"1\" class=\"dataframe\">\n",
       "  <thead>\n",
       "    <tr style=\"text-align: right;\">\n",
       "      <th></th>\n",
       "      <th>overall</th>\n",
       "      <th>verified</th>\n",
       "      <th>reviewTime</th>\n",
       "      <th>reviewerID</th>\n",
       "      <th>asin</th>\n",
       "      <th>reviewerName</th>\n",
       "      <th>reviewText</th>\n",
       "      <th>summary</th>\n",
       "      <th>unixReviewTime</th>\n",
       "      <th>vote</th>\n",
       "      <th>style</th>\n",
       "      <th>image</th>\n",
       "      <th>reviewClean_sw</th>\n",
       "      <th>noun_adjective</th>\n",
       "      <th>word_aspect_similarity</th>\n",
       "      <th>word_aspect_similarity_ftdomain</th>\n",
       "      <th>pair</th>\n",
       "      <th>aspect</th>\n",
       "    </tr>\n",
       "  </thead>\n",
       "  <tbody>\n",
       "    <tr>\n",
       "      <th>1</th>\n",
       "      <td>2</td>\n",
       "      <td>True</td>\n",
       "      <td>09 28, 2014</td>\n",
       "      <td>A3DDWDH9PX2YX2</td>\n",
       "      <td>7106116521</td>\n",
       "      <td>Sonja Lau</td>\n",
       "      <td>I agree with the other review, the opening is ...</td>\n",
       "      <td>I agree with the other review, the opening is ...</td>\n",
       "      <td>1411862400</td>\n",
       "      <td>3.0</td>\n",
       "      <td>NaN</td>\n",
       "      <td>NaN</td>\n",
       "      <td>[i, agree, with, the, other, review, ,, the, o...</td>\n",
       "      <td>[other, review, opening, small, hook, expensiv...</td>\n",
       "      <td>{('other', 'design'): 0.06390226, ('other', 'm...</td>\n",
       "      <td>{('review', 'color'): 0.47370848, ('review', '...</td>\n",
       "      <td>[(price, price)]</td>\n",
       "      <td>[price]</td>\n",
       "    </tr>\n",
       "    <tr>\n",
       "      <th>2</th>\n",
       "      <td>4</td>\n",
       "      <td>False</td>\n",
       "      <td>08 25, 2014</td>\n",
       "      <td>A2MWC41EW7XL15</td>\n",
       "      <td>7106116521</td>\n",
       "      <td>Kathleen</td>\n",
       "      <td>Love these... I am going to order another pack...</td>\n",
       "      <td>My New 'Friends' !!</td>\n",
       "      <td>1408924800</td>\n",
       "      <td>NaN</td>\n",
       "      <td>NaN</td>\n",
       "      <td>NaN</td>\n",
       "      <td>[love, these, ..., i, be, go, to, order, anoth...</td>\n",
       "      <td>[pack, work, someone, back, earring, fish, hoo...</td>\n",
       "      <td>{('pack', 'design'): 0.07434415, ('pack', 'mat...</td>\n",
       "      <td>{('pack', 'color'): 0.45599386, ('pack', 'desi...</td>\n",
       "      <td>[]</td>\n",
       "      <td>[general]</td>\n",
       "    </tr>\n",
       "    <tr>\n",
       "      <th>3</th>\n",
       "      <td>2</td>\n",
       "      <td>True</td>\n",
       "      <td>08 24, 2014</td>\n",
       "      <td>A2UH2QQ275NV45</td>\n",
       "      <td>7106116521</td>\n",
       "      <td>Jodi Stoner</td>\n",
       "      <td>too tiny an opening</td>\n",
       "      <td>Two Stars</td>\n",
       "      <td>1408838400</td>\n",
       "      <td>NaN</td>\n",
       "      <td>NaN</td>\n",
       "      <td>NaN</td>\n",
       "      <td>[too, tiny, an, opening]</td>\n",
       "      <td>[tiny, opening]</td>\n",
       "      <td>{('tiny', 'design'): 0.15835705, ('tiny', 'mat...</td>\n",
       "      <td>{('tiny', 'color'): 0.41614622, ('tiny', 'desi...</td>\n",
       "      <td>[]</td>\n",
       "      <td>[general]</td>\n",
       "    </tr>\n",
       "    <tr>\n",
       "      <th>6</th>\n",
       "      <td>4</td>\n",
       "      <td>True</td>\n",
       "      <td>05 31, 2014</td>\n",
       "      <td>A7QS961ROI6E0</td>\n",
       "      <td>7106116521</td>\n",
       "      <td>REBECCA S LAYTON</td>\n",
       "      <td>These little plastic backs work great.  No mor...</td>\n",
       "      <td>Works great!</td>\n",
       "      <td>1401494400</td>\n",
       "      <td>NaN</td>\n",
       "      <td>NaN</td>\n",
       "      <td>NaN</td>\n",
       "      <td>[these, little, plastic, back, work, great, .,...</td>\n",
       "      <td>[little, plastic, back, loosing, hook, earring...</td>\n",
       "      <td>{('little', 'design'): 0.13715011, ('little', ...</td>\n",
       "      <td>{('little', 'color'): 0.67847776, ('little', '...</td>\n",
       "      <td>[]</td>\n",
       "      <td>[general]</td>\n",
       "    </tr>\n",
       "    <tr>\n",
       "      <th>7</th>\n",
       "      <td>3</td>\n",
       "      <td>True</td>\n",
       "      <td>09 22, 2013</td>\n",
       "      <td>A1BB77SEBQT8VX</td>\n",
       "      <td>B00007GDFV</td>\n",
       "      <td>Darrow H Ankrum II</td>\n",
       "      <td>mother - in - law wanted it as a present for h...</td>\n",
       "      <td>bought as a present</td>\n",
       "      <td>1379808000</td>\n",
       "      <td>NaN</td>\n",
       "      <td>{'Color:': ' Black'}</td>\n",
       "      <td>NaN</td>\n",
       "      <td>[mother, -, in, -, law, want, it, as, a, prese...</td>\n",
       "      <td>[mother, law, present, sister]</td>\n",
       "      <td>{('mother', 'design'): 0.038158633, ('mother',...</td>\n",
       "      <td>{('mother', 'color'): 0.4880516, ('mother', 'd...</td>\n",
       "      <td>[]</td>\n",
       "      <td>[general]</td>\n",
       "    </tr>\n",
       "  </tbody>\n",
       "</table>\n",
       "</div>"
      ],
      "text/plain": [
       "   overall  verified   reviewTime      reviewerID        asin  \\\n",
       "1        2      True  09 28, 2014  A3DDWDH9PX2YX2  7106116521   \n",
       "2        4     False  08 25, 2014  A2MWC41EW7XL15  7106116521   \n",
       "3        2      True  08 24, 2014  A2UH2QQ275NV45  7106116521   \n",
       "6        4      True  05 31, 2014   A7QS961ROI6E0  7106116521   \n",
       "7        3      True  09 22, 2013  A1BB77SEBQT8VX  B00007GDFV   \n",
       "\n",
       "         reviewerName                                         reviewText  \\\n",
       "1           Sonja Lau  I agree with the other review, the opening is ...   \n",
       "2            Kathleen  Love these... I am going to order another pack...   \n",
       "3         Jodi Stoner                                too tiny an opening   \n",
       "6    REBECCA S LAYTON  These little plastic backs work great.  No mor...   \n",
       "7  Darrow H Ankrum II  mother - in - law wanted it as a present for h...   \n",
       "\n",
       "                                             summary  unixReviewTime  vote  \\\n",
       "1  I agree with the other review, the opening is ...      1411862400   3.0   \n",
       "2                                My New 'Friends' !!      1408924800   NaN   \n",
       "3                                          Two Stars      1408838400   NaN   \n",
       "6                                       Works great!      1401494400   NaN   \n",
       "7                                bought as a present      1379808000   NaN   \n",
       "\n",
       "                  style image  \\\n",
       "1                   NaN   NaN   \n",
       "2                   NaN   NaN   \n",
       "3                   NaN   NaN   \n",
       "6                   NaN   NaN   \n",
       "7  {'Color:': ' Black'}   NaN   \n",
       "\n",
       "                                      reviewClean_sw  \\\n",
       "1  [i, agree, with, the, other, review, ,, the, o...   \n",
       "2  [love, these, ..., i, be, go, to, order, anoth...   \n",
       "3                           [too, tiny, an, opening]   \n",
       "6  [these, little, plastic, back, work, great, .,...   \n",
       "7  [mother, -, in, -, law, want, it, as, a, prese...   \n",
       "\n",
       "                                      noun_adjective  \\\n",
       "1  [other, review, opening, small, hook, expensiv...   \n",
       "2  [pack, work, someone, back, earring, fish, hoo...   \n",
       "3                                    [tiny, opening]   \n",
       "6  [little, plastic, back, loosing, hook, earring...   \n",
       "7                     [mother, law, present, sister]   \n",
       "\n",
       "                              word_aspect_similarity  \\\n",
       "1  {('other', 'design'): 0.06390226, ('other', 'm...   \n",
       "2  {('pack', 'design'): 0.07434415, ('pack', 'mat...   \n",
       "3  {('tiny', 'design'): 0.15835705, ('tiny', 'mat...   \n",
       "6  {('little', 'design'): 0.13715011, ('little', ...   \n",
       "7  {('mother', 'design'): 0.038158633, ('mother',...   \n",
       "\n",
       "                     word_aspect_similarity_ftdomain              pair  \\\n",
       "1  {('review', 'color'): 0.47370848, ('review', '...  [(price, price)]   \n",
       "2  {('pack', 'color'): 0.45599386, ('pack', 'desi...                []   \n",
       "3  {('tiny', 'color'): 0.41614622, ('tiny', 'desi...                []   \n",
       "6  {('little', 'color'): 0.67847776, ('little', '...                []   \n",
       "7  {('mother', 'color'): 0.4880516, ('mother', 'd...                []   \n",
       "\n",
       "      aspect  \n",
       "1    [price]  \n",
       "2  [general]  \n",
       "3  [general]  \n",
       "6  [general]  \n",
       "7  [general]  "
      ]
     },
     "execution_count": 135,
     "metadata": {},
     "output_type": "execute_result"
    }
   ],
   "source": [
    "from tqdm import tqdm\n",
    "\n",
    "tqdm.pandas()\n",
    "# apply the helper function to extract aspect terms and aspects\n",
    "df['pair'], df['aspect'] = zip(*df['word_aspect_similarity'].progress_apply(aspect_extraction))\n",
    "\n",
    "df.head()"
   ]
  },
  {
   "cell_type": "code",
   "execution_count": 136,
   "metadata": {},
   "outputs": [],
   "source": [
    "df.to_csv('aspect_extraction.csv', index=False)"
   ]
  },
  {
   "cell_type": "markdown",
   "metadata": {},
   "source": [
    "**Top Aspect Term Visualization**"
   ]
  },
  {
   "cell_type": "code",
   "execution_count": 137,
   "metadata": {},
   "outputs": [],
   "source": [
    "from collections import Counter\n",
    "from collections import defaultdict\n",
    "\n",
    "aspects = ['color', 'design', 'material', 'price', 'quality', 'sizing']\n",
    "\n",
    "# helper function to extract the most frequent aspect terms for each aspect\n",
    "def top_terms(data):\n",
    "    counter = Counter(data.explode().dropna())\n",
    "    dic = defaultdict(dict)\n",
    "    for (term, aspect), count in counter.items():\n",
    "        dic[aspect][term] = count\n",
    "    \n",
    "    top_terms = []\n",
    "    term_aspect = []\n",
    "\n",
    "    for aspect in aspects:\n",
    "        for term in sorted(dic[aspect], key=dic[aspect].get, reverse=True)[:15]:\n",
    "            top_terms.append(term)\n",
    "            term_aspect.append(aspect)\n",
    "    return top_terms, term_aspect"
   ]
  },
  {
   "cell_type": "code",
   "execution_count": 138,
   "metadata": {},
   "outputs": [],
   "source": [
    "# get the top aspect terms and their aspects\n",
    "top_terms, term_aspect = top_terms(df['pair'])"
   ]
  },
  {
   "cell_type": "code",
   "execution_count": 139,
   "metadata": {},
   "outputs": [
    {
     "data": {
      "text/html": [
       "<div>\n",
       "<style scoped>\n",
       "    .dataframe tbody tr th:only-of-type {\n",
       "        vertical-align: middle;\n",
       "    }\n",
       "\n",
       "    .dataframe tbody tr th {\n",
       "        vertical-align: top;\n",
       "    }\n",
       "\n",
       "    .dataframe thead th {\n",
       "        text-align: right;\n",
       "    }\n",
       "</style>\n",
       "<table border=\"1\" class=\"dataframe\">\n",
       "  <thead>\n",
       "    <tr style=\"text-align: right;\">\n",
       "      <th></th>\n",
       "      <th>term</th>\n",
       "      <th>aspect</th>\n",
       "    </tr>\n",
       "  </thead>\n",
       "  <tbody>\n",
       "    <tr>\n",
       "      <th>0</th>\n",
       "      <td>color</td>\n",
       "      <td>color</td>\n",
       "    </tr>\n",
       "    <tr>\n",
       "      <th>1</th>\n",
       "      <td>black</td>\n",
       "      <td>color</td>\n",
       "    </tr>\n",
       "    <tr>\n",
       "      <th>2</th>\n",
       "      <td>white</td>\n",
       "      <td>color</td>\n",
       "    </tr>\n",
       "    <tr>\n",
       "      <th>3</th>\n",
       "      <td>blue</td>\n",
       "      <td>color</td>\n",
       "    </tr>\n",
       "    <tr>\n",
       "      <th>4</th>\n",
       "      <td>red</td>\n",
       "      <td>color</td>\n",
       "    </tr>\n",
       "  </tbody>\n",
       "</table>\n",
       "</div>"
      ],
      "text/plain": [
       "    term aspect\n",
       "0  color  color\n",
       "1  black  color\n",
       "2  white  color\n",
       "3   blue  color\n",
       "4    red  color"
      ]
     },
     "execution_count": 139,
     "metadata": {},
     "output_type": "execute_result"
    }
   ],
   "source": [
    "temp = pd.DataFrame()\n",
    "temp['term'] = top_terms\n",
    "temp['aspect'] = term_aspect\n",
    "temp.head()"
   ]
  },
  {
   "cell_type": "code",
   "execution_count": 140,
   "metadata": {},
   "outputs": [
    {
     "data": {
      "text/plain": [
       "term\n",
       "craftsmanship    2\n",
       "workmanship      2\n",
       "market           1\n",
       "layout           1\n",
       "kitting          1\n",
       "                ..\n",
       "pink             1\n",
       "picking          1\n",
       "paint            1\n",
       "overpriced       1\n",
       "adjusting        1\n",
       "Length: 66, dtype: int64"
      ]
     },
     "execution_count": 140,
     "metadata": {},
     "output_type": "execute_result"
    }
   ],
   "source": [
    "temp.groupby(temp.term).size().sort_values(ascending=False)"
   ]
  },
  {
   "cell_type": "code",
   "execution_count": 141,
   "metadata": {},
   "outputs": [
    {
     "data": {
      "text/html": [
       "<div>\n",
       "<style scoped>\n",
       "    .dataframe tbody tr th:only-of-type {\n",
       "        vertical-align: middle;\n",
       "    }\n",
       "\n",
       "    .dataframe tbody tr th {\n",
       "        vertical-align: top;\n",
       "    }\n",
       "\n",
       "    .dataframe thead th {\n",
       "        text-align: right;\n",
       "    }\n",
       "</style>\n",
       "<table border=\"1\" class=\"dataframe\">\n",
       "  <thead>\n",
       "    <tr style=\"text-align: right;\">\n",
       "      <th></th>\n",
       "      <th>term</th>\n",
       "      <th>aspect</th>\n",
       "    </tr>\n",
       "  </thead>\n",
       "  <tbody>\n",
       "    <tr>\n",
       "      <th>16</th>\n",
       "      <td>workmanship</td>\n",
       "      <td>design</td>\n",
       "    </tr>\n",
       "    <tr>\n",
       "      <th>17</th>\n",
       "      <td>craftsmanship</td>\n",
       "      <td>design</td>\n",
       "    </tr>\n",
       "    <tr>\n",
       "      <th>49</th>\n",
       "      <td>workmanship</td>\n",
       "      <td>quality</td>\n",
       "    </tr>\n",
       "    <tr>\n",
       "      <th>51</th>\n",
       "      <td>craftsmanship</td>\n",
       "      <td>quality</td>\n",
       "    </tr>\n",
       "  </tbody>\n",
       "</table>\n",
       "</div>"
      ],
      "text/plain": [
       "             term   aspect\n",
       "16    workmanship   design\n",
       "17  craftsmanship   design\n",
       "49    workmanship  quality\n",
       "51  craftsmanship  quality"
      ]
     },
     "execution_count": 141,
     "metadata": {},
     "output_type": "execute_result"
    }
   ],
   "source": [
    "temp[(temp.term == 'craftsmanship') | (temp.term == 'workmanship')]"
   ]
  },
  {
   "cell_type": "code",
   "execution_count": 142,
   "metadata": {},
   "outputs": [
    {
     "data": {
      "text/plain": [
       "(0.47201687, 0.4499731)"
      ]
     },
     "execution_count": 142,
     "metadata": {},
     "output_type": "execute_result"
    }
   ],
   "source": [
    "wv.similarity('workmanship', 'design'), wv.similarity('workmanship', 'quality')"
   ]
  },
  {
   "cell_type": "code",
   "execution_count": 143,
   "metadata": {},
   "outputs": [
    {
     "data": {
      "text/plain": [
       "(0.45257074, 0.41578835)"
      ]
     },
     "execution_count": 143,
     "metadata": {},
     "output_type": "execute_result"
    }
   ],
   "source": [
    "wv.similarity('craftsmanship', 'design'), wv.similarity('craftsmanship', 'quality')"
   ]
  },
  {
   "cell_type": "code",
   "execution_count": 144,
   "metadata": {},
   "outputs": [],
   "source": [
    "temp = temp.drop(index=[49, 51])\n",
    "top_terms = list(temp.term)\n",
    "term_aspect = list(temp.aspect)"
   ]
  },
  {
   "cell_type": "code",
   "execution_count": 147,
   "metadata": {},
   "outputs": [
    {
     "data": {
      "text/html": [
       "<div>\n",
       "<style scoped>\n",
       "    .dataframe tbody tr th:only-of-type {\n",
       "        vertical-align: middle;\n",
       "    }\n",
       "\n",
       "    .dataframe tbody tr th {\n",
       "        vertical-align: top;\n",
       "    }\n",
       "\n",
       "    .dataframe thead th {\n",
       "        text-align: right;\n",
       "    }\n",
       "</style>\n",
       "<table border=\"1\" class=\"dataframe\">\n",
       "  <thead>\n",
       "    <tr style=\"text-align: right;\">\n",
       "      <th></th>\n",
       "      <th>0</th>\n",
       "      <th>1</th>\n",
       "      <th>aspect</th>\n",
       "    </tr>\n",
       "  </thead>\n",
       "  <tbody>\n",
       "    <tr>\n",
       "      <th>color</th>\n",
       "      <td>1.294417</td>\n",
       "      <td>0.041136</td>\n",
       "      <td>color</td>\n",
       "    </tr>\n",
       "    <tr>\n",
       "      <th>black</th>\n",
       "      <td>1.145243</td>\n",
       "      <td>-0.651380</td>\n",
       "      <td>color</td>\n",
       "    </tr>\n",
       "    <tr>\n",
       "      <th>white</th>\n",
       "      <td>1.199676</td>\n",
       "      <td>-0.689129</td>\n",
       "      <td>color</td>\n",
       "    </tr>\n",
       "    <tr>\n",
       "      <th>blue</th>\n",
       "      <td>1.534748</td>\n",
       "      <td>-0.725898</td>\n",
       "      <td>color</td>\n",
       "    </tr>\n",
       "    <tr>\n",
       "      <th>red</th>\n",
       "      <td>1.372235</td>\n",
       "      <td>-0.911072</td>\n",
       "      <td>color</td>\n",
       "    </tr>\n",
       "  </tbody>\n",
       "</table>\n",
       "</div>"
      ],
      "text/plain": [
       "              0         1 aspect\n",
       "color  1.294417  0.041136  color\n",
       "black  1.145243 -0.651380  color\n",
       "white  1.199676 -0.689129  color\n",
       "blue   1.534748 -0.725898  color\n",
       "red    1.372235 -0.911072  color"
      ]
     },
     "execution_count": 147,
     "metadata": {},
     "output_type": "execute_result"
    }
   ],
   "source": [
    "from sklearn.decomposition import PCA\n",
    "\n",
    "# instantiate a PCA object\n",
    "pca = PCA(n_components=2)\n",
    "\n",
    "# fit and transform 300 features to 2 principle components\n",
    "top_terms_pca = pca.fit_transform(wv[top_terms])\n",
    "\n",
    "# create a dataframe for visualization\n",
    "df_pca = pd.DataFrame(top_terms_pca, index=top_terms)\n",
    "df_pca['aspect'] = term_aspect\n",
    "\n",
    "df_pca.head()"
   ]
  },
  {
   "cell_type": "code",
   "execution_count": 149,
   "metadata": {
    "scrolled": true
   },
   "outputs": [
    {
     "data": {
      "image/png": "[encoded data removed]",
      "text/plain": [
       "<Figure size 1080x720 with 1 Axes>"
      ]
     },
     "metadata": {
      "needs_background": "light"
     },
     "output_type": "display_data"
    }
   ],
   "source": [
    "import matplotlib.pyplot as plt\n",
    "import seaborn as sns\n",
    "\n",
    "plt.figure(figsize=(15,10))\n",
    "\n",
    "# scatter plot for each aspect term\n",
    "sns.scatterplot(x=df_pca[0], y=df_pca[1], hue=df_pca['aspect'], palette=[\"C0\", \"C1\", \"C2\", \"C3\", \"C4\", \"C5\"], s=100)\n",
    "\n",
    "# scatter plot for each aspect\n",
    "sns.scatterplot(x=df_pca.loc[aspects][0], y=df_pca.loc[aspects][1], \n",
    "                hue=df_pca.loc[aspects]['aspect'], palette=[\"C0\", \"C1\", \"C2\", \"C3\", \"C4\", \"C5\"], \n",
    "                marker='X', s=400, legend=None)\n",
    "\n",
    "# plt.legend(loc='lower right')\n",
    "plt.xlabel(\"PC1\")\n",
    "plt.ylabel(\"PC2\")\n",
    "plt.title(\"Word Embedding Space\")\n",
    "\n",
    "for term in top_terms:\n",
    "    plt.annotate(term, xy=(df_pca.loc[term][0], df_pca.loc[term][1]),\n",
    "                 xytext=(df_pca.loc[term][0]+0.03, df_pca.loc[term][1]))"
   ]
  },
  {
   "cell_type": "code",
   "execution_count": null,
   "metadata": {},
   "outputs": [],
   "source": []
  }
 ],
 "metadata": {
  "kernelspec": {
   "display_name": "Python 3",
   "language": "python",
   "name": "python3"
  },
  "language_info": {
   "codemirror_mode": {
    "name": "ipython",
    "version": 3
   },
   "file_extension": ".py",
   "mimetype": "text/x-python",
   "name": "python",
   "nbconvert_exporter": "python",
   "pygments_lexer": "ipython3",
   "version": "3.7.6"
  }
 },
 "nbformat": 4,
 "nbformat_minor": 4
}
