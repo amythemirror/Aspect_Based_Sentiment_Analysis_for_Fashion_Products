{
  "nbformat": 4,
  "nbformat_minor": 0,
  "metadata": {
    "kernelspec": {
      "display_name": "Python 3",
      "language": "python",
      "name": "python3"
    },
    "language_info": {
      "codemirror_mode": {
        "name": "ipython",
        "version": 3
      },
      "file_extension": ".py",
      "mimetype": "text/x-python",
      "name": "python",
      "nbconvert_exporter": "python",
      "pygments_lexer": "ipython3",
      "version": "3.7.6"
    },
    "colab": {
      "name": "Sentiment Analysis - LSTM - Input Length 74.ipynb",
      "provenance": [],
      "collapsed_sections": [],
      "toc_visible": true,
      "machine_shape": "hm",
      "include_colab_link": true
    },
    "accelerator": "GPU"
  },
  "cells": [
    {
      "cell_type": "markdown",
      "metadata": {
        "id": "view-in-github",
        "colab_type": "text"
      },
      "source": [
        "<a href=\"https://colab.research.google.com/github/amythemirror/Springboard-Capstone-Three/blob/main/Sentiment_Analysis_LSTM_Input_Length_74.ipynb\" target=\"_parent\"><img src=\"https://colab.research.google.com/assets/colab-badge.svg\" alt=\"Open In Colab\"/></a>"
      ]
    },
    {
      "cell_type": "markdown",
      "metadata": {
        "id": "q84F3BcIjGuB"
      },
      "source": [
        "# Mount Google Drive"
      ]
    },
    {
      "cell_type": "code",
      "metadata": {
        "colab": {
          "base_uri": "https://localhost:8080/"
        },
        "id": "HDZ2CDyowm6_",
        "outputId": "e52aa822-53a3-412d-d247-fbdf4c335474"
      },
      "source": [
        "from google.colab import drive\r\n",
        "drive.mount('/content/drive')"
      ],
      "execution_count": 1,
      "outputs": [
        {
          "output_type": "stream",
          "text": [
            "Mounted at /content/drive\n"
          ],
          "name": "stdout"
        }
      ]
    },
    {
      "cell_type": "markdown",
      "metadata": {
        "id": "evOrjYsubWwW"
      },
      "source": [
        "# Load Data"
      ]
    },
    {
      "cell_type": "code",
      "metadata": {
        "colab": {
          "base_uri": "https://localhost:8080/",
          "height": 195
        },
        "id": "JULUtrb0GW4G",
        "outputId": "683bfe76-6040-4356-92f7-ddafd7c39301"
      },
      "source": [
        "import numpy as np\r\n",
        "import pandas as pd\r\n",
        "from ast import literal_eval\r\n",
        "\r\n",
        "df = pd.read_csv('/content/drive/MyDrive/Springboard/Capstone Three/data_wrangling.csv',\\\r\n",
        "                usecols=['reviewClean_sw', 'reviewLength', 'sentiment'],\\\r\n",
        "                converters={'reviewClean_sw': literal_eval})\r\n",
        "df.head()"
      ],
      "execution_count": 2,
      "outputs": [
        {
          "output_type": "execute_result",
          "data": {
            "text/html": [
              "<div>\n",
              "<style scoped>\n",
              "    .dataframe tbody tr th:only-of-type {\n",
              "        vertical-align: middle;\n",
              "    }\n",
              "\n",
              "    .dataframe tbody tr th {\n",
              "        vertical-align: top;\n",
              "    }\n",
              "\n",
              "    .dataframe thead th {\n",
              "        text-align: right;\n",
              "    }\n",
              "</style>\n",
              "<table border=\"1\" class=\"dataframe\">\n",
              "  <thead>\n",
              "    <tr style=\"text-align: right;\">\n",
              "      <th></th>\n",
              "      <th>reviewClean_sw</th>\n",
              "      <th>reviewLength</th>\n",
              "      <th>sentiment</th>\n",
              "    </tr>\n",
              "  </thead>\n",
              "  <tbody>\n",
              "    <tr>\n",
              "      <th>0</th>\n",
              "      <td>[exactly, what, i, need, .]</td>\n",
              "      <td>5</td>\n",
              "      <td>Positive</td>\n",
              "    </tr>\n",
              "    <tr>\n",
              "      <th>1</th>\n",
              "      <td>[i, agree, with, the, other, review, ,, the, o...</td>\n",
              "      <td>52</td>\n",
              "      <td>Negative</td>\n",
              "    </tr>\n",
              "    <tr>\n",
              "      <th>2</th>\n",
              "      <td>[love, these, ..., i, be, go, to, order, anoth...</td>\n",
              "      <td>54</td>\n",
              "      <td>Positive</td>\n",
              "    </tr>\n",
              "    <tr>\n",
              "      <th>3</th>\n",
              "      <td>[too, tiny, an, opening]</td>\n",
              "      <td>4</td>\n",
              "      <td>Negative</td>\n",
              "    </tr>\n",
              "    <tr>\n",
              "      <th>4</th>\n",
              "      <td>[okay]</td>\n",
              "      <td>1</td>\n",
              "      <td>Neutral</td>\n",
              "    </tr>\n",
              "  </tbody>\n",
              "</table>\n",
              "</div>"
            ],
            "text/plain": [
              "                                      reviewClean_sw  reviewLength sentiment\n",
              "0                        [exactly, what, i, need, .]             5  Positive\n",
              "1  [i, agree, with, the, other, review, ,, the, o...            52  Negative\n",
              "2  [love, these, ..., i, be, go, to, order, anoth...            54  Positive\n",
              "3                           [too, tiny, an, opening]             4  Negative\n",
              "4                                             [okay]             1   Neutral"
            ]
          },
          "metadata": {
            "tags": []
          },
          "execution_count": 2
        }
      ]
    },
    {
      "cell_type": "code",
      "metadata": {
        "colab": {
          "base_uri": "https://localhost:8080/"
        },
        "id": "FqxjN_01MnNa",
        "outputId": "984679d3-d16b-4a2b-a295-8f6deaabb117"
      },
      "source": [
        "df.shape"
      ],
      "execution_count": 3,
      "outputs": [
        {
          "output_type": "execute_result",
          "data": {
            "text/plain": [
              "(852589, 3)"
            ]
          },
          "metadata": {
            "tags": []
          },
          "execution_count": 3
        }
      ]
    },
    {
      "cell_type": "code",
      "metadata": {
        "colab": {
          "base_uri": "https://localhost:8080/"
        },
        "id": "CI2CTizJHA3l",
        "outputId": "6ff5bc50-c245-40ba-a583-2e55a09380f6"
      },
      "source": [
        "# compute 90% percentile for review length\r\n",
        "df.reviewLength.quantile(q=0.9)"
      ],
      "execution_count": 4,
      "outputs": [
        {
          "output_type": "execute_result",
          "data": {
            "text/plain": [
              "74.0"
            ]
          },
          "metadata": {
            "tags": []
          },
          "execution_count": 4
        }
      ]
    },
    {
      "cell_type": "code",
      "metadata": {
        "colab": {
          "base_uri": "https://localhost:8080/",
          "height": 195
        },
        "id": "0A-Qk2G2HkuH",
        "outputId": "425c86c9-6c30-4100-a459-ad8d9e78a2f8"
      },
      "source": [
        "from sklearn.model_selection import train_test_split\r\n",
        "\r\n",
        "# take 25% of the data to train model\r\n",
        "_, df_sample = train_test_split(df, test_size=0.25, random_state=42)\r\n",
        "df_sample.head()"
      ],
      "execution_count": 5,
      "outputs": [
        {
          "output_type": "execute_result",
          "data": {
            "text/html": [
              "<div>\n",
              "<style scoped>\n",
              "    .dataframe tbody tr th:only-of-type {\n",
              "        vertical-align: middle;\n",
              "    }\n",
              "\n",
              "    .dataframe tbody tr th {\n",
              "        vertical-align: top;\n",
              "    }\n",
              "\n",
              "    .dataframe thead th {\n",
              "        text-align: right;\n",
              "    }\n",
              "</style>\n",
              "<table border=\"1\" class=\"dataframe\">\n",
              "  <thead>\n",
              "    <tr style=\"text-align: right;\">\n",
              "      <th></th>\n",
              "      <th>reviewClean_sw</th>\n",
              "      <th>reviewLength</th>\n",
              "      <th>sentiment</th>\n",
              "    </tr>\n",
              "  </thead>\n",
              "  <tbody>\n",
              "    <tr>\n",
              "      <th>717508</th>\n",
              "      <td>[way, ,, way, ,, way, too, small, ., it, be, l...</td>\n",
              "      <td>24</td>\n",
              "      <td>Negative</td>\n",
              "    </tr>\n",
              "    <tr>\n",
              "      <th>766819</th>\n",
              "      <td>[i, be, a, 34b, the, strap, be, adjustable, an...</td>\n",
              "      <td>29</td>\n",
              "      <td>Positive</td>\n",
              "    </tr>\n",
              "    <tr>\n",
              "      <th>320423</th>\n",
              "      <td>[the, dress, be, large, in, the, waist, and, t...</td>\n",
              "      <td>36</td>\n",
              "      <td>Positive</td>\n",
              "    </tr>\n",
              "    <tr>\n",
              "      <th>848277</th>\n",
              "      <td>[jean, fit, well, but, notice, about, flammabi...</td>\n",
              "      <td>18</td>\n",
              "      <td>Neutral</td>\n",
              "    </tr>\n",
              "    <tr>\n",
              "      <th>790409</th>\n",
              "      <td>[stylish, and, well, make, ., true, to, size, ...</td>\n",
              "      <td>21</td>\n",
              "      <td>Positive</td>\n",
              "    </tr>\n",
              "  </tbody>\n",
              "</table>\n",
              "</div>"
            ],
            "text/plain": [
              "                                           reviewClean_sw  ...  sentiment\n",
              "717508  [way, ,, way, ,, way, too, small, ., it, be, l...  ...   Negative\n",
              "766819  [i, be, a, 34b, the, strap, be, adjustable, an...  ...   Positive\n",
              "320423  [the, dress, be, large, in, the, waist, and, t...  ...   Positive\n",
              "848277  [jean, fit, well, but, notice, about, flammabi...  ...    Neutral\n",
              "790409  [stylish, and, well, make, ., true, to, size, ...  ...   Positive\n",
              "\n",
              "[5 rows x 3 columns]"
            ]
          },
          "metadata": {
            "tags": []
          },
          "execution_count": 5
        }
      ]
    },
    {
      "cell_type": "code",
      "metadata": {
        "colab": {
          "base_uri": "https://localhost:8080/"
        },
        "id": "U8SVF1pfIvGI",
        "outputId": "79154fe6-46a7-4748-9962-dacbb3e77980"
      },
      "source": [
        "X = df_sample['reviewClean_sw'].values\r\n",
        "y = df_sample['sentiment'].values\r\n",
        "\r\n",
        "X, y"
      ],
      "execution_count": 6,
      "outputs": [
        {
          "output_type": "execute_result",
          "data": {
            "text/plain": [
              "(array([list(['way', ',', 'way', ',', 'way', 'too', 'small', '.', 'it', 'be', 'lable', 'as', 'an', 'xxl', 'and', 'fit', 'like', 'a', 'large', 'at', 'good', '.', 'beware', '.']),\n",
              "        list(['i', 'be', 'a', '34b', 'the', 'strap', 'be', 'adjustable', 'and', 'you', 'can', 'not', 'see', 'the', 'nipple', 'through', 'the', 'shirt', 'which', 'be', 'great', '.', 'i', 'purchase', 'a', 'medium', '.', 'great', 'buy']),\n",
              "        list(['the', 'dress', 'be', 'large', 'in', 'the', 'waist', 'and', 'the', 'slit', 'be', 'very', 'high', '(', 'do', 'not', 'sit', 'down', ')', '.', 'once', 'i', 'have', 'it', 'tailor', 'and', 'the', 'slit', 'closed', ',', 'it', 'be', 'a', 'beautiful', 'dress', '!']),\n",
              "        ...,\n",
              "        list(['not', 'bad', 'for', 'price', '.', 'start', 'turn', 'color', 'on', 'metal']),\n",
              "        list(['disappoint', 'in', 'this', 'hat', '!', 'we', 'buy', 'it', '3', 'month', 'ago', 'and', 'my', 'son', 'wear', 'it', '5', 'time', '.', 'it', 'be', 'great', 'when', 'he', 'wear', 'it', ',', 'but', 'somehow', 'one', 'of', 'the', 'string', 'get', 'lose', 'in', 'the', 'hat', 'so', 'now', 'i', 'can', 'not', 'tighten', 'it', '.', 'it', 'be', 'way', 'too', 'big', 'without', 'the', 'option', 'to', 'tighten', 'it', '.', ':(']),\n",
              "        list(['a', 'terrific', 'value', '.', 'lovely', 'warm', 'and', 'cozy', 'vest', 'with', 'great', 'style', '.', 'cut', 'in', 'a', 'trim', 'fashion', ',', 'order', 'a', 'large', 'size', 'than', 'normal', 'as', 'it', 'be', 'make', 'in', 'china', 'for', 'small', 'stature', '.'])],\n",
              "       dtype=object),\n",
              " array(['Negative', 'Positive', 'Positive', ..., 'Positive', 'Negative',\n",
              "        'Positive'], dtype=object))"
            ]
          },
          "metadata": {
            "tags": []
          },
          "execution_count": 6
        }
      ]
    },
    {
      "cell_type": "code",
      "metadata": {
        "id": "hKH5gOFAxwwh"
      },
      "source": [
        "def convert_list_to_string(org_list, seperator=' '):\r\n",
        "    \"\"\" Convert list to string, by joining all item in list with given separator.\r\n",
        "        Returns the concatenated string \"\"\"\r\n",
        "    return seperator.join(org_list)\r\n",
        "\r\n",
        "X = [convert_list_to_string(tokens) for tokens in X]"
      ],
      "execution_count": 7,
      "outputs": []
    },
    {
      "cell_type": "code",
      "metadata": {
        "id": "pFn-7nO9yPbL"
      },
      "source": [
        "from sklearn.model_selection import train_test_split\r\n",
        "\r\n",
        "X_train, X_test, y_train, y_test = train_test_split(X, y, train_size=0.8, stratify=y, random_state=42)"
      ],
      "execution_count": 8,
      "outputs": []
    },
    {
      "cell_type": "markdown",
      "metadata": {
        "id": "fGFJEC63bhHO"
      },
      "source": [
        "# Feature Engineering"
      ]
    },
    {
      "cell_type": "code",
      "metadata": {
        "colab": {
          "base_uri": "https://localhost:8080/"
        },
        "id": "QIqfbhDyyYBX",
        "outputId": "bf956dcb-f2aa-40a4-9e7b-a0e9c6f4f436"
      },
      "source": [
        "import gensim.downloader as api\r\n",
        "\r\n",
        "# load gensim pretrained w2v model\r\n",
        "wv = api.load('word2vec-google-news-300')"
      ],
      "execution_count": 9,
      "outputs": [
        {
          "output_type": "stream",
          "text": [
            "[==================================================] 100.0% 1662.8/1662.8MB downloaded\n"
          ],
          "name": "stdout"
        }
      ]
    },
    {
      "cell_type": "code",
      "metadata": {
        "id": "W0PvDdPRyZrI"
      },
      "source": [
        "from tqdm import tqdm\r\n",
        "\r\n",
        "# helper function to embed strings into w2v vectors\r\n",
        "def w2v_embedding(reviews):\r\n",
        "    review_vecs = []\r\n",
        "\r\n",
        "    for tokens in tqdm(reviews):\r\n",
        "        token_vecs = []\r\n",
        "        for token in tokens:\r\n",
        "            try:\r\n",
        "                token_vecs.append(wv[token])\r\n",
        "            except KeyError:\r\n",
        "                pass\r\n",
        "        review_vecs.append(token_vecs)\r\n",
        "    \r\n",
        "    return review_vecs"
      ],
      "execution_count": 10,
      "outputs": []
    },
    {
      "cell_type": "code",
      "metadata": {
        "colab": {
          "base_uri": "https://localhost:8080/"
        },
        "id": "QX76Devfyccp",
        "outputId": "05d7195c-d524-4607-9be4-3236d1efdce8"
      },
      "source": [
        "X_train = w2v_embedding(X_train)\r\n",
        "# X_test = w2v_embedding(X_test)"
      ],
      "execution_count": 11,
      "outputs": [
        {
          "output_type": "stream",
          "text": [
            "100%|██████████| 170518/170518 [00:30<00:00, 5529.43it/s]\n"
          ],
          "name": "stderr"
        }
      ]
    },
    {
      "cell_type": "code",
      "metadata": {
        "id": "2HxcynEkJk23"
      },
      "source": [
        "from keras.preprocessing import sequence\r\n",
        "from keras.utils import np_utils\r\n",
        "\r\n",
        "maxlen = 74\r\n",
        "\r\n",
        "X_train = sequence.pad_sequences(X_train, maxlen=maxlen, padding='post', truncating='post', dtype='float32')\r\n",
        "# X_test = sequence.pad_sequences(X_test, maxlen=maxlen, padding='post', truncating='post', dtype='float32')"
      ],
      "execution_count": 12,
      "outputs": []
    },
    {
      "cell_type": "code",
      "metadata": {
        "colab": {
          "base_uri": "https://localhost:8080/"
        },
        "id": "rL5eXdmFzD6W",
        "outputId": "6d6f52a0-9549-44bc-8214-522e02bcba65"
      },
      "source": [
        "from sklearn.preprocessing import LabelEncoder\r\n",
        "\r\n",
        "# encode text sentiment labels\r\n",
        "encoder = LabelEncoder()\r\n",
        "y_train = encoder.fit_transform(y_train)\r\n",
        "# y_test = encoder.transform(y_test)\r\n",
        "\r\n",
        "encoder.classes_"
      ],
      "execution_count": 13,
      "outputs": [
        {
          "output_type": "execute_result",
          "data": {
            "text/plain": [
              "array(['Negative', 'Neutral', 'Positive'], dtype=object)"
            ]
          },
          "metadata": {
            "tags": []
          },
          "execution_count": 13
        }
      ]
    },
    {
      "cell_type": "code",
      "metadata": {
        "id": "HwfHoZ_hzeUt"
      },
      "source": [
        "# one-hot encode y for lstm\r\n",
        "y_train = np_utils.to_categorical(y_train)"
      ],
      "execution_count": 14,
      "outputs": []
    },
    {
      "cell_type": "code",
      "metadata": {
        "colab": {
          "base_uri": "https://localhost:8080/"
        },
        "id": "K8sTcGebLlMb",
        "outputId": "648ad958-868b-4948-bf8f-a21f60248a43"
      },
      "source": [
        "!pip install attention"
      ],
      "execution_count": 15,
      "outputs": [
        {
          "output_type": "stream",
          "text": [
            "Collecting attention\n",
            "  Downloading https://files.pythonhosted.org/packages/2d/27/98d7350db36a3537e24c9ec488d893b71092037f5c74e8984d01e9c1d316/attention-3.0-py3-none-any.whl\n",
            "Requirement already satisfied: keras>=2.3.1 in /usr/local/lib/python3.7/dist-packages (from attention) (2.4.3)\n",
            "Requirement already satisfied: numpy>=1.18.1 in /usr/local/lib/python3.7/dist-packages (from attention) (1.19.5)\n",
            "Requirement already satisfied: tensorflow>=2.1 in /usr/local/lib/python3.7/dist-packages (from attention) (2.4.1)\n",
            "Requirement already satisfied: pyyaml in /usr/local/lib/python3.7/dist-packages (from keras>=2.3.1->attention) (3.13)\n",
            "Requirement already satisfied: scipy>=0.14 in /usr/local/lib/python3.7/dist-packages (from keras>=2.3.1->attention) (1.4.1)\n",
            "Requirement already satisfied: h5py in /usr/local/lib/python3.7/dist-packages (from keras>=2.3.1->attention) (2.10.0)\n",
            "Requirement already satisfied: keras-preprocessing~=1.1.2 in /usr/local/lib/python3.7/dist-packages (from tensorflow>=2.1->attention) (1.1.2)\n",
            "Requirement already satisfied: google-pasta~=0.2 in /usr/local/lib/python3.7/dist-packages (from tensorflow>=2.1->attention) (0.2.0)\n",
            "Requirement already satisfied: astunparse~=1.6.3 in /usr/local/lib/python3.7/dist-packages (from tensorflow>=2.1->attention) (1.6.3)\n",
            "Requirement already satisfied: protobuf>=3.9.2 in /usr/local/lib/python3.7/dist-packages (from tensorflow>=2.1->attention) (3.12.4)\n",
            "Requirement already satisfied: six~=1.15.0 in /usr/local/lib/python3.7/dist-packages (from tensorflow>=2.1->attention) (1.15.0)\n",
            "Requirement already satisfied: wrapt~=1.12.1 in /usr/local/lib/python3.7/dist-packages (from tensorflow>=2.1->attention) (1.12.1)\n",
            "Requirement already satisfied: tensorflow-estimator<2.5.0,>=2.4.0 in /usr/local/lib/python3.7/dist-packages (from tensorflow>=2.1->attention) (2.4.0)\n",
            "Requirement already satisfied: wheel~=0.35 in /usr/local/lib/python3.7/dist-packages (from tensorflow>=2.1->attention) (0.36.2)\n",
            "Requirement already satisfied: termcolor~=1.1.0 in /usr/local/lib/python3.7/dist-packages (from tensorflow>=2.1->attention) (1.1.0)\n",
            "Requirement already satisfied: grpcio~=1.32.0 in /usr/local/lib/python3.7/dist-packages (from tensorflow>=2.1->attention) (1.32.0)\n",
            "Requirement already satisfied: typing-extensions~=3.7.4 in /usr/local/lib/python3.7/dist-packages (from tensorflow>=2.1->attention) (3.7.4.3)\n",
            "Requirement already satisfied: opt-einsum~=3.3.0 in /usr/local/lib/python3.7/dist-packages (from tensorflow>=2.1->attention) (3.3.0)\n",
            "Requirement already satisfied: flatbuffers~=1.12.0 in /usr/local/lib/python3.7/dist-packages (from tensorflow>=2.1->attention) (1.12)\n",
            "Requirement already satisfied: absl-py~=0.10 in /usr/local/lib/python3.7/dist-packages (from tensorflow>=2.1->attention) (0.10.0)\n",
            "Requirement already satisfied: tensorboard~=2.4 in /usr/local/lib/python3.7/dist-packages (from tensorflow>=2.1->attention) (2.4.1)\n",
            "Requirement already satisfied: gast==0.3.3 in /usr/local/lib/python3.7/dist-packages (from tensorflow>=2.1->attention) (0.3.3)\n",
            "Requirement already satisfied: setuptools in /usr/local/lib/python3.7/dist-packages (from protobuf>=3.9.2->tensorflow>=2.1->attention) (54.0.0)\n",
            "Requirement already satisfied: werkzeug>=0.11.15 in /usr/local/lib/python3.7/dist-packages (from tensorboard~=2.4->tensorflow>=2.1->attention) (1.0.1)\n",
            "Requirement already satisfied: tensorboard-plugin-wit>=1.6.0 in /usr/local/lib/python3.7/dist-packages (from tensorboard~=2.4->tensorflow>=2.1->attention) (1.8.0)\n",
            "Requirement already satisfied: google-auth-oauthlib<0.5,>=0.4.1 in /usr/local/lib/python3.7/dist-packages (from tensorboard~=2.4->tensorflow>=2.1->attention) (0.4.3)\n",
            "Requirement already satisfied: google-auth<2,>=1.6.3 in /usr/local/lib/python3.7/dist-packages (from tensorboard~=2.4->tensorflow>=2.1->attention) (1.27.1)\n",
            "Requirement already satisfied: requests<3,>=2.21.0 in /usr/local/lib/python3.7/dist-packages (from tensorboard~=2.4->tensorflow>=2.1->attention) (2.23.0)\n",
            "Requirement already satisfied: markdown>=2.6.8 in /usr/local/lib/python3.7/dist-packages (from tensorboard~=2.4->tensorflow>=2.1->attention) (3.3.4)\n",
            "Requirement already satisfied: requests-oauthlib>=0.7.0 in /usr/local/lib/python3.7/dist-packages (from google-auth-oauthlib<0.5,>=0.4.1->tensorboard~=2.4->tensorflow>=2.1->attention) (1.3.0)\n",
            "Requirement already satisfied: rsa<5,>=3.1.4; python_version >= \"3.6\" in /usr/local/lib/python3.7/dist-packages (from google-auth<2,>=1.6.3->tensorboard~=2.4->tensorflow>=2.1->attention) (4.7.2)\n",
            "Requirement already satisfied: pyasn1-modules>=0.2.1 in /usr/local/lib/python3.7/dist-packages (from google-auth<2,>=1.6.3->tensorboard~=2.4->tensorflow>=2.1->attention) (0.2.8)\n",
            "Requirement already satisfied: cachetools<5.0,>=2.0.0 in /usr/local/lib/python3.7/dist-packages (from google-auth<2,>=1.6.3->tensorboard~=2.4->tensorflow>=2.1->attention) (4.2.1)\n",
            "Requirement already satisfied: idna<3,>=2.5 in /usr/local/lib/python3.7/dist-packages (from requests<3,>=2.21.0->tensorboard~=2.4->tensorflow>=2.1->attention) (2.10)\n",
            "Requirement already satisfied: chardet<4,>=3.0.2 in /usr/local/lib/python3.7/dist-packages (from requests<3,>=2.21.0->tensorboard~=2.4->tensorflow>=2.1->attention) (3.0.4)\n",
            "Requirement already satisfied: urllib3!=1.25.0,!=1.25.1,<1.26,>=1.21.1 in /usr/local/lib/python3.7/dist-packages (from requests<3,>=2.21.0->tensorboard~=2.4->tensorflow>=2.1->attention) (1.24.3)\n",
            "Requirement already satisfied: certifi>=2017.4.17 in /usr/local/lib/python3.7/dist-packages (from requests<3,>=2.21.0->tensorboard~=2.4->tensorflow>=2.1->attention) (2020.12.5)\n",
            "Requirement already satisfied: importlib-metadata; python_version < \"3.8\" in /usr/local/lib/python3.7/dist-packages (from markdown>=2.6.8->tensorboard~=2.4->tensorflow>=2.1->attention) (3.7.0)\n",
            "Requirement already satisfied: oauthlib>=3.0.0 in /usr/local/lib/python3.7/dist-packages (from requests-oauthlib>=0.7.0->google-auth-oauthlib<0.5,>=0.4.1->tensorboard~=2.4->tensorflow>=2.1->attention) (3.1.0)\n",
            "Requirement already satisfied: pyasn1>=0.1.3 in /usr/local/lib/python3.7/dist-packages (from rsa<5,>=3.1.4; python_version >= \"3.6\"->google-auth<2,>=1.6.3->tensorboard~=2.4->tensorflow>=2.1->attention) (0.4.8)\n",
            "Requirement already satisfied: zipp>=0.5 in /usr/local/lib/python3.7/dist-packages (from importlib-metadata; python_version < \"3.8\"->markdown>=2.6.8->tensorboard~=2.4->tensorflow>=2.1->attention) (3.4.1)\n",
            "Installing collected packages: attention\n",
            "Successfully installed attention-3.0\n"
          ],
          "name": "stdout"
        }
      ]
    },
    {
      "cell_type": "code",
      "metadata": {
        "id": "kyftjyY9vgVN"
      },
      "source": [
        "maxlen = 74\r\n",
        "batch_size = 32\r\n",
        "embedding_dims = 300\r\n",
        "epochs = 100"
      ],
      "execution_count": 16,
      "outputs": []
    },
    {
      "cell_type": "markdown",
      "metadata": {
        "id": "9K0xMlepbE0G"
      },
      "source": [
        "## 50 neurons"
      ]
    },
    {
      "cell_type": "code",
      "metadata": {
        "id": "2zFy9duzbIPk"
      },
      "source": [
        "from attention import Attention\r\n",
        "from keras.models import Sequential\r\n",
        "from keras.layers import Flatten, Dense, Embedding, Dropout\r\n",
        "from keras.layers import LSTM\r\n",
        "from keras.layers import Bidirectional\r\n",
        "\r\n",
        "num_neurons = 50\r\n",
        "\r\n",
        "model = Sequential()\r\n",
        "model.add(Bidirectional(LSTM(num_neurons, return_sequences=True,\r\n",
        "               input_shape=(maxlen, embedding_dims))))\r\n",
        "model.add(Attention(name='attention_weight'))\r\n",
        "model.add(Dropout(.2))\r\n",
        "model.add(Dense(3, activation='softmax'))\r\n",
        "\r\n",
        "model.compile('rmsprop', 'categorical_crossentropy',  metrics=['accuracy'])"
      ],
      "execution_count": 28,
      "outputs": []
    },
    {
      "cell_type": "code",
      "metadata": {
        "id": "5dvLt6hmbIPk"
      },
      "source": [
        "from keras.callbacks import EarlyStopping\r\n",
        "from keras.callbacks import ModelCheckpoint\r\n",
        "\r\n",
        "# patient early stopping\r\n",
        "es = EarlyStopping(monitor='val_loss', mode='min', verbose=1, patience=20)\r\n",
        "\r\n",
        "# save the model with the best accuracy on the test dataset\r\n",
        "mc = ModelCheckpoint('/content/drive/MyDrive/Springboard/Capstone Three/LSTM/attention_model_longinput_50neuron.h5', monitor='val_accuracy', mode='max', verbose=1, save_best_only=True)"
      ],
      "execution_count": 29,
      "outputs": []
    },
    {
      "cell_type": "code",
      "metadata": {
        "colab": {
          "base_uri": "https://localhost:8080/"
        },
        "id": "VvrCvvgabIPl",
        "outputId": "678e7de3-6b57-4694-976f-116c8be10948"
      },
      "source": [
        "hist = model.fit(X_train, y_train,\r\n",
        "                 batch_size=batch_size,\r\n",
        "                 epochs=epochs,\r\n",
        "                 callbacks=[mc, es],\r\n",
        "                 validation_split=0.1)"
      ],
      "execution_count": 30,
      "outputs": [
        {
          "output_type": "stream",
          "text": [
            "Epoch 1/100\n",
            "4796/4796 [==============================] - 72s 14ms/step - loss: 0.6951 - accuracy: 0.7308 - val_loss: 0.5445 - val_accuracy: 0.7821\n",
            "\n",
            "Epoch 00001: val_accuracy improved from -inf to 0.78208, saving model to /content/drive/MyDrive/Springboard/Capstone Three/LSTM/attention_model_longinput_50neuron.h5\n",
            "Epoch 2/100\n",
            "4796/4796 [==============================] - 68s 14ms/step - loss: 0.5319 - accuracy: 0.7917 - val_loss: 0.5291 - val_accuracy: 0.7892\n",
            "\n",
            "Epoch 00002: val_accuracy improved from 0.78208 to 0.78917, saving model to /content/drive/MyDrive/Springboard/Capstone Three/LSTM/attention_model_longinput_50neuron.h5\n",
            "Epoch 3/100\n",
            "4796/4796 [==============================] - 68s 14ms/step - loss: 0.5004 - accuracy: 0.8040 - val_loss: 0.5168 - val_accuracy: 0.7922\n",
            "\n",
            "Epoch 00003: val_accuracy improved from 0.78917 to 0.79217, saving model to /content/drive/MyDrive/Springboard/Capstone Three/LSTM/attention_model_longinput_50neuron.h5\n",
            "Epoch 4/100\n",
            "4796/4796 [==============================] - 68s 14ms/step - loss: 0.4790 - accuracy: 0.8121 - val_loss: 0.4944 - val_accuracy: 0.8047\n",
            "\n",
            "Epoch 00004: val_accuracy improved from 0.79217 to 0.80466, saving model to /content/drive/MyDrive/Springboard/Capstone Three/LSTM/attention_model_longinput_50neuron.h5\n",
            "Epoch 5/100\n",
            "4796/4796 [==============================] - 69s 14ms/step - loss: 0.4656 - accuracy: 0.8162 - val_loss: 0.4935 - val_accuracy: 0.8068\n",
            "\n",
            "Epoch 00005: val_accuracy improved from 0.80466 to 0.80683, saving model to /content/drive/MyDrive/Springboard/Capstone Three/LSTM/attention_model_longinput_50neuron.h5\n",
            "Epoch 6/100\n",
            "4796/4796 [==============================] - 69s 14ms/step - loss: 0.4557 - accuracy: 0.8209 - val_loss: 0.4941 - val_accuracy: 0.8091\n",
            "\n",
            "Epoch 00006: val_accuracy improved from 0.80683 to 0.80911, saving model to /content/drive/MyDrive/Springboard/Capstone Three/LSTM/attention_model_longinput_50neuron.h5\n",
            "Epoch 7/100\n",
            "4796/4796 [==============================] - 69s 14ms/step - loss: 0.4451 - accuracy: 0.8255 - val_loss: 0.4789 - val_accuracy: 0.8112\n",
            "\n",
            "Epoch 00007: val_accuracy improved from 0.80911 to 0.81122, saving model to /content/drive/MyDrive/Springboard/Capstone Three/LSTM/attention_model_longinput_50neuron.h5\n",
            "Epoch 8/100\n",
            "4796/4796 [==============================] - 69s 14ms/step - loss: 0.4385 - accuracy: 0.8288 - val_loss: 0.4801 - val_accuracy: 0.8112\n",
            "\n",
            "Epoch 00008: val_accuracy did not improve from 0.81122\n",
            "Epoch 9/100\n",
            "4796/4796 [==============================] - 68s 14ms/step - loss: 0.4261 - accuracy: 0.8325 - val_loss: 0.4902 - val_accuracy: 0.8127\n",
            "\n",
            "Epoch 00009: val_accuracy improved from 0.81122 to 0.81275, saving model to /content/drive/MyDrive/Springboard/Capstone Three/LSTM/attention_model_longinput_50neuron.h5\n",
            "Epoch 10/100\n",
            "4796/4796 [==============================] - 69s 14ms/step - loss: 0.4236 - accuracy: 0.8351 - val_loss: 0.4820 - val_accuracy: 0.8120\n",
            "\n",
            "Epoch 00010: val_accuracy did not improve from 0.81275\n",
            "Epoch 11/100\n",
            "4796/4796 [==============================] - 68s 14ms/step - loss: 0.4201 - accuracy: 0.8355 - val_loss: 0.4851 - val_accuracy: 0.8123\n",
            "\n",
            "Epoch 00011: val_accuracy did not improve from 0.81275\n",
            "Epoch 12/100\n",
            "4796/4796 [==============================] - 69s 14ms/step - loss: 0.4118 - accuracy: 0.8403 - val_loss: 0.4913 - val_accuracy: 0.8108\n",
            "\n",
            "Epoch 00012: val_accuracy did not improve from 0.81275\n",
            "Epoch 13/100\n",
            "4796/4796 [==============================] - 69s 14ms/step - loss: 0.4098 - accuracy: 0.8408 - val_loss: 0.4814 - val_accuracy: 0.8143\n",
            "\n",
            "Epoch 00013: val_accuracy improved from 0.81275 to 0.81433, saving model to /content/drive/MyDrive/Springboard/Capstone Three/LSTM/attention_model_longinput_50neuron.h5\n",
            "Epoch 14/100\n",
            "4796/4796 [==============================] - 69s 14ms/step - loss: 0.3999 - accuracy: 0.8440 - val_loss: 0.4900 - val_accuracy: 0.8092\n",
            "\n",
            "Epoch 00014: val_accuracy did not improve from 0.81433\n",
            "Epoch 15/100\n",
            "4796/4796 [==============================] - 69s 14ms/step - loss: 0.3950 - accuracy: 0.8455 - val_loss: 0.4908 - val_accuracy: 0.8098\n",
            "\n",
            "Epoch 00015: val_accuracy did not improve from 0.81433\n",
            "Epoch 16/100\n",
            "4796/4796 [==============================] - 69s 14ms/step - loss: 0.3895 - accuracy: 0.8473 - val_loss: 0.4932 - val_accuracy: 0.8144\n",
            "\n",
            "Epoch 00016: val_accuracy improved from 0.81433 to 0.81439, saving model to /content/drive/MyDrive/Springboard/Capstone Three/LSTM/attention_model_longinput_50neuron.h5\n",
            "Epoch 17/100\n",
            "4796/4796 [==============================] - 69s 14ms/step - loss: 0.3831 - accuracy: 0.8522 - val_loss: 0.5209 - val_accuracy: 0.8077\n",
            "\n",
            "Epoch 00017: val_accuracy did not improve from 0.81439\n",
            "Epoch 18/100\n",
            "4796/4796 [==============================] - 68s 14ms/step - loss: 0.3819 - accuracy: 0.8508 - val_loss: 0.5026 - val_accuracy: 0.8081\n",
            "\n",
            "Epoch 00018: val_accuracy did not improve from 0.81439\n",
            "Epoch 19/100\n",
            "4796/4796 [==============================] - 69s 14ms/step - loss: 0.3733 - accuracy: 0.8545 - val_loss: 0.5107 - val_accuracy: 0.8024\n",
            "\n",
            "Epoch 00019: val_accuracy did not improve from 0.81439\n",
            "Epoch 20/100\n",
            "4796/4796 [==============================] - 69s 14ms/step - loss: 0.3736 - accuracy: 0.8551 - val_loss: 0.5144 - val_accuracy: 0.8075\n",
            "\n",
            "Epoch 00020: val_accuracy did not improve from 0.81439\n",
            "Epoch 21/100\n",
            "4796/4796 [==============================] - 69s 14ms/step - loss: 0.3673 - accuracy: 0.8577 - val_loss: 0.5187 - val_accuracy: 0.8072\n",
            "\n",
            "Epoch 00021: val_accuracy did not improve from 0.81439\n",
            "Epoch 22/100\n",
            "4796/4796 [==============================] - 69s 14ms/step - loss: 0.3697 - accuracy: 0.8562 - val_loss: 0.5279 - val_accuracy: 0.8018\n",
            "\n",
            "Epoch 00022: val_accuracy did not improve from 0.81439\n",
            "Epoch 23/100\n",
            "4796/4796 [==============================] - 69s 14ms/step - loss: 0.3614 - accuracy: 0.8607 - val_loss: 0.5175 - val_accuracy: 0.8056\n",
            "\n",
            "Epoch 00023: val_accuracy did not improve from 0.81439\n",
            "Epoch 24/100\n",
            "4796/4796 [==============================] - 69s 14ms/step - loss: 0.3611 - accuracy: 0.8611 - val_loss: 0.5223 - val_accuracy: 0.8055\n",
            "\n",
            "Epoch 00024: val_accuracy did not improve from 0.81439\n",
            "Epoch 25/100\n",
            "4796/4796 [==============================] - 70s 15ms/step - loss: 0.3498 - accuracy: 0.8653 - val_loss: 0.5324 - val_accuracy: 0.8031\n",
            "\n",
            "Epoch 00025: val_accuracy did not improve from 0.81439\n",
            "Epoch 26/100\n",
            "4796/4796 [==============================] - 69s 14ms/step - loss: 0.3554 - accuracy: 0.8628 - val_loss: 0.5190 - val_accuracy: 0.8006\n",
            "\n",
            "Epoch 00026: val_accuracy did not improve from 0.81439\n",
            "Epoch 27/100\n",
            "4796/4796 [==============================] - 70s 14ms/step - loss: 0.3543 - accuracy: 0.8638 - val_loss: 0.5376 - val_accuracy: 0.8062\n",
            "\n",
            "Epoch 00027: val_accuracy did not improve from 0.81439\n",
            "Epoch 00027: early stopping\n"
          ],
          "name": "stdout"
        }
      ]
    },
    {
      "cell_type": "code",
      "metadata": {
        "colab": {
          "base_uri": "https://localhost:8080/"
        },
        "id": "d-mtrF1JbIPl",
        "outputId": "4d59791f-d582-48a4-e90d-e9a0e0654b8c"
      },
      "source": [
        "model.summary()"
      ],
      "execution_count": 31,
      "outputs": [
        {
          "output_type": "stream",
          "text": [
            "Model: \"sequential_3\"\n",
            "_________________________________________________________________\n",
            "Layer (type)                 Output Shape              Param #   \n",
            "=================================================================\n",
            "bidirectional_3 (Bidirection (None, 74, 100)           140400    \n",
            "_________________________________________________________________\n",
            "attention_score_vec (Dense)  (None, 74, 100)           10000     \n",
            "_________________________________________________________________\n",
            "last_hidden_state (Lambda)   (None, 100)               0         \n",
            "_________________________________________________________________\n",
            "attention_score (Dot)        (None, 74)                0         \n",
            "_________________________________________________________________\n",
            "attention_weight (Activation (None, 74)                0         \n",
            "_________________________________________________________________\n",
            "context_vector (Dot)         (None, 100)               0         \n",
            "_________________________________________________________________\n",
            "attention_output (Concatenat (None, 200)               0         \n",
            "_________________________________________________________________\n",
            "attention_vector (Dense)     (None, 128)               25600     \n",
            "_________________________________________________________________\n",
            "dropout_3 (Dropout)          (None, 128)               0         \n",
            "_________________________________________________________________\n",
            "dense_3 (Dense)              (None, 3)                 387       \n",
            "=================================================================\n",
            "Total params: 176,387\n",
            "Trainable params: 176,387\n",
            "Non-trainable params: 0\n",
            "_________________________________________________________________\n"
          ],
          "name": "stdout"
        }
      ]
    },
    {
      "cell_type": "code",
      "metadata": {
        "colab": {
          "base_uri": "https://localhost:8080/",
          "height": 404
        },
        "id": "slp86g6WbIPm",
        "outputId": "b5c3a600-3bee-4f40-ee63-e1cedcfb9fce"
      },
      "source": [
        "import matplotlib.pyplot as plt\r\n",
        "\r\n",
        "plt.figure(figsize=(10,6))\r\n",
        "plt.plot(hist.history['loss'])\r\n",
        "plt.plot(hist.history['val_loss'])\r\n",
        "plt.title('model train vs validation loss')\r\n",
        "plt.ylabel('loss')\r\n",
        "plt.xlabel('epoch')\r\n",
        "plt.legend(['train', 'validation'], loc='upper right')\r\n",
        "plt.show()"
      ],
      "execution_count": 32,
      "outputs": [
        {
          "output_type": "display_data",
          "data": {
            "image/png": "[encoded data removed]",
            "text/plain": [
              "<Figure size 720x432 with 1 Axes>"
            ]
          },
          "metadata": {
            "tags": [],
            "needs_background": "light"
          }
        }
      ]
    },
    {
      "cell_type": "code",
      "metadata": {
        "id": "wrnuHa5_bIPm"
      },
      "source": [
        "model_structure = model.to_json()\r\n",
        "\r\n",
        "with open(\"/content/drive/MyDrive/Springboard/Capstone Three/LSTM/attention_model_longinput_50neuron.json\", \"w\") as json_file:\r\n",
        "    json_file.write(model_structure)\r\n",
        " \r\n",
        "model.save_weights(\"/content/drive/MyDrive/Springboard/Capstone Three/LSTM/attention_model_longinput_50neuron_final.h5\")"
      ],
      "execution_count": null,
      "outputs": []
    },
    {
      "cell_type": "markdown",
      "metadata": {
        "id": "WJEwRb2FT6Fr"
      },
      "source": [
        "## 100 neurons"
      ]
    },
    {
      "cell_type": "code",
      "metadata": {
        "id": "HjEwciERT4a6"
      },
      "source": [
        "from attention import Attention\r\n",
        "from keras.models import Sequential\r\n",
        "from keras.layers import Flatten, Dense, Embedding, Dropout\r\n",
        "from keras.layers import LSTM\r\n",
        "from keras.layers import Bidirectional\r\n",
        "\r\n",
        "num_neurons = 100\r\n",
        "\r\n",
        "model = Sequential()\r\n",
        "model.add(Bidirectional(LSTM(num_neurons, return_sequences=True,\r\n",
        "               input_shape=(maxlen, embedding_dims))))\r\n",
        "model.add(Attention(name='attention_weight'))\r\n",
        "model.add(Dropout(.2))\r\n",
        "model.add(Dense(3, activation='softmax'))\r\n",
        "\r\n",
        "model.compile('rmsprop', 'categorical_crossentropy',  metrics=['accuracy'])"
      ],
      "execution_count": 16,
      "outputs": []
    },
    {
      "cell_type": "code",
      "metadata": {
        "id": "mKPXOC9wUJb0"
      },
      "source": [
        "from keras.callbacks import EarlyStopping\r\n",
        "from keras.callbacks import ModelCheckpoint\r\n",
        "\r\n",
        "# patient early stopping\r\n",
        "es = EarlyStopping(monitor='val_loss', mode='min', verbose=1, patience=20)\r\n",
        "\r\n",
        "# save the model with the best accuracy on the test dataset\r\n",
        "mc = ModelCheckpoint('/content/drive/MyDrive/Springboard/Capstone Three/LSTM/attention_model_longinput_100neuron.h5', monitor='val_accuracy', mode='max', verbose=1, save_best_only=True)"
      ],
      "execution_count": 19,
      "outputs": []
    },
    {
      "cell_type": "code",
      "metadata": {
        "colab": {
          "base_uri": "https://localhost:8080/"
        },
        "id": "oa0lTT2yURTU",
        "outputId": "ad60f408-23e6-4f07-fbcc-89f9500efa66"
      },
      "source": [
        "hist = model.fit(X_train, y_train,\r\n",
        "                 batch_size=batch_size,\r\n",
        "                 epochs=epochs,\r\n",
        "                 callbacks=[mc, es],\r\n",
        "                 validation_split=0.1)"
      ],
      "execution_count": 20,
      "outputs": [
        {
          "output_type": "stream",
          "text": [
            "Epoch 1/100\n",
            "4796/4796 [==============================] - 68s 14ms/step - loss: 0.6184 - accuracy: 0.7562 - val_loss: 0.5398 - val_accuracy: 0.7883\n",
            "\n",
            "Epoch 00001: val_accuracy improved from -inf to 0.78829, saving model to /content/drive/MyDrive/Springboard/Capstone Three/LSTM/attention_model_longinput_100neuron.h5\n",
            "Epoch 2/100\n",
            "4796/4796 [==============================] - 68s 14ms/step - loss: 0.5239 - accuracy: 0.7943 - val_loss: 0.5098 - val_accuracy: 0.8011\n",
            "\n",
            "Epoch 00002: val_accuracy improved from 0.78829 to 0.80114, saving model to /content/drive/MyDrive/Springboard/Capstone Three/LSTM/attention_model_longinput_100neuron.h5\n",
            "Epoch 3/100\n",
            "4796/4796 [==============================] - 67s 14ms/step - loss: 0.4924 - accuracy: 0.8062 - val_loss: 0.4968 - val_accuracy: 0.8032\n",
            "\n",
            "Epoch 00003: val_accuracy improved from 0.80114 to 0.80319, saving model to /content/drive/MyDrive/Springboard/Capstone Three/LSTM/attention_model_longinput_100neuron.h5\n",
            "Epoch 4/100\n",
            "4796/4796 [==============================] - 67s 14ms/step - loss: 0.4737 - accuracy: 0.8134 - val_loss: 0.4967 - val_accuracy: 0.8068\n",
            "\n",
            "Epoch 00004: val_accuracy improved from 0.80319 to 0.80677, saving model to /content/drive/MyDrive/Springboard/Capstone Three/LSTM/attention_model_longinput_100neuron.h5\n",
            "Epoch 5/100\n",
            "4796/4796 [==============================] - 68s 14ms/step - loss: 0.4599 - accuracy: 0.8199 - val_loss: 0.4962 - val_accuracy: 0.8032\n",
            "\n",
            "Epoch 00005: val_accuracy did not improve from 0.80677\n",
            "Epoch 6/100\n",
            "4796/4796 [==============================] - 68s 14ms/step - loss: 0.4470 - accuracy: 0.8252 - val_loss: 0.4839 - val_accuracy: 0.8107\n",
            "\n",
            "Epoch 00006: val_accuracy improved from 0.80677 to 0.81070, saving model to /content/drive/MyDrive/Springboard/Capstone Three/LSTM/attention_model_longinput_100neuron.h5\n",
            "Epoch 7/100\n",
            "4796/4796 [==============================] - 68s 14ms/step - loss: 0.4366 - accuracy: 0.8291 - val_loss: 0.4891 - val_accuracy: 0.8077\n",
            "\n",
            "Epoch 00007: val_accuracy did not improve from 0.81070\n",
            "Epoch 8/100\n",
            "4796/4796 [==============================] - 68s 14ms/step - loss: 0.4279 - accuracy: 0.8335 - val_loss: 0.4911 - val_accuracy: 0.8108\n",
            "\n",
            "Epoch 00008: val_accuracy improved from 0.81070 to 0.81081, saving model to /content/drive/MyDrive/Springboard/Capstone Three/LSTM/attention_model_longinput_100neuron.h5\n",
            "Epoch 9/100\n",
            "4796/4796 [==============================] - 68s 14ms/step - loss: 0.4181 - accuracy: 0.8372 - val_loss: 0.4856 - val_accuracy: 0.8131\n",
            "\n",
            "Epoch 00009: val_accuracy improved from 0.81081 to 0.81310, saving model to /content/drive/MyDrive/Springboard/Capstone Three/LSTM/attention_model_longinput_100neuron.h5\n",
            "Epoch 10/100\n",
            "4796/4796 [==============================] - 68s 14ms/step - loss: 0.4117 - accuracy: 0.8396 - val_loss: 0.4886 - val_accuracy: 0.8139\n",
            "\n",
            "Epoch 00010: val_accuracy improved from 0.81310 to 0.81392, saving model to /content/drive/MyDrive/Springboard/Capstone Three/LSTM/attention_model_longinput_100neuron.h5\n",
            "Epoch 11/100\n",
            "4796/4796 [==============================] - 68s 14ms/step - loss: 0.4033 - accuracy: 0.8432 - val_loss: 0.4829 - val_accuracy: 0.8123\n",
            "\n",
            "Epoch 00011: val_accuracy did not improve from 0.81392\n",
            "Epoch 12/100\n",
            "4796/4796 [==============================] - 68s 14ms/step - loss: 0.3978 - accuracy: 0.8453 - val_loss: 0.4860 - val_accuracy: 0.8116\n",
            "\n",
            "Epoch 00012: val_accuracy did not improve from 0.81392\n",
            "Epoch 13/100\n",
            "4796/4796 [==============================] - 68s 14ms/step - loss: 0.3907 - accuracy: 0.8488 - val_loss: 0.5000 - val_accuracy: 0.8098\n",
            "\n",
            "Epoch 00013: val_accuracy did not improve from 0.81392\n",
            "Epoch 14/100\n",
            "4796/4796 [==============================] - 68s 14ms/step - loss: 0.3856 - accuracy: 0.8507 - val_loss: 0.5106 - val_accuracy: 0.8086\n",
            "\n",
            "Epoch 00014: val_accuracy did not improve from 0.81392\n",
            "Epoch 15/100\n",
            "4796/4796 [==============================] - 68s 14ms/step - loss: 0.3805 - accuracy: 0.8534 - val_loss: 0.5132 - val_accuracy: 0.8042\n",
            "\n",
            "Epoch 00015: val_accuracy did not improve from 0.81392\n",
            "Epoch 16/100\n",
            "4796/4796 [==============================] - 67s 14ms/step - loss: 0.3751 - accuracy: 0.8554 - val_loss: 0.4951 - val_accuracy: 0.8081\n",
            "\n",
            "Epoch 00016: val_accuracy did not improve from 0.81392\n",
            "Epoch 17/100\n",
            "4796/4796 [==============================] - 66s 14ms/step - loss: 0.3719 - accuracy: 0.8572 - val_loss: 0.5064 - val_accuracy: 0.8106\n",
            "\n",
            "Epoch 00017: val_accuracy did not improve from 0.81392\n",
            "Epoch 18/100\n",
            "4796/4796 [==============================] - 69s 14ms/step - loss: 0.3672 - accuracy: 0.8592 - val_loss: 0.5093 - val_accuracy: 0.8037\n",
            "\n",
            "Epoch 00018: val_accuracy did not improve from 0.81392\n",
            "Epoch 19/100\n",
            "4796/4796 [==============================] - 66s 14ms/step - loss: 0.3649 - accuracy: 0.8610 - val_loss: 0.5193 - val_accuracy: 0.8053\n",
            "\n",
            "Epoch 00019: val_accuracy did not improve from 0.81392\n",
            "Epoch 20/100\n",
            "4796/4796 [==============================] - 66s 14ms/step - loss: 0.3608 - accuracy: 0.8627 - val_loss: 0.5202 - val_accuracy: 0.8089\n",
            "\n",
            "Epoch 00020: val_accuracy did not improve from 0.81392\n",
            "Epoch 21/100\n",
            "4796/4796 [==============================] - 66s 14ms/step - loss: 0.3599 - accuracy: 0.8631 - val_loss: 0.5415 - val_accuracy: 0.8079\n",
            "\n",
            "Epoch 00021: val_accuracy did not improve from 0.81392\n",
            "Epoch 22/100\n",
            "4796/4796 [==============================] - 65s 14ms/step - loss: 0.3563 - accuracy: 0.8648 - val_loss: 0.5197 - val_accuracy: 0.7969\n",
            "\n",
            "Epoch 00022: val_accuracy did not improve from 0.81392\n",
            "Epoch 23/100\n",
            "4796/4796 [==============================] - 66s 14ms/step - loss: 0.3549 - accuracy: 0.8657 - val_loss: 0.5397 - val_accuracy: 0.8011\n",
            "\n",
            "Epoch 00023: val_accuracy did not improve from 0.81392\n",
            "Epoch 24/100\n",
            "4796/4796 [==============================] - 66s 14ms/step - loss: 0.3524 - accuracy: 0.8667 - val_loss: 0.5403 - val_accuracy: 0.8036\n",
            "\n",
            "Epoch 00024: val_accuracy did not improve from 0.81392\n",
            "Epoch 25/100\n",
            "4796/4796 [==============================] - 65s 14ms/step - loss: 0.3507 - accuracy: 0.8675 - val_loss: 0.5126 - val_accuracy: 0.8028\n",
            "\n",
            "Epoch 00025: val_accuracy did not improve from 0.81392\n",
            "Epoch 26/100\n",
            "4796/4796 [==============================] - 67s 14ms/step - loss: 0.3492 - accuracy: 0.8692 - val_loss: 0.5665 - val_accuracy: 0.8047\n",
            "\n",
            "Epoch 00026: val_accuracy did not improve from 0.81392\n",
            "Epoch 27/100\n",
            "4796/4796 [==============================] - 68s 14ms/step - loss: 0.3486 - accuracy: 0.8688 - val_loss: 0.5421 - val_accuracy: 0.8071\n",
            "\n",
            "Epoch 00027: val_accuracy did not improve from 0.81392\n",
            "Epoch 28/100\n",
            "4796/4796 [==============================] - 67s 14ms/step - loss: 0.3468 - accuracy: 0.8707 - val_loss: 0.5388 - val_accuracy: 0.8018\n",
            "\n",
            "Epoch 00028: val_accuracy did not improve from 0.81392\n",
            "Epoch 29/100\n",
            "4796/4796 [==============================] - 67s 14ms/step - loss: 0.3456 - accuracy: 0.8711 - val_loss: 0.5549 - val_accuracy: 0.8027\n",
            "\n",
            "Epoch 00029: val_accuracy did not improve from 0.81392\n",
            "Epoch 30/100\n",
            "4796/4796 [==============================] - 67s 14ms/step - loss: 0.3441 - accuracy: 0.8718 - val_loss: 0.5502 - val_accuracy: 0.8071\n",
            "\n",
            "Epoch 00030: val_accuracy did not improve from 0.81392\n",
            "Epoch 31/100\n",
            "4796/4796 [==============================] - 67s 14ms/step - loss: 0.3421 - accuracy: 0.8724 - val_loss: 0.5516 - val_accuracy: 0.8018\n",
            "\n",
            "Epoch 00031: val_accuracy did not improve from 0.81392\n",
            "Epoch 00031: early stopping\n"
          ],
          "name": "stdout"
        }
      ]
    },
    {
      "cell_type": "code",
      "metadata": {
        "colab": {
          "base_uri": "https://localhost:8080/"
        },
        "id": "nbjSoCwyUJAV",
        "outputId": "d2058775-a0af-4dd6-bcd1-d47f40c339c2"
      },
      "source": [
        "model.summary()"
      ],
      "execution_count": 21,
      "outputs": [
        {
          "output_type": "stream",
          "text": [
            "Model: \"sequential\"\n",
            "_________________________________________________________________\n",
            "Layer (type)                 Output Shape              Param #   \n",
            "=================================================================\n",
            "bidirectional (Bidirectional (None, 74, 200)           320800    \n",
            "_________________________________________________________________\n",
            "attention_score_vec (Dense)  (None, 74, 200)           40000     \n",
            "_________________________________________________________________\n",
            "last_hidden_state (Lambda)   (None, 200)               0         \n",
            "_________________________________________________________________\n",
            "attention_score (Dot)        (None, 74)                0         \n",
            "_________________________________________________________________\n",
            "attention_weight (Activation (None, 74)                0         \n",
            "_________________________________________________________________\n",
            "context_vector (Dot)         (None, 200)               0         \n",
            "_________________________________________________________________\n",
            "attention_output (Concatenat (None, 400)               0         \n",
            "_________________________________________________________________\n",
            "attention_vector (Dense)     (None, 128)               51200     \n",
            "_________________________________________________________________\n",
            "dropout (Dropout)            (None, 128)               0         \n",
            "_________________________________________________________________\n",
            "dense (Dense)                (None, 3)                 387       \n",
            "=================================================================\n",
            "Total params: 412,387\n",
            "Trainable params: 412,387\n",
            "Non-trainable params: 0\n",
            "_________________________________________________________________\n"
          ],
          "name": "stdout"
        }
      ]
    },
    {
      "cell_type": "code",
      "metadata": {
        "colab": {
          "base_uri": "https://localhost:8080/",
          "height": 404
        },
        "id": "yREn1s2iUYDO",
        "outputId": "e385f506-4044-47f6-93f6-71a46057ceba"
      },
      "source": [
        "import matplotlib.pyplot as plt\r\n",
        "\r\n",
        "plt.figure(figsize=(10,6))\r\n",
        "plt.plot(hist.history['loss'])\r\n",
        "plt.plot(hist.history['val_loss'])\r\n",
        "plt.title('model train vs validation loss')\r\n",
        "plt.ylabel('loss')\r\n",
        "plt.xlabel('epoch')\r\n",
        "plt.legend(['train', 'validation'], loc='upper right')\r\n",
        "plt.show()"
      ],
      "execution_count": 22,
      "outputs": [
        {
          "output_type": "display_data",
          "data": {
            "image/png": "[encoded data removed]",
            "text/plain": [
              "<Figure size 720x432 with 1 Axes>"
            ]
          },
          "metadata": {
            "tags": [],
            "needs_background": "light"
          }
        }
      ]
    },
    {
      "cell_type": "code",
      "metadata": {
        "id": "au0JPXOL1h_k"
      },
      "source": [
        "model_structure = model.to_json()\r\n",
        "\r\n",
        "with open(\"/content/drive/MyDrive/Springboard/Capstone Three/LSTM/attention_model_longinput_100neuron.json\", \"w\") as json_file:\r\n",
        "    json_file.write(model_structure)\r\n",
        " \r\n",
        "model.save_weights(\"/content/drive/MyDrive/Springboard/Capstone Three/LSTM/attention_model_longinput_100neuron_final.h5\")"
      ],
      "execution_count": 23,
      "outputs": []
    },
    {
      "cell_type": "markdown",
      "metadata": {
        "id": "DMqvnQx1TwG9"
      },
      "source": [
        "## 200 neurons"
      ]
    },
    {
      "cell_type": "code",
      "metadata": {
        "id": "zg7lteesObIA"
      },
      "source": [
        "from attention import Attention\r\n",
        "from keras.models import Sequential\r\n",
        "from keras.layers import Flatten, Dense, Embedding, Dropout\r\n",
        "from keras.layers import LSTM\r\n",
        "from keras.layers import Bidirectional\r\n",
        "\r\n",
        "num_neurons = 200\r\n",
        "\r\n",
        "model = Sequential()\r\n",
        "model.add(Bidirectional(LSTM(num_neurons, return_sequences=True,\r\n",
        "               input_shape=(maxlen, embedding_dims))))\r\n",
        "model.add(Attention(name='attention_weight'))\r\n",
        "model.add(Dropout(.2))\r\n",
        "model.add(Dense(3, activation='softmax'))\r\n",
        "\r\n",
        "model.compile('rmsprop', 'categorical_crossentropy',  metrics=['accuracy'])\r\n",
        "\r\n",
        "# print(model.summary())"
      ],
      "execution_count": 34,
      "outputs": []
    },
    {
      "cell_type": "code",
      "metadata": {
        "id": "d_jQ2xhQOhS9"
      },
      "source": [
        "from keras.callbacks import EarlyStopping\r\n",
        "from keras.callbacks import ModelCheckpoint\r\n",
        "\r\n",
        "# patient early stopping\r\n",
        "es = EarlyStopping(monitor='val_loss', mode='min', verbose=1, patience=50)\r\n",
        "\r\n",
        "# save the model with the best accuracy on the test dataset\r\n",
        "mc = ModelCheckpoint('/content/drive/MyDrive/Springboard/Capstone Three/LSTM/attention_model_longinput.h5', monitor='val_accuracy', mode='max', verbose=1, save_best_only=True)"
      ],
      "execution_count": 35,
      "outputs": []
    },
    {
      "cell_type": "code",
      "metadata": {
        "colab": {
          "base_uri": "https://localhost:8080/"
        },
        "id": "i68-qO0qO9Di",
        "outputId": "fdf4a148-4798-4575-b582-a9b93eb7e571"
      },
      "source": [
        "hist = model.fit(X_train, y_train,\r\n",
        "                 batch_size=batch_size,\r\n",
        "                 epochs=epochs,\r\n",
        "                 callbacks=[mc, es],\r\n",
        "                 validation_split=0.1)"
      ],
      "execution_count": 38,
      "outputs": [
        {
          "output_type": "stream",
          "text": [
            "Epoch 1/100\n",
            "4796/4796 [==============================] - 82s 17ms/step - loss: 0.5959 - accuracy: 0.7653 - val_loss: 0.5469 - val_accuracy: 0.7833\n",
            "\n",
            "Epoch 00001: val_accuracy improved from -inf to 0.78331, saving model to /content/drive/MyDrive/Springboard/Capstone Three/LSTM/attention_model_longinput.h5\n",
            "Epoch 2/100\n",
            "4796/4796 [==============================] - 80s 17ms/step - loss: 0.5221 - accuracy: 0.7958 - val_loss: 0.5031 - val_accuracy: 0.8025\n",
            "\n",
            "Epoch 00002: val_accuracy improved from 0.78331 to 0.80249, saving model to /content/drive/MyDrive/Springboard/Capstone Three/LSTM/attention_model_longinput.h5\n",
            "Epoch 3/100\n",
            "4796/4796 [==============================] - 80s 17ms/step - loss: 0.4913 - accuracy: 0.8076 - val_loss: 0.4867 - val_accuracy: 0.8098\n",
            "\n",
            "Epoch 00003: val_accuracy improved from 0.80249 to 0.80976, saving model to /content/drive/MyDrive/Springboard/Capstone Three/LSTM/attention_model_longinput.h5\n",
            "Epoch 4/100\n",
            "4796/4796 [==============================] - 80s 17ms/step - loss: 0.4723 - accuracy: 0.8144 - val_loss: 0.4891 - val_accuracy: 0.8095\n",
            "\n",
            "Epoch 00004: val_accuracy did not improve from 0.80976\n",
            "Epoch 5/100\n",
            "4796/4796 [==============================] - 81s 17ms/step - loss: 0.4600 - accuracy: 0.8207 - val_loss: 0.4782 - val_accuracy: 0.8118\n",
            "\n",
            "Epoch 00005: val_accuracy improved from 0.80976 to 0.81175, saving model to /content/drive/MyDrive/Springboard/Capstone Three/LSTM/attention_model_longinput.h5\n",
            "Epoch 6/100\n",
            "4796/4796 [==============================] - 81s 17ms/step - loss: 0.4496 - accuracy: 0.8241 - val_loss: 0.4806 - val_accuracy: 0.8140\n",
            "\n",
            "Epoch 00006: val_accuracy improved from 0.81175 to 0.81398, saving model to /content/drive/MyDrive/Springboard/Capstone Three/LSTM/attention_model_longinput.h5\n",
            "Epoch 7/100\n",
            "4796/4796 [==============================] - 81s 17ms/step - loss: 0.4403 - accuracy: 0.8284 - val_loss: 0.4872 - val_accuracy: 0.8161\n",
            "\n",
            "Epoch 00007: val_accuracy improved from 0.81398 to 0.81609, saving model to /content/drive/MyDrive/Springboard/Capstone Three/LSTM/attention_model_longinput.h5\n",
            "Epoch 8/100\n",
            "4796/4796 [==============================] - 80s 17ms/step - loss: 0.4331 - accuracy: 0.8306 - val_loss: 0.4728 - val_accuracy: 0.8144\n",
            "\n",
            "Epoch 00008: val_accuracy did not improve from 0.81609\n",
            "Epoch 9/100\n",
            "4796/4796 [==============================] - 81s 17ms/step - loss: 0.4282 - accuracy: 0.8327 - val_loss: 0.4738 - val_accuracy: 0.8183\n",
            "\n",
            "Epoch 00009: val_accuracy improved from 0.81609 to 0.81832, saving model to /content/drive/MyDrive/Springboard/Capstone Three/LSTM/attention_model_longinput.h5\n",
            "Epoch 10/100\n",
            "4796/4796 [==============================] - 81s 17ms/step - loss: 0.4209 - accuracy: 0.8366 - val_loss: 0.4834 - val_accuracy: 0.8152\n",
            "\n",
            "Epoch 00010: val_accuracy did not improve from 0.81832\n",
            "Epoch 11/100\n",
            "4796/4796 [==============================] - 81s 17ms/step - loss: 0.4133 - accuracy: 0.8393 - val_loss: 0.4767 - val_accuracy: 0.8153\n",
            "\n",
            "Epoch 00011: val_accuracy did not improve from 0.81832\n",
            "Epoch 12/100\n",
            "4796/4796 [==============================] - 80s 17ms/step - loss: 0.4089 - accuracy: 0.8420 - val_loss: 0.4792 - val_accuracy: 0.8189\n",
            "\n",
            "Epoch 00012: val_accuracy improved from 0.81832 to 0.81891, saving model to /content/drive/MyDrive/Springboard/Capstone Three/LSTM/attention_model_longinput.h5\n",
            "Epoch 13/100\n",
            "4796/4796 [==============================] - 82s 17ms/step - loss: 0.4054 - accuracy: 0.8436 - val_loss: 0.5107 - val_accuracy: 0.8091\n",
            "\n",
            "Epoch 00013: val_accuracy did not improve from 0.81891\n",
            "Epoch 14/100\n",
            "4796/4796 [==============================] - 81s 17ms/step - loss: 0.4013 - accuracy: 0.8450 - val_loss: 0.4862 - val_accuracy: 0.8117\n",
            "\n",
            "Epoch 00014: val_accuracy did not improve from 0.81891\n",
            "Epoch 15/100\n",
            "4796/4796 [==============================] - 81s 17ms/step - loss: 0.3967 - accuracy: 0.8465 - val_loss: 0.4888 - val_accuracy: 0.8139\n",
            "\n",
            "Epoch 00015: val_accuracy did not improve from 0.81891\n",
            "Epoch 16/100\n",
            "4796/4796 [==============================] - 80s 17ms/step - loss: 0.3954 - accuracy: 0.8496 - val_loss: 0.4996 - val_accuracy: 0.8115\n",
            "\n",
            "Epoch 00016: val_accuracy did not improve from 0.81891\n",
            "Epoch 17/100\n",
            "4796/4796 [==============================] - 81s 17ms/step - loss: 0.3884 - accuracy: 0.8516 - val_loss: 0.4948 - val_accuracy: 0.8102\n",
            "\n",
            "Epoch 00017: val_accuracy did not improve from 0.81891\n",
            "Epoch 18/100\n",
            "4796/4796 [==============================] - 81s 17ms/step - loss: 0.3846 - accuracy: 0.8529 - val_loss: 0.4920 - val_accuracy: 0.8090\n",
            "\n",
            "Epoch 00018: val_accuracy did not improve from 0.81891\n",
            "Epoch 19/100\n",
            "4796/4796 [==============================] - 81s 17ms/step - loss: 0.3827 - accuracy: 0.8530 - val_loss: 0.5092 - val_accuracy: 0.8126\n",
            "\n",
            "Epoch 00019: val_accuracy did not improve from 0.81891\n",
            "Epoch 20/100\n",
            "4796/4796 [==============================] - 80s 17ms/step - loss: 0.3929 - accuracy: 0.8515 - val_loss: 0.5089 - val_accuracy: 0.8121\n",
            "\n",
            "Epoch 00020: val_accuracy did not improve from 0.81891\n",
            "Epoch 21/100\n",
            "4796/4796 [==============================] - 80s 17ms/step - loss: 0.3862 - accuracy: 0.8536 - val_loss: 0.5128 - val_accuracy: 0.8087\n",
            "\n",
            "Epoch 00021: val_accuracy did not improve from 0.81891\n",
            "Epoch 22/100\n",
            "4796/4796 [==============================] - 81s 17ms/step - loss: 0.3799 - accuracy: 0.8557 - val_loss: 0.5106 - val_accuracy: 0.8105\n",
            "\n",
            "Epoch 00022: val_accuracy did not improve from 0.81891\n",
            "Epoch 23/100\n",
            "4796/4796 [==============================] - 79s 17ms/step - loss: 0.3865 - accuracy: 0.8534 - val_loss: 0.4965 - val_accuracy: 0.8130\n",
            "\n",
            "Epoch 00023: val_accuracy did not improve from 0.81891\n",
            "Epoch 24/100\n",
            "4796/4796 [==============================] - 80s 17ms/step - loss: 0.3769 - accuracy: 0.8570 - val_loss: 0.5052 - val_accuracy: 0.8122\n",
            "\n",
            "Epoch 00024: val_accuracy did not improve from 0.81891\n",
            "Epoch 25/100\n",
            "4796/4796 [==============================] - 80s 17ms/step - loss: 0.3770 - accuracy: 0.8575 - val_loss: 0.5011 - val_accuracy: 0.8099\n",
            "\n",
            "Epoch 00025: val_accuracy did not improve from 0.81891\n",
            "Epoch 26/100\n",
            "4796/4796 [==============================] - 80s 17ms/step - loss: 0.3746 - accuracy: 0.8587 - val_loss: 0.5186 - val_accuracy: 0.8044\n",
            "\n",
            "Epoch 00026: val_accuracy did not improve from 0.81891\n",
            "Epoch 27/100\n",
            "4796/4796 [==============================] - 80s 17ms/step - loss: 0.3719 - accuracy: 0.8601 - val_loss: 0.5160 - val_accuracy: 0.8085\n",
            "\n",
            "Epoch 00027: val_accuracy did not improve from 0.81891\n",
            "Epoch 28/100\n",
            "4796/4796 [==============================] - 80s 17ms/step - loss: 0.3717 - accuracy: 0.8601 - val_loss: 0.5068 - val_accuracy: 0.8111\n",
            "\n",
            "Epoch 00028: val_accuracy did not improve from 0.81891\n",
            "Epoch 29/100\n",
            "4796/4796 [==============================] - 80s 17ms/step - loss: 0.3702 - accuracy: 0.8608 - val_loss: 0.5132 - val_accuracy: 0.8101\n",
            "\n",
            "Epoch 00029: val_accuracy did not improve from 0.81891\n",
            "Epoch 30/100\n",
            "4796/4796 [==============================] - 81s 17ms/step - loss: 0.3687 - accuracy: 0.8625 - val_loss: 0.5044 - val_accuracy: 0.8120\n",
            "\n",
            "Epoch 00030: val_accuracy did not improve from 0.81891\n",
            "Epoch 31/100\n",
            "4796/4796 [==============================] - 80s 17ms/step - loss: 0.3700 - accuracy: 0.8614 - val_loss: 0.5060 - val_accuracy: 0.8075\n",
            "\n",
            "Epoch 00031: val_accuracy did not improve from 0.81891\n",
            "Epoch 32/100\n",
            "4796/4796 [==============================] - 80s 17ms/step - loss: 0.3719 - accuracy: 0.8603 - val_loss: 0.5235 - val_accuracy: 0.8028\n",
            "\n",
            "Epoch 00032: val_accuracy did not improve from 0.81891\n",
            "Epoch 33/100\n",
            "4796/4796 [==============================] - 81s 17ms/step - loss: 0.3747 - accuracy: 0.8592 - val_loss: 0.5089 - val_accuracy: 0.8072\n",
            "\n",
            "Epoch 00033: val_accuracy did not improve from 0.81891\n",
            "Epoch 34/100\n",
            "4796/4796 [==============================] - 80s 17ms/step - loss: 0.3738 - accuracy: 0.8613 - val_loss: 0.5130 - val_accuracy: 0.8073\n",
            "\n",
            "Epoch 00034: val_accuracy did not improve from 0.81891\n",
            "Epoch 35/100\n",
            "4796/4796 [==============================] - 80s 17ms/step - loss: 0.3753 - accuracy: 0.8600 - val_loss: 0.5221 - val_accuracy: 0.8118\n",
            "\n",
            "Epoch 00035: val_accuracy did not improve from 0.81891\n",
            "Epoch 36/100\n",
            "4796/4796 [==============================] - 79s 17ms/step - loss: 0.3913 - accuracy: 0.8538 - val_loss: 0.5131 - val_accuracy: 0.8075\n",
            "\n",
            "Epoch 00036: val_accuracy did not improve from 0.81891\n",
            "Epoch 37/100\n",
            "4796/4796 [==============================] - 80s 17ms/step - loss: 0.3792 - accuracy: 0.8575 - val_loss: 0.5052 - val_accuracy: 0.8088\n",
            "\n",
            "Epoch 00037: val_accuracy did not improve from 0.81891\n",
            "Epoch 38/100\n",
            "4796/4796 [==============================] - 80s 17ms/step - loss: 0.3824 - accuracy: 0.8575 - val_loss: 0.5135 - val_accuracy: 0.8064\n",
            "\n",
            "Epoch 00038: val_accuracy did not improve from 0.81891\n",
            "Epoch 39/100\n",
            "4796/4796 [==============================] - 80s 17ms/step - loss: 0.4163 - accuracy: 0.8461 - val_loss: 0.5192 - val_accuracy: 0.8018\n",
            "\n",
            "Epoch 00039: val_accuracy did not improve from 0.81891\n",
            "Epoch 40/100\n",
            "4796/4796 [==============================] - 80s 17ms/step - loss: 0.4670 - accuracy: 0.8280 - val_loss: 0.5552 - val_accuracy: 0.7914\n",
            "\n",
            "Epoch 00040: val_accuracy did not improve from 0.81891\n",
            "Epoch 41/100\n",
            "4796/4796 [==============================] - 81s 17ms/step - loss: 0.4860 - accuracy: 0.8175 - val_loss: 0.5175 - val_accuracy: 0.8063\n",
            "\n",
            "Epoch 00041: val_accuracy did not improve from 0.81891\n",
            "Epoch 42/100\n",
            "4796/4796 [==============================] - 81s 17ms/step - loss: 0.4528 - accuracy: 0.8280 - val_loss: 0.5142 - val_accuracy: 0.8056\n",
            "\n",
            "Epoch 00042: val_accuracy did not improve from 0.81891\n",
            "Epoch 43/100\n",
            "4796/4796 [==============================] - 80s 17ms/step - loss: 0.4381 - accuracy: 0.8344 - val_loss: 0.5012 - val_accuracy: 0.8054\n",
            "\n",
            "Epoch 00043: val_accuracy did not improve from 0.81891\n",
            "Epoch 44/100\n",
            "4796/4796 [==============================] - 82s 17ms/step - loss: 0.4267 - accuracy: 0.8381 - val_loss: 0.5045 - val_accuracy: 0.8068\n",
            "\n",
            "Epoch 00044: val_accuracy did not improve from 0.81891\n",
            "Epoch 45/100\n",
            "4796/4796 [==============================] - 80s 17ms/step - loss: 0.4284 - accuracy: 0.8366 - val_loss: 0.5000 - val_accuracy: 0.8101\n",
            "\n",
            "Epoch 00045: val_accuracy did not improve from 0.81891\n",
            "Epoch 46/100\n",
            "4796/4796 [==============================] - 80s 17ms/step - loss: 0.4274 - accuracy: 0.8382 - val_loss: 0.5037 - val_accuracy: 0.8061\n",
            "\n",
            "Epoch 00046: val_accuracy did not improve from 0.81891\n",
            "Epoch 47/100\n",
            "4796/4796 [==============================] - 81s 17ms/step - loss: 0.4228 - accuracy: 0.8398 - val_loss: 0.4962 - val_accuracy: 0.8069\n",
            "\n",
            "Epoch 00047: val_accuracy did not improve from 0.81891\n",
            "Epoch 48/100\n",
            "4796/4796 [==============================] - 80s 17ms/step - loss: 0.4227 - accuracy: 0.8392 - val_loss: 0.5032 - val_accuracy: 0.8123\n",
            "\n",
            "Epoch 00048: val_accuracy did not improve from 0.81891\n",
            "Epoch 49/100\n",
            "4796/4796 [==============================] - 81s 17ms/step - loss: 0.4217 - accuracy: 0.8393 - val_loss: 0.5086 - val_accuracy: 0.8041\n",
            "\n",
            "Epoch 00049: val_accuracy did not improve from 0.81891\n",
            "Epoch 50/100\n",
            "4796/4796 [==============================] - 82s 17ms/step - loss: 0.4234 - accuracy: 0.8387 - val_loss: 0.4984 - val_accuracy: 0.8103\n",
            "\n",
            "Epoch 00050: val_accuracy did not improve from 0.81891\n",
            "Epoch 51/100\n",
            "4796/4796 [==============================] - 80s 17ms/step - loss: 0.4200 - accuracy: 0.8404 - val_loss: 0.4892 - val_accuracy: 0.8120\n",
            "\n",
            "Epoch 00051: val_accuracy did not improve from 0.81891\n",
            "Epoch 52/100\n",
            "4796/4796 [==============================] - 81s 17ms/step - loss: 0.4195 - accuracy: 0.8400 - val_loss: 0.5104 - val_accuracy: 0.8032\n",
            "\n",
            "Epoch 00052: val_accuracy did not improve from 0.81891\n",
            "Epoch 53/100\n",
            "4796/4796 [==============================] - 81s 17ms/step - loss: 0.4209 - accuracy: 0.8406 - val_loss: 0.5075 - val_accuracy: 0.8119\n",
            "\n",
            "Epoch 00053: val_accuracy did not improve from 0.81891\n",
            "Epoch 54/100\n",
            "4796/4796 [==============================] - 81s 17ms/step - loss: 0.4233 - accuracy: 0.8404 - val_loss: 0.5132 - val_accuracy: 0.8121\n",
            "\n",
            "Epoch 00054: val_accuracy did not improve from 0.81891\n",
            "Epoch 55/100\n",
            "4796/4796 [==============================] - 81s 17ms/step - loss: 0.4281 - accuracy: 0.8391 - val_loss: 0.4983 - val_accuracy: 0.8118\n",
            "\n",
            "Epoch 00055: val_accuracy did not improve from 0.81891\n",
            "Epoch 56/100\n",
            "4796/4796 [==============================] - 82s 17ms/step - loss: 0.4246 - accuracy: 0.8384 - val_loss: 0.4889 - val_accuracy: 0.8120\n",
            "\n",
            "Epoch 00056: val_accuracy did not improve from 0.81891\n",
            "Epoch 57/100\n",
            "4796/4796 [==============================] - 82s 17ms/step - loss: 0.4246 - accuracy: 0.8383 - val_loss: 0.4952 - val_accuracy: 0.8105\n",
            "\n",
            "Epoch 00057: val_accuracy did not improve from 0.81891\n",
            "Epoch 58/100\n",
            "4796/4796 [==============================] - 83s 17ms/step - loss: 0.4487 - accuracy: 0.8309 - val_loss: 0.5150 - val_accuracy: 0.8090\n",
            "\n",
            "Epoch 00058: val_accuracy did not improve from 0.81891\n",
            "Epoch 00058: early stopping\n"
          ],
          "name": "stdout"
        }
      ]
    },
    {
      "cell_type": "code",
      "metadata": {
        "colab": {
          "base_uri": "https://localhost:8080/"
        },
        "id": "uNA5fUp_Odds",
        "outputId": "124b6a97-e184-458b-f6fb-4b44cb2ae8c5"
      },
      "source": [
        "model.summary()"
      ],
      "execution_count": 56,
      "outputs": [
        {
          "output_type": "stream",
          "text": [
            "Model: \"sequential_6\"\n",
            "_________________________________________________________________\n",
            "Layer (type)                 Output Shape              Param #   \n",
            "=================================================================\n",
            "bidirectional_6 (Bidirection (None, 74, 400)           801600    \n",
            "_________________________________________________________________\n",
            "attention_score_vec (Dense)  (None, 74, 400)           160000    \n",
            "_________________________________________________________________\n",
            "last_hidden_state (Lambda)   (None, 400)               0         \n",
            "_________________________________________________________________\n",
            "attention_score (Dot)        (None, 74)                0         \n",
            "_________________________________________________________________\n",
            "attention_weight (Activation (None, 74)                0         \n",
            "_________________________________________________________________\n",
            "context_vector (Dot)         (None, 400)               0         \n",
            "_________________________________________________________________\n",
            "attention_output (Concatenat (None, 800)               0         \n",
            "_________________________________________________________________\n",
            "attention_vector (Dense)     (None, 128)               102400    \n",
            "_________________________________________________________________\n",
            "dropout_6 (Dropout)          (None, 128)               0         \n",
            "_________________________________________________________________\n",
            "dense_6 (Dense)              (None, 3)                 387       \n",
            "=================================================================\n",
            "Total params: 1,064,387\n",
            "Trainable params: 1,064,387\n",
            "Non-trainable params: 0\n",
            "_________________________________________________________________\n"
          ],
          "name": "stdout"
        }
      ]
    },
    {
      "cell_type": "code",
      "metadata": {
        "colab": {
          "base_uri": "https://localhost:8080/",
          "height": 404
        },
        "id": "bVTSpvuzO1ex",
        "outputId": "ce35744c-6708-4e0b-9734-0bf877c09775"
      },
      "source": [
        "import matplotlib.pyplot as plt\r\n",
        "\r\n",
        "plt.figure(figsize=(10,6))\r\n",
        "plt.plot(hist.history['loss'])\r\n",
        "plt.plot(hist.history['val_loss'])\r\n",
        "plt.title('model train vs validation loss')\r\n",
        "plt.ylabel('loss')\r\n",
        "plt.xlabel('epoch')\r\n",
        "plt.legend(['train', 'validation'], loc='upper right')\r\n",
        "plt.show()"
      ],
      "execution_count": 41,
      "outputs": [
        {
          "output_type": "display_data",
          "data": {
            "image/png": "[encoded data removed]",
            "text/plain": [
              "<Figure size 720x432 with 1 Axes>"
            ]
          },
          "metadata": {
            "tags": [],
            "needs_background": "light"
          }
        }
      ]
    },
    {
      "cell_type": "markdown",
      "metadata": {
        "id": "sqftptMKe7Vq"
      },
      "source": [
        "## 500 neurons"
      ]
    },
    {
      "cell_type": "code",
      "metadata": {
        "id": "hndPh_eWe_vJ"
      },
      "source": [
        "from attention import Attention\r\n",
        "from keras.models import Sequential\r\n",
        "from keras.layers import Flatten, Dense, Embedding, Dropout\r\n",
        "from keras.layers import LSTM\r\n",
        "from keras.layers import Bidirectional\r\n",
        "\r\n",
        "num_neurons = 500\r\n",
        "\r\n",
        "model = Sequential()\r\n",
        "model.add(Bidirectional(LSTM(num_neurons, return_sequences=True,\r\n",
        "               input_shape=(maxlen, embedding_dims))))\r\n",
        "model.add(Attention(name='attention_weight'))\r\n",
        "model.add(Dropout(.2))\r\n",
        "model.add(Dense(3, activation='softmax'))\r\n",
        "\r\n",
        "model.compile('rmsprop', 'categorical_crossentropy',  metrics=['accuracy'])"
      ],
      "execution_count": 33,
      "outputs": []
    },
    {
      "cell_type": "code",
      "metadata": {
        "id": "XR-6CyHEe_vK"
      },
      "source": [
        "from keras.callbacks import EarlyStopping\r\n",
        "from keras.callbacks import ModelCheckpoint\r\n",
        "\r\n",
        "# patient early stopping\r\n",
        "es = EarlyStopping(monitor='val_loss', mode='min', verbose=1, patience=20)\r\n",
        "\r\n",
        "# save the model with the best accuracy on the test dataset\r\n",
        "mc = ModelCheckpoint('/content/drive/MyDrive/Springboard/Capstone Three/LSTM/attention_model_longinput_500neuron.h5', monitor='val_accuracy', mode='max', verbose=1, save_best_only=True)"
      ],
      "execution_count": 34,
      "outputs": []
    },
    {
      "cell_type": "code",
      "metadata": {
        "colab": {
          "base_uri": "https://localhost:8080/"
        },
        "id": "S2A9PmJme_vK",
        "outputId": "aa7577e9-a0a3-4500-fc1a-ba9f451cbfa8"
      },
      "source": [
        "hist = model.fit(X_train, y_train,\r\n",
        "                 batch_size=batch_size,\r\n",
        "                 epochs=epochs,\r\n",
        "                 callbacks=[mc, es],\r\n",
        "                 validation_split=0.1)"
      ],
      "execution_count": 35,
      "outputs": [
        {
          "output_type": "stream",
          "text": [
            "Epoch 1/100\n",
            "4796/4796 [==============================] - 106s 21ms/step - loss: 0.7115 - accuracy: 0.7282 - val_loss: 0.5607 - val_accuracy: 0.7792\n",
            "\n",
            "Epoch 00001: val_accuracy improved from -inf to 0.77920, saving model to /content/drive/MyDrive/Springboard/Capstone Three/LSTM/attention_model_longinput_500neuron.h5\n",
            "Epoch 2/100\n",
            "4796/4796 [==============================] - 102s 21ms/step - loss: 0.5459 - accuracy: 0.7879 - val_loss: 0.5204 - val_accuracy: 0.7892\n",
            "\n",
            "Epoch 00002: val_accuracy improved from 0.77920 to 0.78923, saving model to /content/drive/MyDrive/Springboard/Capstone Three/LSTM/attention_model_longinput_500neuron.h5\n",
            "Epoch 3/100\n",
            "4796/4796 [==============================] - 102s 21ms/step - loss: 0.5165 - accuracy: 0.7990 - val_loss: 0.5115 - val_accuracy: 0.8058\n",
            "\n",
            "Epoch 00003: val_accuracy improved from 0.78923 to 0.80583, saving model to /content/drive/MyDrive/Springboard/Capstone Three/LSTM/attention_model_longinput_500neuron.h5\n",
            "Epoch 4/100\n",
            "4796/4796 [==============================] - 101s 21ms/step - loss: 0.4910 - accuracy: 0.8098 - val_loss: 0.4977 - val_accuracy: 0.8077\n",
            "\n",
            "Epoch 00004: val_accuracy improved from 0.80583 to 0.80771, saving model to /content/drive/MyDrive/Springboard/Capstone Three/LSTM/attention_model_longinput_500neuron.h5\n",
            "Epoch 5/100\n",
            "4796/4796 [==============================] - 101s 21ms/step - loss: 0.4791 - accuracy: 0.8140 - val_loss: 0.4852 - val_accuracy: 0.8075\n",
            "\n",
            "Epoch 00005: val_accuracy did not improve from 0.80771\n",
            "Epoch 6/100\n",
            "4796/4796 [==============================] - 101s 21ms/step - loss: 0.4697 - accuracy: 0.8164 - val_loss: 0.4720 - val_accuracy: 0.8176\n",
            "\n",
            "Epoch 00006: val_accuracy improved from 0.80771 to 0.81756, saving model to /content/drive/MyDrive/Springboard/Capstone Three/LSTM/attention_model_longinput_500neuron.h5\n",
            "Epoch 7/100\n",
            "4796/4796 [==============================] - 101s 21ms/step - loss: 0.4674 - accuracy: 0.8213 - val_loss: 0.4785 - val_accuracy: 0.8139\n",
            "\n",
            "Epoch 00007: val_accuracy did not improve from 0.81756\n",
            "Epoch 8/100\n",
            "4796/4796 [==============================] - 101s 21ms/step - loss: 0.4620 - accuracy: 0.8233 - val_loss: 0.5298 - val_accuracy: 0.8078\n",
            "\n",
            "Epoch 00008: val_accuracy did not improve from 0.81756\n",
            "Epoch 9/100\n",
            "4796/4796 [==============================] - 101s 21ms/step - loss: 0.4757 - accuracy: 0.8247 - val_loss: 0.5898 - val_accuracy: 0.7834\n",
            "\n",
            "Epoch 00009: val_accuracy did not improve from 0.81756\n",
            "Epoch 10/100\n",
            "4796/4796 [==============================] - 101s 21ms/step - loss: 0.4847 - accuracy: 0.8184 - val_loss: 0.4786 - val_accuracy: 0.8119\n",
            "\n",
            "Epoch 00010: val_accuracy did not improve from 0.81756\n",
            "Epoch 11/100\n",
            "4796/4796 [==============================] - 101s 21ms/step - loss: 0.4581 - accuracy: 0.8277 - val_loss: 0.5111 - val_accuracy: 0.8119\n",
            "\n",
            "Epoch 00011: val_accuracy did not improve from 0.81756\n",
            "Epoch 12/100\n",
            "4796/4796 [==============================] - 101s 21ms/step - loss: 0.4716 - accuracy: 0.8277 - val_loss: 0.5226 - val_accuracy: 0.8082\n",
            "\n",
            "Epoch 00012: val_accuracy did not improve from 0.81756\n",
            "Epoch 13/100\n",
            "4796/4796 [==============================] - 101s 21ms/step - loss: 0.5147 - accuracy: 0.8148 - val_loss: 0.4799 - val_accuracy: 0.8147\n",
            "\n",
            "Epoch 00013: val_accuracy did not improve from 0.81756\n",
            "Epoch 14/100\n",
            "4796/4796 [==============================] - 101s 21ms/step - loss: 0.4500 - accuracy: 0.8282 - val_loss: 0.4786 - val_accuracy: 0.8157\n",
            "\n",
            "Epoch 00014: val_accuracy did not improve from 0.81756\n",
            "Epoch 15/100\n",
            "4796/4796 [==============================] - 101s 21ms/step - loss: 0.4540 - accuracy: 0.8275 - val_loss: 0.4834 - val_accuracy: 0.8162\n",
            "\n",
            "Epoch 00015: val_accuracy did not improve from 0.81756\n",
            "Epoch 16/100\n",
            "4796/4796 [==============================] - 101s 21ms/step - loss: 0.4595 - accuracy: 0.8265 - val_loss: 0.4824 - val_accuracy: 0.8149\n",
            "\n",
            "Epoch 00016: val_accuracy did not improve from 0.81756\n",
            "Epoch 17/100\n",
            "4796/4796 [==============================] - 101s 21ms/step - loss: 0.4522 - accuracy: 0.8269 - val_loss: 0.4809 - val_accuracy: 0.8161\n",
            "\n",
            "Epoch 00017: val_accuracy did not improve from 0.81756\n",
            "Epoch 18/100\n",
            "4796/4796 [==============================] - 101s 21ms/step - loss: 0.4462 - accuracy: 0.8318 - val_loss: 0.4944 - val_accuracy: 0.8128\n",
            "\n",
            "Epoch 00018: val_accuracy did not improve from 0.81756\n",
            "Epoch 19/100\n",
            "4796/4796 [==============================] - 101s 21ms/step - loss: 0.4517 - accuracy: 0.8335 - val_loss: 0.5197 - val_accuracy: 0.8128\n",
            "\n",
            "Epoch 00019: val_accuracy did not improve from 0.81756\n",
            "Epoch 20/100\n",
            "4796/4796 [==============================] - 101s 21ms/step - loss: 0.4568 - accuracy: 0.8319 - val_loss: 0.4888 - val_accuracy: 0.8096\n",
            "\n",
            "Epoch 00020: val_accuracy did not improve from 0.81756\n",
            "Epoch 21/100\n",
            "4796/4796 [==============================] - 101s 21ms/step - loss: 0.4621 - accuracy: 0.8302 - val_loss: 0.5017 - val_accuracy: 0.8156\n",
            "\n",
            "Epoch 00021: val_accuracy did not improve from 0.81756\n",
            "Epoch 22/100\n",
            "4796/4796 [==============================] - 101s 21ms/step - loss: 0.4542 - accuracy: 0.8313 - val_loss: 0.4881 - val_accuracy: 0.8132\n",
            "\n",
            "Epoch 00022: val_accuracy did not improve from 0.81756\n",
            "Epoch 23/100\n",
            "4796/4796 [==============================] - 101s 21ms/step - loss: 0.4518 - accuracy: 0.8322 - val_loss: 0.5097 - val_accuracy: 0.8139\n",
            "\n",
            "Epoch 00023: val_accuracy did not improve from 0.81756\n",
            "Epoch 24/100\n",
            "4796/4796 [==============================] - 101s 21ms/step - loss: 0.4847 - accuracy: 0.8192 - val_loss: 0.5002 - val_accuracy: 0.8150\n",
            "\n",
            "Epoch 00024: val_accuracy did not improve from 0.81756\n",
            "Epoch 25/100\n",
            "4796/4796 [==============================] - 101s 21ms/step - loss: 0.4659 - accuracy: 0.8279 - val_loss: 0.5080 - val_accuracy: 0.8086\n",
            "\n",
            "Epoch 00025: val_accuracy did not improve from 0.81756\n",
            "Epoch 26/100\n",
            "4796/4796 [==============================] - 101s 21ms/step - loss: 0.4733 - accuracy: 0.8303 - val_loss: 0.4952 - val_accuracy: 0.8151\n",
            "\n",
            "Epoch 00026: val_accuracy did not improve from 0.81756\n",
            "Epoch 00026: early stopping\n"
          ],
          "name": "stdout"
        }
      ]
    },
    {
      "cell_type": "code",
      "metadata": {
        "colab": {
          "base_uri": "https://localhost:8080/"
        },
        "id": "dQICzZhse_vK",
        "outputId": "72b4b1bc-a813-4166-ec46-68db480c0b89"
      },
      "source": [
        "model.summary()"
      ],
      "execution_count": 36,
      "outputs": [
        {
          "output_type": "stream",
          "text": [
            "Model: \"sequential_4\"\n",
            "_________________________________________________________________\n",
            "Layer (type)                 Output Shape              Param #   \n",
            "=================================================================\n",
            "bidirectional_4 (Bidirection (None, 74, 1000)          3204000   \n",
            "_________________________________________________________________\n",
            "attention_score_vec (Dense)  (None, 74, 1000)          1000000   \n",
            "_________________________________________________________________\n",
            "last_hidden_state (Lambda)   (None, 1000)              0         \n",
            "_________________________________________________________________\n",
            "attention_score (Dot)        (None, 74)                0         \n",
            "_________________________________________________________________\n",
            "attention_weight (Activation (None, 74)                0         \n",
            "_________________________________________________________________\n",
            "context_vector (Dot)         (None, 1000)              0         \n",
            "_________________________________________________________________\n",
            "attention_output (Concatenat (None, 2000)              0         \n",
            "_________________________________________________________________\n",
            "attention_vector (Dense)     (None, 128)               256000    \n",
            "_________________________________________________________________\n",
            "dropout_4 (Dropout)          (None, 128)               0         \n",
            "_________________________________________________________________\n",
            "dense_4 (Dense)              (None, 3)                 387       \n",
            "=================================================================\n",
            "Total params: 4,460,387\n",
            "Trainable params: 4,460,387\n",
            "Non-trainable params: 0\n",
            "_________________________________________________________________\n"
          ],
          "name": "stdout"
        }
      ]
    },
    {
      "cell_type": "code",
      "metadata": {
        "colab": {
          "base_uri": "https://localhost:8080/",
          "height": 404
        },
        "id": "gsriZ6Jje_vL",
        "outputId": "f7fd5033-f14c-4349-c6e5-fcd527d7b329"
      },
      "source": [
        "import matplotlib.pyplot as plt\r\n",
        "\r\n",
        "plt.figure(figsize=(10,6))\r\n",
        "plt.plot(hist.history['loss'])\r\n",
        "plt.plot(hist.history['val_loss'])\r\n",
        "plt.title('model train vs validation loss')\r\n",
        "plt.ylabel('loss')\r\n",
        "plt.xlabel('epoch')\r\n",
        "plt.legend(['train', 'validation'], loc='upper right')\r\n",
        "plt.show()"
      ],
      "execution_count": 37,
      "outputs": [
        {
          "output_type": "display_data",
          "data": {
            "image/png": "[encoded data removed]",
            "text/plain": [
              "<Figure size 720x432 with 1 Axes>"
            ]
          },
          "metadata": {
            "tags": [],
            "needs_background": "light"
          }
        }
      ]
    },
    {
      "cell_type": "code",
      "metadata": {
        "id": "yDtlyaoHe_vL"
      },
      "source": [
        "model_structure = model.to_json()\r\n",
        "\r\n",
        "with open(\"/content/drive/MyDrive/Springboard/Capstone Three/LSTM/attention_model_longinput_500neuron.json\", \"w\") as json_file:\r\n",
        "    json_file.write(model_structure)\r\n",
        " \r\n",
        "model.save_weights(\"/content/drive/MyDrive/Springboard/Capstone Three/LSTM/attention_model_longinput_500neuron_final.h5\")"
      ],
      "execution_count": null,
      "outputs": []
    },
    {
      "cell_type": "markdown",
      "metadata": {
        "id": "jHPE_2uzYu_U"
      },
      "source": [
        "# Load Model and Weights"
      ]
    },
    {
      "cell_type": "code",
      "metadata": {
        "id": "QMtkVnkGZyUQ"
      },
      "source": [
        "from keras.models import model_from_json\r\n",
        "\r\n",
        "# load lstm model structure\r\n",
        "with open(\"/content/drive/MyDrive/Springboard/Capstone Three/LSTM/attention_model_longinput.json\", \"r\") as json_file:\r\n",
        "    json_string = json_file.read()\r\n",
        "\r\n",
        "model = model_from_json(json_string)"
      ],
      "execution_count": null,
      "outputs": []
    },
    {
      "cell_type": "code",
      "metadata": {
        "id": "qtSr0Lv0ZyUQ"
      },
      "source": [
        "# load model weights\r\n",
        "model.load_weights('/content/drive/MyDrive/Springboard/Capstone Three/LSTM/attention_model_longinput_final.h5')"
      ],
      "execution_count": null,
      "outputs": []
    },
    {
      "cell_type": "code",
      "metadata": {
        "id": "uFAzoiMmZyUR"
      },
      "source": [
        "from sklearn.preprocessing import LabelEncoder\r\n",
        "\r\n",
        "# provide classes to the label encoder\r\n",
        "encoder = LabelEncoder()\r\n",
        "encoder.classes_ = np.array(['Negative', 'Neutural', 'Positive'])"
      ],
      "execution_count": null,
      "outputs": []
    },
    {
      "cell_type": "code",
      "metadata": {
        "id": "AdN7do8cZyUR"
      },
      "source": [
        "from keras.preprocessing import sequence\r\n",
        "\r\n",
        "X_test = w2v_embedding(X_test)\r\n",
        "X_test = sequence.pad_sequences(X_test, maxlen=74, padding='post', truncating='post', dtype='float32')"
      ],
      "execution_count": null,
      "outputs": []
    },
    {
      "cell_type": "code",
      "metadata": {
        "id": "pRxq3zJSZyUR"
      },
      "source": [
        "from sklearn.metrics import accuracy_score\r\n",
        "from sklearn.metrics import balanced_accuracy_score\r\n",
        "from sklearn.metrics import classification_report\r\n",
        "\r\n",
        "y_pred = model.predict_classes(X_test)\r\n",
        "y_pred = encoder.inverse_transform(y_pred)\r\n",
        "\r\n",
        "print('Accuracy Score: {}'.format(accuracy_score(y_test, y_pred)))\r\n",
        "print('\\nBalanced Accuracy Score: {}\\n'.format(balanced_accuracy_score(y_test, y_pred)))\r\n",
        "print(classification_report(y_test, y_pred))"
      ],
      "execution_count": null,
      "outputs": []
    }
  ]
}
