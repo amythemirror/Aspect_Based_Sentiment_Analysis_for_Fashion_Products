{
  "nbformat": 4,
  "nbformat_minor": 0,
  "metadata": {
    "kernelspec": {
      "display_name": "Python 3",
      "language": "python",
      "name": "python3"
    },
    "language_info": {
      "codemirror_mode": {
        "name": "ipython",
        "version": 3
      },
      "file_extension": ".py",
      "mimetype": "text/x-python",
      "name": "python",
      "nbconvert_exporter": "python",
      "pygments_lexer": "ipython3",
      "version": "3.7.6"
    },
    "colab": {
      "name": "Sentiment Analysis - LSTM.ipynb",
      "provenance": [],
      "collapsed_sections": [],
      "machine_shape": "hm",
      "include_colab_link": true
    },
    "accelerator": "GPU"
  },
  "cells": [
    {
      "cell_type": "markdown",
      "metadata": {
        "id": "view-in-github",
        "colab_type": "text"
      },
      "source": [
        "<a href=\"https://colab.research.google.com/github/amythemirror/Springboard-Capstone-Three/blob/main/Sentiment_Analysis_LSTM.ipynb\" target=\"_parent\"><img src=\"https://colab.research.google.com/assets/colab-badge.svg\" alt=\"Open In Colab\"/></a>"
      ]
    },
    {
      "cell_type": "markdown",
      "metadata": {
        "id": "q84F3BcIjGuB"
      },
      "source": [
        "# Mount Google Drive"
      ]
    },
    {
      "cell_type": "code",
      "metadata": {
        "colab": {
          "base_uri": "https://localhost:8080/"
        },
        "id": "HDZ2CDyowm6_",
        "outputId": "6b03756d-6974-4b6e-b02d-3c9717ecbcab"
      },
      "source": [
        "from google.colab import drive\r\n",
        "drive.mount('/content/drive')"
      ],
      "execution_count": 3,
      "outputs": [
        {
          "output_type": "stream",
          "text": [
            "Mounted at /content/drive\n"
          ],
          "name": "stdout"
        }
      ]
    },
    {
      "cell_type": "markdown",
      "metadata": {
        "id": "P3-zyKmzwtkR"
      },
      "source": [
        "# Load Data"
      ]
    },
    {
      "cell_type": "code",
      "metadata": {
        "id": "6gJzGqc8QsFr"
      },
      "source": [
        "import numpy as np\n",
        "import pandas as pd\n",
        "from ast import literal_eval"
      ],
      "execution_count": 4,
      "outputs": []
    },
    {
      "cell_type": "code",
      "metadata": {
        "id": "Sa-EhbcnQsFw"
      },
      "source": [
        "X = pd.read_csv('/content/drive/MyDrive/Springboard/Capstone Three/data_wrangling.csv',\\\n",
        "                usecols=['reviewClean'], squeeze=True,\\\n",
        "                converters={'reviewClean': literal_eval}).values\n",
        "y = pd.read_csv('/content/drive/MyDrive/Springboard/Capstone Three/data_wrangling.csv',\\\n",
        "                usecols=['sentiment'], squeeze=True).values"
      ],
      "execution_count": 23,
      "outputs": []
    },
    {
      "cell_type": "code",
      "metadata": {
        "id": "WPxbwub7QsFx"
      },
      "source": [
        "from sklearn.model_selection import train_test_split\n",
        "\n",
        "X_train, X_test, y_train, y_test = train_test_split(X, y, train_size=0.8, stratify=y, random_state=42)"
      ],
      "execution_count": 6,
      "outputs": []
    },
    {
      "cell_type": "code",
      "metadata": {
        "id": "3b4LQm6jSxCG"
      },
      "source": [
        "def convert_list_to_string(org_list, seperator=' '):\r\n",
        "    \"\"\" Convert list to string, by joining all item in list with given separator.\r\n",
        "        Returns the concatenated string \"\"\"\r\n",
        "    return seperator.join(org_list)\r\n",
        "\r\n",
        "X_train = [convert_list_to_string(tokens) for tokens in X_train]\r\n",
        "X_test = [convert_list_to_string(tokens) for tokens in X_test]"
      ],
      "execution_count": 7,
      "outputs": []
    },
    {
      "cell_type": "code",
      "metadata": {
        "colab": {
          "base_uri": "https://localhost:8080/"
        },
        "id": "eCQ6pG9YQsFx",
        "outputId": "c368b42f-82ee-4ce1-8089-bf75b8845b78"
      },
      "source": [
        "from sklearn.preprocessing import LabelEncoder\n",
        "\n",
        "# encode text sentiment labels\n",
        "encoder = LabelEncoder()\n",
        "y_train = encoder.fit_transform(y_train)\n",
        "# y_test = encoder.transform(y_test)\n",
        "\n",
        "encoder.classes_"
      ],
      "execution_count": 8,
      "outputs": [
        {
          "output_type": "execute_result",
          "data": {
            "text/plain": [
              "array(['Negative', 'Neutral', 'Positive'], dtype=object)"
            ]
          },
          "metadata": {
            "tags": []
          },
          "execution_count": 8
        }
      ]
    },
    {
      "cell_type": "markdown",
      "metadata": {
        "id": "ZPTqJsqEwxcr"
      },
      "source": [
        "# Feature Engineering"
      ]
    },
    {
      "cell_type": "markdown",
      "metadata": {
        "id": "njuDq5PXQsFy"
      },
      "source": [
        "**Word2Vec Embedding**"
      ]
    },
    {
      "cell_type": "code",
      "metadata": {
        "colab": {
          "base_uri": "https://localhost:8080/"
        },
        "id": "LFMUqmC5zrD9",
        "outputId": "50780f0b-9711-44eb-cd36-3b03dd8eeda3"
      },
      "source": [
        "import gensim.downloader as api\r\n",
        "wv = api.load('word2vec-google-news-300')"
      ],
      "execution_count": 9,
      "outputs": [
        {
          "output_type": "stream",
          "text": [
            "[==================================================] 100.0% 1662.8/1662.8MB downloaded\n"
          ],
          "name": "stdout"
        }
      ]
    },
    {
      "cell_type": "code",
      "metadata": {
        "id": "7yuvPxWsQsFz"
      },
      "source": [
        "from tqdm import tqdm\n",
        "\n",
        "def w2v_embedding(reviews):\n",
        "    review_vecs = []\n",
        "\n",
        "    for tokens in tqdm(reviews):\n",
        "        token_vecs = []\n",
        "        for token in tokens:\n",
        "            try:\n",
        "                token_vecs.append(wv[token])\n",
        "            except KeyError:\n",
        "                pass\n",
        "        review_vecs.append(token_vecs)\n",
        "    \n",
        "    return review_vecs"
      ],
      "execution_count": 10,
      "outputs": []
    },
    {
      "cell_type": "code",
      "metadata": {
        "colab": {
          "base_uri": "https://localhost:8080/"
        },
        "id": "xAlt7UgrQsFz",
        "outputId": "125777d2-7a6b-4178-a491-1203f3ff7923"
      },
      "source": [
        "X_train = w2v_embedding(X_train)\n",
        "X_test = w2v_embedding(X_test)"
      ],
      "execution_count": 11,
      "outputs": [
        {
          "output_type": "stream",
          "text": [
            "100%|██████████| 682071/682071 [01:08<00:00, 9971.12it/s] \n",
            "100%|██████████| 170518/170518 [00:16<00:00, 10363.50it/s]\n"
          ],
          "name": "stderr"
        }
      ]
    },
    {
      "cell_type": "code",
      "metadata": {
        "id": "FQITtoFiQsF0"
      },
      "source": [
        "from keras.preprocessing import sequence\n",
        "from keras.utils import np_utils\n",
        "\n",
        "X_train = sequence.pad_sequences(X_train, maxlen=36, padding='post', truncating='post', dtype='float32')\n",
        "X_test = sequence.pad_sequences(X_test, maxlen=16, padding='post', truncating='post', dtype='float32')\n",
        "\n",
        "# one-hot encode for lstm\n",
        "y_train = np_utils.to_categorical(y_train)"
      ],
      "execution_count": null,
      "outputs": []
    },
    {
      "cell_type": "code",
      "metadata": {
        "id": "8wlHpwm0xECI"
      },
      "source": [
        "# import sys\r\n",
        "\r\n",
        "# local_vars = list(locals().items())\r\n",
        "# for var, obj in local_vars:\r\n",
        "#     if sys.getsizeof(obj) > 10000:\r\n",
        "#         print(var, sys.getsizeof(obj))\r\n",
        "#     else:\r\n",
        "#         pass"
      ],
      "execution_count": 13,
      "outputs": []
    },
    {
      "cell_type": "code",
      "metadata": {
        "id": "d_R8rtZgxS99"
      },
      "source": [
        "# del X, y\r\n",
        "\r\n",
        "# import gc\r\n",
        "# gc.collect()"
      ],
      "execution_count": 14,
      "outputs": []
    },
    {
      "cell_type": "markdown",
      "metadata": {
        "id": "1QA80mJdQsFz"
      },
      "source": [
        "**Class Weights for Imbalanced Dataset**"
      ]
    },
    {
      "cell_type": "code",
      "metadata": {
        "id": "88BSFarhQsF0"
      },
      "source": [
        "# import numpy as np\n",
        "# from sklearn.utils import class_weight\n",
        "\n",
        "# # calculate class weight\n",
        "# class_weights = class_weight.compute_class_weight('balanced', np.unique(y_train), y_train)\n",
        "# class_weight_dict = dict(enumerate(class_weights))\n",
        "# class_weight_dict"
      ],
      "execution_count": null,
      "outputs": []
    },
    {
      "cell_type": "code",
      "metadata": {
        "id": "5n2qB_bwQsF0"
      },
      "source": [
        "# class_weight_dict = {0: 1, 1: 10, 2: 0.1}\n",
        "# class_weight_dict"
      ],
      "execution_count": null,
      "outputs": []
    },
    {
      "cell_type": "markdown",
      "metadata": {
        "id": "7Pj0ESQRw2cu"
      },
      "source": [
        "# Model Training"
      ]
    },
    {
      "cell_type": "code",
      "metadata": {
        "id": "-RhAwE07QsF1"
      },
      "source": [
        "maxlen = 16\n",
        "batch_size = 32\n",
        "embedding_dims = 300\n",
        "epochs = 50"
      ],
      "execution_count": 17,
      "outputs": []
    },
    {
      "cell_type": "markdown",
      "metadata": {
        "id": "mnNFSwZKQsF1"
      },
      "source": [
        "##LSTM"
      ]
    },
    {
      "cell_type": "code",
      "metadata": {
        "colab": {
          "base_uri": "https://localhost:8080/"
        },
        "id": "3XwH5YZuQsF1",
        "outputId": "b6945d0d-cb52-4667-dd8f-bac653c548ad"
      },
      "source": [
        "from keras.models import Sequential\n",
        "from keras.layers import Flatten, Dense, Embedding, Dropout\n",
        "from keras.layers import LSTM\n",
        "\n",
        "num_neurons = 100\n",
        "\n",
        "model = Sequential()\n",
        "model.add(LSTM(num_neurons, return_sequences=False,\n",
        "               input_shape=(maxlen, embedding_dims)))\n",
        "model.add(Dropout(.2))\n",
        "model.add(Dense(3, activation='softmax'))\n",
        "\n",
        "model.compile('rmsprop', 'categorical_crossentropy',  metrics=['accuracy'])\n",
        "\n",
        "print(model.summary())"
      ],
      "execution_count": 13,
      "outputs": [
        {
          "output_type": "stream",
          "text": [
            "Model: \"sequential\"\n",
            "_________________________________________________________________\n",
            "Layer (type)                 Output Shape              Param #   \n",
            "=================================================================\n",
            "lstm (LSTM)                  (None, 100)               160400    \n",
            "_________________________________________________________________\n",
            "dropout (Dropout)            (None, 100)               0         \n",
            "_________________________________________________________________\n",
            "dense (Dense)                (None, 3)                 303       \n",
            "=================================================================\n",
            "Total params: 160,703\n",
            "Trainable params: 160,703\n",
            "Non-trainable params: 0\n",
            "_________________________________________________________________\n",
            "None\n"
          ],
          "name": "stdout"
        }
      ]
    },
    {
      "cell_type": "code",
      "metadata": {
        "id": "htTDX0XTQsF1"
      },
      "source": [
        "from keras.callbacks import EarlyStopping\n",
        "from keras.callbacks import ModelCheckpoint\n",
        "\n",
        "# patient early stopping\n",
        "es = EarlyStopping(monitor='val_loss', mode='min', verbose=1, patience=50)\n",
        "# save the model with the best accuracy on the test dataset\n",
        "mc = ModelCheckpoint('/content/drive/MyDrive/Springboard/Capstone Three/LSTM/lstm_model.h5', monitor='val_accuracy', mode='max', verbose=1, save_best_only=True)"
      ],
      "execution_count": 14,
      "outputs": []
    },
    {
      "cell_type": "code",
      "metadata": {
        "colab": {
          "base_uri": "https://localhost:8080/"
        },
        "id": "BFo_fR7XQsF2",
        "outputId": "eb6a75a1-5c5c-4fe4-d0d2-137f56734e23"
      },
      "source": [
        "model.fit(X_train, y_train,\n",
        "          batch_size=batch_size,\n",
        "          epochs=epochs,\n",
        "          callbacks=[mc, es],\n",
        "          validation_split=0.1)"
      ],
      "execution_count": 20,
      "outputs": [
        {
          "output_type": "stream",
          "text": [
            "Epoch 1/50\n",
            "19184/19184 [==============================] - 72s 4ms/step - loss: 0.4196 - accuracy: 0.8392 - val_loss: 0.4313 - val_accuracy: 0.8326\n",
            "\n",
            "Epoch 00001: val_accuracy did not improve from 0.83874\n",
            "Epoch 2/50\n",
            "19184/19184 [==============================] - 71s 4ms/step - loss: 0.4204 - accuracy: 0.8394 - val_loss: 0.4283 - val_accuracy: 0.8358\n",
            "\n",
            "Epoch 00002: val_accuracy did not improve from 0.83874\n",
            "Epoch 3/50\n",
            "19184/19184 [==============================] - 71s 4ms/step - loss: 0.4180 - accuracy: 0.8397 - val_loss: 0.4284 - val_accuracy: 0.8355\n",
            "\n",
            "Epoch 00003: val_accuracy did not improve from 0.83874\n",
            "Epoch 4/50\n",
            "19184/19184 [==============================] - 73s 4ms/step - loss: 0.4179 - accuracy: 0.8407 - val_loss: 0.4278 - val_accuracy: 0.8358\n",
            "\n",
            "Epoch 00004: val_accuracy did not improve from 0.83874\n",
            "Epoch 5/50\n",
            "19184/19184 [==============================] - 72s 4ms/step - loss: 0.4189 - accuracy: 0.8410 - val_loss: 0.4294 - val_accuracy: 0.8346\n",
            "\n",
            "Epoch 00005: val_accuracy did not improve from 0.83874\n",
            "Epoch 6/50\n",
            "19184/19184 [==============================] - 72s 4ms/step - loss: 0.4205 - accuracy: 0.8405 - val_loss: 0.4323 - val_accuracy: 0.8354\n",
            "\n",
            "Epoch 00006: val_accuracy did not improve from 0.83874\n",
            "Epoch 7/50\n",
            "19184/19184 [==============================] - 72s 4ms/step - loss: 0.4217 - accuracy: 0.8409 - val_loss: 0.4323 - val_accuracy: 0.8353\n",
            "\n",
            "Epoch 00007: val_accuracy did not improve from 0.83874\n",
            "Epoch 8/50\n",
            "19184/19184 [==============================] - 72s 4ms/step - loss: 0.4235 - accuracy: 0.8407 - val_loss: 0.4436 - val_accuracy: 0.8320\n",
            "\n",
            "Epoch 00008: val_accuracy did not improve from 0.83874\n",
            "Epoch 9/50\n",
            "19184/19184 [==============================] - 72s 4ms/step - loss: 0.4261 - accuracy: 0.8403 - val_loss: 0.4392 - val_accuracy: 0.8335\n",
            "\n",
            "Epoch 00009: val_accuracy did not improve from 0.83874\n",
            "Epoch 10/50\n",
            "19184/19184 [==============================] - 72s 4ms/step - loss: 0.4255 - accuracy: 0.8409 - val_loss: 0.4421 - val_accuracy: 0.8329\n",
            "\n",
            "Epoch 00010: val_accuracy did not improve from 0.83874\n",
            "Epoch 11/50\n",
            "19184/19184 [==============================] - 71s 4ms/step - loss: 0.4264 - accuracy: 0.8412 - val_loss: 0.4445 - val_accuracy: 0.8336\n",
            "\n",
            "Epoch 00011: val_accuracy did not improve from 0.83874\n",
            "Epoch 12/50\n",
            "19184/19184 [==============================] - 72s 4ms/step - loss: 0.4312 - accuracy: 0.8401 - val_loss: 0.4441 - val_accuracy: 0.8316\n",
            "\n",
            "Epoch 00012: val_accuracy did not improve from 0.83874\n",
            "Epoch 13/50\n",
            "19184/19184 [==============================] - 72s 4ms/step - loss: 0.4288 - accuracy: 0.8404 - val_loss: 0.4441 - val_accuracy: 0.8326\n",
            "\n",
            "Epoch 00013: val_accuracy did not improve from 0.83874\n",
            "Epoch 14/50\n",
            "19184/19184 [==============================] - 72s 4ms/step - loss: 0.4292 - accuracy: 0.8404 - val_loss: 0.4397 - val_accuracy: 0.8321\n",
            "\n",
            "Epoch 00014: val_accuracy did not improve from 0.83874\n",
            "Epoch 15/50\n",
            "19184/19184 [==============================] - 72s 4ms/step - loss: 0.4297 - accuracy: 0.8403 - val_loss: 0.4482 - val_accuracy: 0.8315\n",
            "\n",
            "Epoch 00015: val_accuracy did not improve from 0.83874\n",
            "Epoch 16/50\n",
            "19184/19184 [==============================] - 72s 4ms/step - loss: 0.4317 - accuracy: 0.8403 - val_loss: 0.4440 - val_accuracy: 0.8325\n",
            "\n",
            "Epoch 00016: val_accuracy did not improve from 0.83874\n",
            "Epoch 17/50\n",
            "19184/19184 [==============================] - 72s 4ms/step - loss: 0.4338 - accuracy: 0.8398 - val_loss: 0.4439 - val_accuracy: 0.8327\n",
            "\n",
            "Epoch 00017: val_accuracy did not improve from 0.83874\n",
            "Epoch 18/50\n",
            "19184/19184 [==============================] - 72s 4ms/step - loss: 0.4356 - accuracy: 0.8388 - val_loss: 0.4507 - val_accuracy: 0.8309\n",
            "\n",
            "Epoch 00018: val_accuracy did not improve from 0.83874\n",
            "Epoch 19/50\n",
            "19184/19184 [==============================] - 72s 4ms/step - loss: 0.4365 - accuracy: 0.8385 - val_loss: 0.4443 - val_accuracy: 0.8314\n",
            "\n",
            "Epoch 00019: val_accuracy did not improve from 0.83874\n",
            "Epoch 20/50\n",
            "19184/19184 [==============================] - 72s 4ms/step - loss: 0.4359 - accuracy: 0.8386 - val_loss: 0.4411 - val_accuracy: 0.8332\n",
            "\n",
            "Epoch 00020: val_accuracy did not improve from 0.83874\n",
            "Epoch 21/50\n",
            "19184/19184 [==============================] - 72s 4ms/step - loss: 0.4376 - accuracy: 0.8385 - val_loss: 0.4509 - val_accuracy: 0.8312\n",
            "\n",
            "Epoch 00021: val_accuracy did not improve from 0.83874\n",
            "Epoch 22/50\n",
            "19184/19184 [==============================] - 72s 4ms/step - loss: 0.4393 - accuracy: 0.8377 - val_loss: 0.4550 - val_accuracy: 0.8307\n",
            "\n",
            "Epoch 00022: val_accuracy did not improve from 0.83874\n",
            "Epoch 23/50\n",
            "19184/19184 [==============================] - 71s 4ms/step - loss: 0.4417 - accuracy: 0.8369 - val_loss: 0.4463 - val_accuracy: 0.8307\n",
            "\n",
            "Epoch 00023: val_accuracy did not improve from 0.83874\n",
            "Epoch 24/50\n",
            "19184/19184 [==============================] - 72s 4ms/step - loss: 0.4410 - accuracy: 0.8367 - val_loss: 0.4587 - val_accuracy: 0.8287\n",
            "\n",
            "Epoch 00024: val_accuracy did not improve from 0.83874\n",
            "Epoch 00024: early stopping\n"
          ],
          "name": "stdout"
        },
        {
          "output_type": "execute_result",
          "data": {
            "text/plain": [
              "<tensorflow.python.keras.callbacks.History at 0x7f8b204cfc50>"
            ]
          },
          "metadata": {
            "tags": []
          },
          "execution_count": 20
        }
      ]
    },
    {
      "cell_type": "code",
      "metadata": {
        "colab": {
          "base_uri": "https://localhost:8080/"
        },
        "id": "0FEDryYkRqPS",
        "outputId": "56ad6383-5057-46f3-f6b0-781ca5a62322"
      },
      "source": [
        "from sklearn.metrics import accuracy_score\r\n",
        "from sklearn.metrics import balanced_accuracy_score\r\n",
        "from sklearn.metrics import classification_report\r\n",
        "\r\n",
        "y_pred = model.predict_classes(X_test)\r\n",
        "y_pred = encoder.inverse_transform(y_pred)\r\n",
        "\r\n",
        "print('Accuracy Score: {}'.format(accuracy_score(y_test, y_pred)))\r\n",
        "print('\\nBalanced Accuracy Score: {}\\n'.format(balanced_accuracy_score(y_test, y_pred)))\r\n",
        "print(classification_report(y_test, y_pred))"
      ],
      "execution_count": 21,
      "outputs": [
        {
          "output_type": "stream",
          "text": [
            "/usr/local/lib/python3.7/dist-packages/tensorflow/python/keras/engine/sequential.py:450: UserWarning: `model.predict_classes()` is deprecated and will be removed after 2021-01-01. Please use instead:* `np.argmax(model.predict(x), axis=-1)`,   if your model does multi-class classification   (e.g. if it uses a `softmax` last-layer activation).* `(model.predict(x) > 0.5).astype(\"int32\")`,   if your model does binary classification   (e.g. if it uses a `sigmoid` last-layer activation).\n",
            "  warnings.warn('`model.predict_classes()` is deprecated and '\n"
          ],
          "name": "stderr"
        },
        {
          "output_type": "stream",
          "text": [
            "Accuracy Score: 0.8249568960461652\n",
            "\n",
            "Balanced Accuracy Score: 0.6130540169127454\n",
            "\n",
            "              precision    recall  f1-score   support\n",
            "\n",
            "    Negative       0.73      0.73      0.73     33576\n",
            "     Neutral       0.46      0.15      0.23     18808\n",
            "    Positive       0.87      0.96      0.91    118134\n",
            "\n",
            "    accuracy                           0.82    170518\n",
            "   macro avg       0.69      0.61      0.62    170518\n",
            "weighted avg       0.79      0.82      0.80    170518\n",
            "\n"
          ],
          "name": "stdout"
        }
      ]
    },
    {
      "cell_type": "code",
      "metadata": {
        "id": "iJk5jK2ZQsF2"
      },
      "source": [
        "# model_structure = model.to_json()\n",
        "# with open(\"lstm_model.json\", \"w\") as json_file:\n",
        "#     json_file.write(model_structure)\n",
        " \n",
        "# model.save_weights(\"lstm_weights.h5\")"
      ],
      "execution_count": null,
      "outputs": []
    },
    {
      "cell_type": "code",
      "metadata": {
        "id": "Wkidnl0tQsF2"
      },
      "source": [
        "# from keras.models import model_from_json\n",
        "# from sklearn.preprocessing import LabelEncoder\n",
        "\n",
        "# # load lstm model structure\n",
        "# with open(\"lstm_model.json\", \"r\") as json_file:\n",
        "#     json_string = json_file.read()\n",
        "# model = model_from_json(json_string)\n",
        "\n",
        "# # load model weights\n",
        "# model.load_weights('lstm_weights.h5')\n",
        "\n",
        "# # provide classes to the label encoder\n",
        "# encoder = LabelEncoder()\n",
        "# encoder.classes_ = np.array(['Negative', 'Neutural', 'Positive'])"
      ],
      "execution_count": null,
      "outputs": []
    },
    {
      "cell_type": "markdown",
      "metadata": {
        "id": "WoMFa3LqQsF2"
      },
      "source": [
        "##Bidirectional LSTM"
      ]
    },
    {
      "cell_type": "code",
      "metadata": {
        "id": "LijgLf-qQsF3"
      },
      "source": [
        "from keras.models import Sequential\n",
        "from keras.layers import Flatten, Dense, Embedding, Dropout\n",
        "from keras.layers import LSTM\n",
        "from keras.layers import Bidirectional\n",
        "\n",
        "num_neurons = 100\n",
        "\n",
        "model = Sequential()\n",
        "model.add(Bidirectional(LSTM(num_neurons, return_sequences=False,\n",
        "               input_shape=(maxlen, embedding_dims))))\n",
        "model.add(Dropout(.2))\n",
        "model.add(Dense(3, activation='softmax'))\n",
        "\n",
        "model.compile('rmsprop', 'categorical_crossentropy',  metrics=['accuracy'])\n",
        "\n",
        "print(model.summary())"
      ],
      "execution_count": null,
      "outputs": []
    },
    {
      "cell_type": "code",
      "metadata": {
        "id": "KkD5gXL_QsF3"
      },
      "source": [
        "from keras.callbacks import EarlyStopping\n",
        "from keras.callbacks import ModelCheckpoint\n",
        "\n",
        "# patient early stopping\n",
        "es = EarlyStopping(monitor='val_loss', mode='min', verbose=1, patience=20)\n",
        "# save the model with the best accuracy on the test dataset\n",
        "mc = ModelCheckpoint('/content/drive/MyDrive/Springboard/Capstone Three/LSTM/bidirectional_model.h5', monitor='val_accuracy', mode='max', verbose=1, save_best_only=True)"
      ],
      "execution_count": 23,
      "outputs": []
    },
    {
      "cell_type": "code",
      "metadata": {
        "colab": {
          "base_uri": "https://localhost:8080/"
        },
        "id": "o3ZUsltBQsF3",
        "outputId": "41be31da-8b29-4dc8-ecac-37de2c775b19"
      },
      "source": [
        "hist = model.fit(X_train, y_train,\n",
        "                 batch_size=batch_size,\n",
        "                 epochs=epochs,\n",
        "                 callbacks=[mc, es],\n",
        "                 validation_split=0.1)"
      ],
      "execution_count": 25,
      "outputs": [
        {
          "output_type": "stream",
          "text": [
            "Epoch 1/50\n",
            "19184/19184 [==============================] - 109s 5ms/step - loss: 0.4878 - accuracy: 0.8058 - val_loss: 0.4253 - val_accuracy: 0.8329\n",
            "\n",
            "Epoch 00001: val_accuracy improved from -inf to 0.83294, saving model to /content/drive/MyDrive/Springboard/Capstone Three/LSTM/bidirectional_model.h5\n",
            "Epoch 2/50\n",
            "19184/19184 [==============================] - 105s 5ms/step - loss: 0.4208 - accuracy: 0.8349 - val_loss: 0.4392 - val_accuracy: 0.8347\n",
            "\n",
            "Epoch 00002: val_accuracy improved from 0.83294 to 0.83473, saving model to /content/drive/MyDrive/Springboard/Capstone Three/LSTM/bidirectional_model.h5\n",
            "Epoch 3/50\n",
            "19184/19184 [==============================] - 104s 5ms/step - loss: 0.4160 - accuracy: 0.8385 - val_loss: 0.4309 - val_accuracy: 0.8348\n",
            "\n",
            "Epoch 00003: val_accuracy improved from 0.83473 to 0.83481, saving model to /content/drive/MyDrive/Springboard/Capstone Three/LSTM/bidirectional_model.h5\n",
            "Epoch 4/50\n",
            "19184/19184 [==============================] - 105s 5ms/step - loss: 0.4198 - accuracy: 0.8391 - val_loss: 0.4369 - val_accuracy: 0.8327\n",
            "\n",
            "Epoch 00004: val_accuracy did not improve from 0.83481\n",
            "Epoch 5/50\n",
            "19184/19184 [==============================] - 105s 5ms/step - loss: 0.4165 - accuracy: 0.8405 - val_loss: 0.4259 - val_accuracy: 0.8360\n",
            "\n",
            "Epoch 00005: val_accuracy improved from 0.83481 to 0.83599, saving model to /content/drive/MyDrive/Springboard/Capstone Three/LSTM/bidirectional_model.h5\n",
            "Epoch 6/50\n",
            "19184/19184 [==============================] - 105s 5ms/step - loss: 0.4180 - accuracy: 0.8414 - val_loss: 0.4298 - val_accuracy: 0.8368\n",
            "\n",
            "Epoch 00006: val_accuracy improved from 0.83599 to 0.83684, saving model to /content/drive/MyDrive/Springboard/Capstone Three/LSTM/bidirectional_model.h5\n",
            "Epoch 7/50\n",
            "19184/19184 [==============================] - 105s 5ms/step - loss: 0.4189 - accuracy: 0.8416 - val_loss: 0.4421 - val_accuracy: 0.8336\n",
            "\n",
            "Epoch 00007: val_accuracy did not improve from 0.83684\n",
            "Epoch 8/50\n",
            "19184/19184 [==============================] - 105s 5ms/step - loss: 0.4216 - accuracy: 0.8415 - val_loss: 0.4423 - val_accuracy: 0.8367\n",
            "\n",
            "Epoch 00008: val_accuracy did not improve from 0.83684\n",
            "Epoch 9/50\n",
            "19184/19184 [==============================] - 105s 5ms/step - loss: 0.4238 - accuracy: 0.8415 - val_loss: 0.4351 - val_accuracy: 0.8339\n",
            "\n",
            "Epoch 00009: val_accuracy did not improve from 0.83684\n",
            "Epoch 10/50\n",
            "19184/19184 [==============================] - 106s 6ms/step - loss: 0.4198 - accuracy: 0.8429 - val_loss: 0.4638 - val_accuracy: 0.8338\n",
            "\n",
            "Epoch 00010: val_accuracy did not improve from 0.83684\n",
            "Epoch 11/50\n",
            "19184/19184 [==============================] - 106s 6ms/step - loss: 0.4256 - accuracy: 0.8420 - val_loss: 0.4762 - val_accuracy: 0.8348\n",
            "\n",
            "Epoch 00011: val_accuracy did not improve from 0.83684\n",
            "Epoch 12/50\n",
            "19184/19184 [==============================] - 105s 5ms/step - loss: 0.4339 - accuracy: 0.8411 - val_loss: 0.4740 - val_accuracy: 0.8326\n",
            "\n",
            "Epoch 00012: val_accuracy did not improve from 0.83684\n",
            "Epoch 13/50\n",
            "19184/19184 [==============================] - 105s 5ms/step - loss: 0.4368 - accuracy: 0.8407 - val_loss: 0.4709 - val_accuracy: 0.8334\n",
            "\n",
            "Epoch 00013: val_accuracy did not improve from 0.83684\n",
            "Epoch 14/50\n",
            "19184/19184 [==============================] - 106s 6ms/step - loss: 0.4406 - accuracy: 0.8415 - val_loss: 0.4919 - val_accuracy: 0.8323\n",
            "\n",
            "Epoch 00014: val_accuracy did not improve from 0.83684\n",
            "Epoch 15/50\n",
            "19184/19184 [==============================] - 105s 5ms/step - loss: 0.4421 - accuracy: 0.8412 - val_loss: 0.4810 - val_accuracy: 0.8311\n",
            "\n",
            "Epoch 00015: val_accuracy did not improve from 0.83684\n",
            "Epoch 16/50\n",
            "19184/19184 [==============================] - 106s 6ms/step - loss: 0.4436 - accuracy: 0.8411 - val_loss: 0.4914 - val_accuracy: 0.8331\n",
            "\n",
            "Epoch 00016: val_accuracy did not improve from 0.83684\n",
            "Epoch 17/50\n",
            "19184/19184 [==============================] - 106s 6ms/step - loss: 0.4433 - accuracy: 0.8407 - val_loss: 0.5072 - val_accuracy: 0.8319\n",
            "\n",
            "Epoch 00017: val_accuracy did not improve from 0.83684\n",
            "Epoch 18/50\n",
            "19184/19184 [==============================] - 106s 6ms/step - loss: 0.4475 - accuracy: 0.8413 - val_loss: 0.5030 - val_accuracy: 0.8255\n",
            "\n",
            "Epoch 00018: val_accuracy did not improve from 0.83684\n",
            "Epoch 19/50\n",
            "19184/19184 [==============================] - 107s 6ms/step - loss: 0.4599 - accuracy: 0.8410 - val_loss: 0.5182 - val_accuracy: 0.8297\n",
            "\n",
            "Epoch 00019: val_accuracy did not improve from 0.83684\n",
            "Epoch 20/50\n",
            "19184/19184 [==============================] - 106s 6ms/step - loss: 0.4519 - accuracy: 0.8405 - val_loss: 0.5034 - val_accuracy: 0.8332\n",
            "\n",
            "Epoch 00020: val_accuracy did not improve from 0.83684\n",
            "Epoch 21/50\n",
            "19184/19184 [==============================] - 106s 5ms/step - loss: 0.4528 - accuracy: 0.8402 - val_loss: 0.5588 - val_accuracy: 0.8291\n",
            "\n",
            "Epoch 00021: val_accuracy did not improve from 0.83684\n",
            "Epoch 00021: early stopping\n"
          ],
          "name": "stdout"
        }
      ]
    },
    {
      "cell_type": "code",
      "metadata": {
        "colab": {
          "base_uri": "https://localhost:8080/",
          "height": 404
        },
        "id": "tbv3KvlxQsF4",
        "outputId": "b6782741-8bb5-4096-85ca-f2619da6b2f5"
      },
      "source": [
        "import matplotlib.pyplot as plt\n",
        "\n",
        "plt.figure(figsize=(10,6))\n",
        "plt.plot(hist.history['loss'])\n",
        "plt.plot(hist.history['val_loss'])\n",
        "plt.title('model train vs validation loss')\n",
        "plt.ylabel('loss')\n",
        "plt.xlabel('epoch')\n",
        "plt.legend(['train', 'validation'], loc='upper right')\n",
        "plt.show()"
      ],
      "execution_count": 26,
      "outputs": [
        {
          "output_type": "display_data",
          "data": {
            "image/png": "[encoded data removed]",
            "text/plain": [
              "<Figure size 720x432 with 1 Axes>"
            ]
          },
          "metadata": {
            "tags": [],
            "needs_background": "light"
          }
        }
      ]
    },
    {
      "cell_type": "code",
      "metadata": {
        "scrolled": true,
        "colab": {
          "base_uri": "https://localhost:8080/"
        },
        "id": "DbNAD9qQQsF4",
        "outputId": "52d79cc9-e6f2-4da9-d7ce-0ad15ff35efe"
      },
      "source": [
        "from sklearn.metrics import accuracy_score\n",
        "from sklearn.metrics import balanced_accuracy_score\n",
        "from sklearn.metrics import classification_report\n",
        "\n",
        "y_pred = model.predict_classes(X_test)\n",
        "y_pred = encoder.inverse_transform(y_pred)\n",
        "\n",
        "print('Accuracy Score: {}'.format(accuracy_score(y_test, y_pred)))\n",
        "print('\\nBalanced Accuracy Score: {}\\n'.format(balanced_accuracy_score(y_test, y_pred)))\n",
        "print(classification_report(y_test, y_pred))"
      ],
      "execution_count": 27,
      "outputs": [
        {
          "output_type": "stream",
          "text": [
            "/usr/local/lib/python3.7/dist-packages/tensorflow/python/keras/engine/sequential.py:450: UserWarning: `model.predict_classes()` is deprecated and will be removed after 2021-01-01. Please use instead:* `np.argmax(model.predict(x), axis=-1)`,   if your model does multi-class classification   (e.g. if it uses a `softmax` last-layer activation).* `(model.predict(x) > 0.5).astype(\"int32\")`,   if your model does binary classification   (e.g. if it uses a `sigmoid` last-layer activation).\n",
            "  warnings.warn('`model.predict_classes()` is deprecated and '\n"
          ],
          "name": "stderr"
        },
        {
          "output_type": "stream",
          "text": [
            "Accuracy Score: 0.8259128068591\n",
            "\n",
            "Balanced Accuracy Score: 0.6236571818858551\n",
            "\n",
            "              precision    recall  f1-score   support\n",
            "\n",
            "    Negative       0.75      0.72      0.73     33576\n",
            "     Neutral       0.43      0.20      0.27     18808\n",
            "    Positive       0.87      0.96      0.91    118134\n",
            "\n",
            "    accuracy                           0.83    170518\n",
            "   macro avg       0.68      0.62      0.64    170518\n",
            "weighted avg       0.80      0.83      0.81    170518\n",
            "\n"
          ],
          "name": "stdout"
        }
      ]
    },
    {
      "cell_type": "markdown",
      "metadata": {
        "id": "7Z-LKelBQsF4"
      },
      "source": [
        "##Bidirectional LSTM with Attention Layer"
      ]
    },
    {
      "cell_type": "code",
      "metadata": {
        "id": "A-Jkh-oLp7-E"
      },
      "source": [
        "!pip install attention"
      ],
      "execution_count": null,
      "outputs": []
    },
    {
      "cell_type": "code",
      "metadata": {
        "id": "OL6iDc4-QsF5"
      },
      "source": [
        "from attention import Attention\n",
        "from keras.models import Sequential\n",
        "from keras.layers import Flatten, Dense, Embedding, Dropout\n",
        "from keras.layers import LSTM\n",
        "from keras.layers import Bidirectional\n",
        "\n",
        "num_neurons = 100\n",
        "\n",
        "model = Sequential()\n",
        "model.add(Bidirectional(LSTM(num_neurons, return_sequences=True,\n",
        "               input_shape=(maxlen, embedding_dims))))\n",
        "model.add(Attention(name='attention_weight'))\n",
        "model.add(Dropout(.2))\n",
        "model.add(Dense(3, activation='softmax'))\n",
        "\n",
        "model.compile('rmsprop', 'categorical_crossentropy',  metrics=['accuracy'])\n",
        "\n",
        "# print(model.summary())"
      ],
      "execution_count": 19,
      "outputs": []
    },
    {
      "cell_type": "code",
      "metadata": {
        "id": "YT4yk1PNQsF5"
      },
      "source": [
        "from keras.callbacks import EarlyStopping\n",
        "from keras.callbacks import ModelCheckpoint\n",
        "\n",
        "# patient early stopping\n",
        "es = EarlyStopping(monitor='val_loss', mode='min', verbose=1, patience=20)\n",
        "\n",
        "# save the model with the best accuracy on the test dataset\n",
        "mc = ModelCheckpoint('/content/drive/MyDrive/Springboard/Capstone Three/LSTM/attention_model.h5', monitor='val_accuracy', mode='max', verbose=1, save_best_only=True)"
      ],
      "execution_count": 20,
      "outputs": []
    },
    {
      "cell_type": "code",
      "metadata": {
        "colab": {
          "base_uri": "https://localhost:8080/"
        },
        "id": "be4zVvP3QsF5",
        "outputId": "cb637620-e6d6-4479-9b9d-585988b7b613"
      },
      "source": [
        "# class_weight_dict = {0: 1.6939945190531107, 1: 3.0242187569180636, 2: 0.4809969163253076}\n",
        "\n",
        "hist = model.fit(X_train, y_train,\n",
        "                 batch_size=batch_size,\n",
        "                 epochs=epochs,\n",
        "                 callbacks=[mc, es],\n",
        "                 validation_split=0.1)"
      ],
      "execution_count": 21,
      "outputs": [
        {
          "output_type": "stream",
          "text": [
            "Epoch 1/50\n",
            "19184/19184 [==============================] - 178s 8ms/step - loss: 0.4895 - accuracy: 0.8063 - val_loss: 0.4467 - val_accuracy: 0.8315\n",
            "\n",
            "Epoch 00001: val_accuracy improved from -inf to 0.83154, saving model to /content/drive/MyDrive/Springboard/Capstone Three/LSTM/attention_model.h5\n",
            "Epoch 2/50\n",
            "19184/19184 [==============================] - 156s 8ms/step - loss: 0.4268 - accuracy: 0.8322 - val_loss: 0.4193 - val_accuracy: 0.8369\n",
            "\n",
            "Epoch 00002: val_accuracy improved from 0.83154 to 0.83687, saving model to /content/drive/MyDrive/Springboard/Capstone Three/LSTM/attention_model.h5\n",
            "Epoch 3/50\n",
            "19184/19184 [==============================] - 156s 8ms/step - loss: 0.4198 - accuracy: 0.8364 - val_loss: 0.4399 - val_accuracy: 0.8280\n",
            "\n",
            "Epoch 00003: val_accuracy did not improve from 0.83687\n",
            "Epoch 4/50\n",
            "19184/19184 [==============================] - 155s 8ms/step - loss: 0.4158 - accuracy: 0.8390 - val_loss: 0.4209 - val_accuracy: 0.8365\n",
            "\n",
            "Epoch 00004: val_accuracy did not improve from 0.83687\n",
            "Epoch 5/50\n",
            "19184/19184 [==============================] - 156s 8ms/step - loss: 0.4117 - accuracy: 0.8414 - val_loss: 0.4283 - val_accuracy: 0.8320\n",
            "\n",
            "Epoch 00005: val_accuracy did not improve from 0.83687\n",
            "Epoch 6/50\n",
            "19184/19184 [==============================] - 158s 8ms/step - loss: 0.4099 - accuracy: 0.8429 - val_loss: 0.4346 - val_accuracy: 0.8300\n",
            "\n",
            "Epoch 00006: val_accuracy did not improve from 0.83687\n",
            "Epoch 7/50\n",
            "19184/19184 [==============================] - 155s 8ms/step - loss: 0.4090 - accuracy: 0.8436 - val_loss: 0.4299 - val_accuracy: 0.8363\n",
            "\n",
            "Epoch 00007: val_accuracy did not improve from 0.83687\n",
            "Epoch 8/50\n",
            "19184/19184 [==============================] - 155s 8ms/step - loss: 0.4050 - accuracy: 0.8461 - val_loss: 0.4408 - val_accuracy: 0.8358\n",
            "\n",
            "Epoch 00008: val_accuracy did not improve from 0.83687\n",
            "Epoch 9/50\n",
            "19184/19184 [==============================] - 155s 8ms/step - loss: 0.4030 - accuracy: 0.8473 - val_loss: 0.4322 - val_accuracy: 0.8348\n",
            "\n",
            "Epoch 00009: val_accuracy did not improve from 0.83687\n",
            "Epoch 10/50\n",
            "19184/19184 [==============================] - 157s 8ms/step - loss: 0.4057 - accuracy: 0.8460 - val_loss: 0.4320 - val_accuracy: 0.8327\n",
            "\n",
            "Epoch 00010: val_accuracy did not improve from 0.83687\n",
            "Epoch 11/50\n",
            "19184/19184 [==============================] - 153s 8ms/step - loss: 0.4015 - accuracy: 0.8480 - val_loss: 0.4446 - val_accuracy: 0.8308\n",
            "\n",
            "Epoch 00011: val_accuracy did not improve from 0.83687\n",
            "Epoch 12/50\n",
            "19184/19184 [==============================] - 155s 8ms/step - loss: 0.4012 - accuracy: 0.8490 - val_loss: 0.4412 - val_accuracy: 0.8327\n",
            "\n",
            "Epoch 00012: val_accuracy did not improve from 0.83687\n",
            "Epoch 13/50\n",
            "19184/19184 [==============================] - 150s 8ms/step - loss: 0.3993 - accuracy: 0.8501 - val_loss: 0.4393 - val_accuracy: 0.8334\n",
            "\n",
            "Epoch 00013: val_accuracy did not improve from 0.83687\n",
            "Epoch 14/50\n",
            "19184/19184 [==============================] - 146s 8ms/step - loss: 0.3988 - accuracy: 0.8504 - val_loss: 0.4459 - val_accuracy: 0.8315\n",
            "\n",
            "Epoch 00014: val_accuracy did not improve from 0.83687\n",
            "Epoch 15/50\n",
            "19184/19184 [==============================] - 149s 8ms/step - loss: 0.3957 - accuracy: 0.8523 - val_loss: 0.4549 - val_accuracy: 0.8311\n",
            "\n",
            "Epoch 00015: val_accuracy did not improve from 0.83687\n",
            "Epoch 16/50\n",
            "19184/19184 [==============================] - 148s 8ms/step - loss: 0.3976 - accuracy: 0.8526 - val_loss: 0.4515 - val_accuracy: 0.8334\n",
            "\n",
            "Epoch 00016: val_accuracy did not improve from 0.83687\n",
            "Epoch 17/50\n",
            "19184/19184 [==============================] - 146s 8ms/step - loss: 0.3953 - accuracy: 0.8548 - val_loss: 0.4497 - val_accuracy: 0.8285\n",
            "\n",
            "Epoch 00017: val_accuracy did not improve from 0.83687\n",
            "Epoch 18/50\n",
            "19184/19184 [==============================] - 149s 8ms/step - loss: 0.3930 - accuracy: 0.8553 - val_loss: 0.4601 - val_accuracy: 0.8303\n",
            "\n",
            "Epoch 00018: val_accuracy did not improve from 0.83687\n",
            "Epoch 19/50\n",
            "19184/19184 [==============================] - 153s 8ms/step - loss: 0.3936 - accuracy: 0.8560 - val_loss: 0.4548 - val_accuracy: 0.8296\n",
            "\n",
            "Epoch 00019: val_accuracy did not improve from 0.83687\n",
            "Epoch 20/50\n",
            "19184/19184 [==============================] - 150s 8ms/step - loss: 0.3894 - accuracy: 0.8579 - val_loss: 0.4686 - val_accuracy: 0.8324\n",
            "\n",
            "Epoch 00020: val_accuracy did not improve from 0.83687\n",
            "Epoch 21/50\n",
            "19184/19184 [==============================] - 150s 8ms/step - loss: 0.3919 - accuracy: 0.8573 - val_loss: 0.4631 - val_accuracy: 0.8310\n",
            "\n",
            "Epoch 00021: val_accuracy did not improve from 0.83687\n",
            "Epoch 22/50\n",
            "19184/19184 [==============================] - 148s 8ms/step - loss: 0.3875 - accuracy: 0.8593 - val_loss: 0.4609 - val_accuracy: 0.8310\n",
            "\n",
            "Epoch 00022: val_accuracy did not improve from 0.83687\n",
            "Epoch 00022: early stopping\n"
          ],
          "name": "stdout"
        }
      ]
    },
    {
      "cell_type": "code",
      "metadata": {
        "colab": {
          "base_uri": "https://localhost:8080/",
          "height": 404
        },
        "id": "KMCB5M6gs8fn",
        "outputId": "822f9306-226e-4d5e-fca3-4083d9062104"
      },
      "source": [
        "import matplotlib.pyplot as plt\r\n",
        "\r\n",
        "plt.figure(figsize=(10,6))\r\n",
        "plt.plot(hist.history['loss'])\r\n",
        "plt.plot(hist.history['val_loss'])\r\n",
        "plt.title('model train vs validation loss')\r\n",
        "plt.ylabel('loss')\r\n",
        "plt.xlabel('epoch')\r\n",
        "plt.legend(['train', 'validation'], loc='upper right')\r\n",
        "plt.show()"
      ],
      "execution_count": 22,
      "outputs": [
        {
          "output_type": "display_data",
          "data": {
            "image/png": "[encoded data removed]",
            "text/plain": [
              "<Figure size 720x432 with 1 Axes>"
            ]
          },
          "metadata": {
            "tags": [],
            "needs_background": "light"
          }
        }
      ]
    },
    {
      "cell_type": "code",
      "metadata": {
        "colab": {
          "base_uri": "https://localhost:8080/"
        },
        "id": "ZqGyJgpRRlrj",
        "outputId": "e8c18caa-1783-46b9-bc95-46154c9354c4"
      },
      "source": [
        "from sklearn.metrics import accuracy_score\r\n",
        "from sklearn.metrics import balanced_accuracy_score\r\n",
        "from sklearn.metrics import classification_report\r\n",
        "\r\n",
        "y_pred = model.predict_classes(X_test)\r\n",
        "y_pred = encoder.inverse_transform(y_pred)\r\n",
        "\r\n",
        "print('Accuracy Score: {}'.format(accuracy_score(y_test, y_pred)))\r\n",
        "print('\\nBalanced Accuracy Score: {}\\n'.format(balanced_accuracy_score(y_test, y_pred)))\r\n",
        "print(classification_report(y_test, y_pred))"
      ],
      "execution_count": 23,
      "outputs": [
        {
          "output_type": "stream",
          "text": [
            "/usr/local/lib/python3.7/dist-packages/tensorflow/python/keras/engine/sequential.py:450: UserWarning: `model.predict_classes()` is deprecated and will be removed after 2021-01-01. Please use instead:* `np.argmax(model.predict(x), axis=-1)`,   if your model does multi-class classification   (e.g. if it uses a `softmax` last-layer activation).* `(model.predict(x) > 0.5).astype(\"int32\")`,   if your model does binary classification   (e.g. if it uses a `sigmoid` last-layer activation).\n",
            "  warnings.warn('`model.predict_classes()` is deprecated and '\n"
          ],
          "name": "stderr"
        },
        {
          "output_type": "stream",
          "text": [
            "Accuracy Score: 0.8287981327484488\n",
            "\n",
            "Balanced Accuracy Score: 0.6330921061483883\n",
            "\n",
            "              precision    recall  f1-score   support\n",
            "\n",
            "    Negative       0.76      0.71      0.74     33576\n",
            "     Neutral       0.43      0.23      0.30     18808\n",
            "    Positive       0.88      0.96      0.91    118134\n",
            "\n",
            "    accuracy                           0.83    170518\n",
            "   macro avg       0.69      0.63      0.65    170518\n",
            "weighted avg       0.80      0.83      0.81    170518\n",
            "\n"
          ],
          "name": "stdout"
        }
      ]
    },
    {
      "cell_type": "code",
      "metadata": {
        "id": "ZDyO8zmWQsF6"
      },
      "source": [
        "# from keras.models import model_from_json\n",
        "# from sklearn.preprocessing import LabelEncoder\n",
        "\n",
        "# # load lstm model structure\n",
        "# with open(\"lstm_model.json\", \"r\") as json_file:\n",
        "#     json_string = json_file.read()\n",
        "# model = model_from_json(json_string)\n",
        "\n",
        "# load model weights\n",
        "# model.load_weights('lstm_model.h5')\n",
        "\n",
        "# # provide classes to the label encoder\n",
        "# encoder = LabelEncoder()\n",
        "# encoder.classes_ = np.array(['Negative', 'Neutural', 'Positive'])"
      ],
      "execution_count": null,
      "outputs": []
    }
  ]
}