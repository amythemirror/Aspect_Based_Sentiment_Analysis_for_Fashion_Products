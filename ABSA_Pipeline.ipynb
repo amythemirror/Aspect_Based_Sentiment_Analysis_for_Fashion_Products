{
  "nbformat": 4,
  "nbformat_minor": 0,
  "metadata": {
    "kernelspec": {
      "display_name": "Python 3",
      "language": "python",
      "name": "python3"
    },
    "language_info": {
      "codemirror_mode": {
        "name": "ipython",
        "version": 3
      },
      "file_extension": ".py",
      "mimetype": "text/x-python",
      "name": "python",
      "nbconvert_exporter": "python",
      "pygments_lexer": "ipython3",
      "version": "3.7.6"
    },
    "colab": {
      "name": "ABSA Pipeline.ipynb",
      "provenance": [],
      "toc_visible": true,
      "machine_shape": "hm",
      "include_colab_link": true
    },
    "accelerator": "GPU"
  },
  "cells": [
    {
      "cell_type": "markdown",
      "metadata": {
        "id": "view-in-github",
        "colab_type": "text"
      },
      "source": [
        "<a href=\"https://colab.research.google.com/github/amythemirror/Springboard-Capstone-Three/blob/main/ABSA_Pipeline.ipynb\" target=\"_parent\"><img src=\"https://colab.research.google.com/assets/colab-badge.svg\" alt=\"Open In Colab\"/></a>"
      ]
    },
    {
      "cell_type": "markdown",
      "metadata": {
        "id": "RURSLtSevNvP"
      },
      "source": [
        "# Mount Google Drive"
      ]
    },
    {
      "cell_type": "code",
      "metadata": {
        "colab": {
          "base_uri": "https://localhost:8080/"
        },
        "id": "4jgv0JQtvJm8",
        "outputId": "b679b2d1-a209-474b-ce04-c30be866c0da"
      },
      "source": [
        "from google.colab import drive\r\n",
        "drive.mount('/content/drive')"
      ],
      "execution_count": 1,
      "outputs": [
        {
          "output_type": "stream",
          "text": [
            "Mounted at /content/drive\n"
          ],
          "name": "stdout"
        }
      ]
    },
    {
      "cell_type": "code",
      "metadata": {
        "id": "8UGCKmuD3Njz"
      },
      "source": [
        "# !pip install pycontractions\r\n",
        "!pip install unidecode\r\n",
        "!pip install word2number\r\n",
        "!pip install contractions\r\n",
        "!python -m spacy download en_core_web_lg\r\n",
        "!pip install simpletransformers\r\n",
        "!pip install transformers -U"
      ],
      "execution_count": null,
      "outputs": []
    },
    {
      "cell_type": "markdown",
      "metadata": {
        "id": "2M0yFkbevXAv"
      },
      "source": [
        "# Natural Language Processing"
      ]
    },
    {
      "cell_type": "code",
      "metadata": {
        "colab": {
          "base_uri": "https://localhost:8080/"
        },
        "id": "C1EcnL-DvD0v",
        "outputId": "c586e962-e195-46b0-9109-cde4fb7aea1c"
      },
      "source": [
        "from bs4 import BeautifulSoup\n",
        "import spacy\n",
        "from spacy.symbols import ORTH, LEMMA, POS\n",
        "import unidecode\n",
        "from word2number import w2n\n",
        "# from pycontractions import Contractions\n",
        "import contractions\n",
        "# from gensim.models import KeyedVectors\n",
        "import gensim.downloader as api\n",
        "from tqdm import tqdm\n",
        "from IPython.display import Markdown, display\n",
        "import numpy as np\n",
        "\n",
        "# load spacy pretrained model\n",
        "nlp = spacy.load('en_core_web_lg')\n",
        "\n",
        "# load w2v keyedvectors model\n",
        "# wv = KeyedVectors.load('word2vec-google-news-300', mmap='r')\n",
        "wv = api.load('word2vec-google-news-300')\n",
        "\n",
        "# pass w2v keyedvectors model into Contractions\n",
        "# cont = Contractions(kv_model=wv)\n",
        "# cont.load_models()"
      ],
      "execution_count": 1,
      "outputs": [
        {
          "output_type": "stream",
          "text": [
            "[==================================================] 100.0% 1662.8/1662.8MB downloaded\n"
          ],
          "name": "stdout"
        }
      ]
    },
    {
      "cell_type": "code",
      "metadata": {
        "id": "QBsNhGXmvD0w"
      },
      "source": [
        "# exclude words from spacy stopwords list\n",
        "deselect_stop_words = ['no', 'not']\n",
        "for w in deselect_stop_words:\n",
        "    nlp.vocab[w].is_stop = False\n",
        "\n",
        "\n",
        "def set_custom_sentence_end_points(doc):\n",
        "    '''add 'but' as a sentence start for sentence segmentation'''\n",
        "    for token in doc[:-1]:\n",
        "        # if token.text == 'and':\n",
        "        #     token.is_sent_start = False\n",
        "        #     doc[token.i+1].is_sent_start = False\n",
        "        # if token.text == 'but':\n",
        "        #     token.is_sent_start = True\n",
        "        if token.text == ';':\n",
        "            doc[token.i+1].is_sent_start = True\n",
        "    return doc\n",
        "\n",
        "nlp.add_pipe(set_custom_sentence_end_points, before='parser')\n",
        "\n",
        "\n",
        "# add special cases to spacy tokenizer for handling child sizes\n",
        "nlp.tokenizer.add_special_case(u'2t', [{ORTH: u'2t', LEMMA: u'2t', POS: u'NOUN'}])\n",
        "nlp.tokenizer.add_special_case(u'3t', [{ORTH: u'3t', LEMMA: u'3t', POS: u'NOUN'}])\n",
        "nlp.tokenizer.add_special_case(u'4t', [{ORTH: u'4t', LEMMA: u'4t', POS: u'NOUN'}])\n",
        "nlp.tokenizer.add_special_case(u'5t', [{ORTH: u'5t', LEMMA: u'5t', POS: u'NOUN'}])\n"
      ],
      "execution_count": 2,
      "outputs": []
    },
    {
      "cell_type": "code",
      "metadata": {
        "id": "kByB8BzcvD0x"
      },
      "source": [
        "def remove_urls(text):\n",
        "    '''remove urls from text'''\n",
        "    text = text.replace(r'(https|http)?:\\/(\\w|\\.|\\/|\\?|\\=|\\&|\\%)*\\b','')\n",
        "    text = text.replace(r'www\\.\\S+\\.com','')\n",
        "    return text\n",
        "    \n",
        "    \n",
        "def strip_html_tags(text):\n",
        "    \"\"\"remove html tags from text\"\"\"\n",
        "    soup = BeautifulSoup(text, \"html.parser\")\n",
        "    stripped_text = soup.get_text(separator=\" \")\n",
        "    return stripped_text\n",
        "\n",
        "\n",
        "def remove_whitespace(text):\n",
        "    \"\"\"remove extra whitespaces from text\"\"\"\n",
        "    text = text.strip()\n",
        "    return \" \".join(text.split())\n",
        "\n",
        "\n",
        "def remove_accented_chars(text):\n",
        "    \"\"\"remove accented characters from text, e.g. café\"\"\"\n",
        "    text = unidecode.unidecode(text)\n",
        "    return text\n",
        "\n",
        "\n",
        "# def expand_contractions(text):\n",
        "#     \"\"\"expand shortened words, e.g. don't to do not\"\"\"\n",
        "#     text = list(cont.expand_texts([text], precise=False))[0]\n",
        "#     return text\n",
        "\n",
        "def expand_contractions(text):\n",
        "    \"\"\"expand shortened words, e.g. don't to do not\"\"\"\n",
        "    text = contractions.fix(text)\n",
        "    return text"
      ],
      "execution_count": 3,
      "outputs": []
    },
    {
      "cell_type": "markdown",
      "metadata": {
        "id": "f62dT4Ylvdje"
      },
      "source": [
        "# Aspect Extraction"
      ]
    },
    {
      "cell_type": "code",
      "metadata": {
        "id": "uvtxaxg2vD0x"
      },
      "source": [
        "# list of related aspects to extract\n",
        "aspects = ['color', 'design', 'material', 'price', 'quality', 'sizing']\n",
        "material_words = ['fabric', 'cotton', 'leather', 'suede', 'polyester', 'nylon', 'spandex', 'silk', 'wool', 'cashmere']\n",
        "price_words = ['cheap', 'expensive', 'deal', 'promotion', 'coupon']\n",
        "sizing_words = ['size', 'fit', 'small', 'medium', 'large', 'big', 'xs', 'xxs', 'xl', 'xxl', '2t', '3t', '4t', '5t']\n",
        "\n",
        "\n",
        "def aspect_extraction(words):\n",
        "    '''extract aspects using cosine similarity between tokens and each aspect'''\n",
        "    aspect_list = []\n",
        "    for word in words:\n",
        "        if word in material_words and 'material' not in aspect_list:\n",
        "            aspect_list.append('material')\n",
        "        if word in price_words and 'price' not in aspect_list:\n",
        "            aspect_list.append('price')\n",
        "        if word in sizing_words and 'sizing' not in aspect_list:\n",
        "            aspect_list.append('sizing')\n",
        "        elif word in wv.vocab:\n",
        "            for aspect in aspects:\n",
        "                if abs(wv.similarity(word, aspect)) >= 0.40 and aspect not in aspect_list:\n",
        "                    aspect_list.append(aspect)\n",
        "                else: pass\n",
        "        else: pass\n",
        "    \n",
        "    if len(aspect_list) == 0:\n",
        "        aspect_list.append('general')\n",
        "    \n",
        "    return aspect_list"
      ],
      "execution_count": 4,
      "outputs": []
    },
    {
      "cell_type": "markdown",
      "metadata": {
        "id": "qJHegDCdvn-A"
      },
      "source": [
        "# Sentiment Prediction"
      ]
    },
    {
      "cell_type": "code",
      "metadata": {
        "id": "I7gnpXY6gasO"
      },
      "source": [
        "def convert_list_to_string(org_list, seperator=' '):\r\n",
        "    \"\"\" Convert list to string, by joining all item in list with given separator.\r\n",
        "        Returns the concatenated string \"\"\"\r\n",
        "    return seperator.join(org_list)"
      ],
      "execution_count": 5,
      "outputs": []
    },
    {
      "cell_type": "markdown",
      "metadata": {
        "id": "SRbhK_1pv8zg"
      },
      "source": [
        "**Transformer Model**"
      ]
    },
    {
      "cell_type": "code",
      "metadata": {
        "id": "k9cFLAb-v7JD"
      },
      "source": [
        "from simpletransformers.classification import ClassificationModel\r\n",
        "\r\n",
        "model_args = {\r\n",
        "   'use_multiprocessing': False,\r\n",
        "   'fp16': False,\r\n",
        "   'num_train_epochs': 2,\r\n",
        "   'save_steps': -1, # prevent the model from saving intermediary checkpoints\r\n",
        "   'silent': True\r\n",
        "}\r\n",
        "\r\n",
        "# Create a ClassificationModel with our trained model\r\n",
        "model = ClassificationModel(\r\n",
        "     \"bert\",\r\n",
        "     '/content/drive/MyDrive/Springboard/Capstone Three/transformer/bert_uncased/outputs/',\r\n",
        "     num_labels=3,\r\n",
        "     args=model_args\r\n",
        " )"
      ],
      "execution_count": 6,
      "outputs": []
    },
    {
      "cell_type": "code",
      "metadata": {
        "id": "BtAVvt9Cx94K"
      },
      "source": [
        "from sklearn.preprocessing import LabelEncoder\r\n",
        "\r\n",
        "# provide classes to the label encoder\r\n",
        "encoder = LabelEncoder()\r\n",
        "encoder.classes_ = np.array(['Negative', 'Neutural', 'Positive'])"
      ],
      "execution_count": 7,
      "outputs": []
    },
    {
      "cell_type": "markdown",
      "metadata": {
        "id": "A-BPSU4XxtBH"
      },
      "source": [
        "# Pipline"
      ]
    },
    {
      "cell_type": "code",
      "metadata": {
        "id": "6DQ3XNzrvD0y"
      },
      "source": [
        "def printmd(string):\n",
        "    '''pretty print the string in markdown form'''\n",
        "    display(Markdown(string))"
      ],
      "execution_count": 8,
      "outputs": []
    },
    {
      "cell_type": "code",
      "metadata": {
        "id": "6KsSy5vTjah0"
      },
      "source": [
        "def aspect_sentiment(text, accented_chars=True, contractions=True, \r\n",
        "                       convert_num=False, extra_whitespace=True, \r\n",
        "                       lemmatization=True, lowercase=True, punctuations=False,\r\n",
        "                       remove_html=True, remove_num=False, special_chars=True, \r\n",
        "                       stop_words=False, urls=True):\r\n",
        "    \"\"\"preprocess text without removing numbers, punctuations, or stop words\"\"\"\r\n",
        "    if urls == True: #remove urls\r\n",
        "        text = remove_urls(text)\r\n",
        "    if remove_html == True: #remove html tags\r\n",
        "        text = strip_html_tags(text)\r\n",
        "    if extra_whitespace == True: #remove extra whitespaces\r\n",
        "        text = remove_whitespace(text)\r\n",
        "    if accented_chars == True: #remove accented characters\r\n",
        "        text = remove_accented_chars(text)\r\n",
        "    if contractions == True: #expand contractions\r\n",
        "        text = expand_contractions(text)\r\n",
        "    if lowercase == True: #convert all characters to lowercase\r\n",
        "        text = text.lower()\r\n",
        "\r\n",
        "    doc = nlp(text) #tokenize text\r\n",
        "    req_tag = ['NN', 'NNS', 'NNP', 'JJ', 'JJR', 'JJS'] #extract nouns from POS tagged text\r\n",
        "    sizes = ['xs', 'xxs', 'xl', 'xxl', '2t', '3t', '4t', '5t'] #extract sizes from reviews\r\n",
        "    sents = []\r\n",
        "    clean_sents = []\r\n",
        "    sent_aspects = []\r\n",
        "    \r\n",
        "    for i, sent in enumerate(doc.sents):\r\n",
        "        sents.append(sent.text)\r\n",
        "        clean_text = []\r\n",
        "        extracted_words = []\r\n",
        "\r\n",
        "        for token in sent:\r\n",
        "            flag = True\r\n",
        "            edit = token.text\r\n",
        "\r\n",
        "            # remove stop words\r\n",
        "            if stop_words == True and token.is_stop and token.pos_ != 'NUM':\r\n",
        "                flag = False\r\n",
        "            # remove urls\r\n",
        "            if urls == True and token.like_url and flag == True:\r\n",
        "                flag = False\r\n",
        "            # remove punctuations\r\n",
        "            if punctuations == True and token.pos_ == 'PUNCT' and flag == True:\r\n",
        "                flag = False\r\n",
        "            # remove special characters\r\n",
        "            if special_chars == True and token.pos_ == 'SYM' and flag == True:\r\n",
        "                flag = False\r\n",
        "            # remove numbers\r\n",
        "            if remove_num == True and (token.pos_ == 'NUM' or token.text.isnumeric()) and flag == True:\r\n",
        "                flag = False\r\n",
        "            # convert number words to numeric numbers\r\n",
        "            if convert_num == True and token.pos_ == 'NUM' and flag == True:\r\n",
        "                edit = w2n.word_to_num(token.text)\r\n",
        "            # convert tokens to base form\r\n",
        "            if lemmatization == True and token.lemma_ != \"-PRON-\" and flag == True:\r\n",
        "                edit = token.lemma_\r\n",
        "            # append tokens edited and not removed to list\r\n",
        "            if edit != \"\" and flag == True:\r\n",
        "                clean_text.append(edit)\r\n",
        "            \r\n",
        "            # extract token if it's a noun or a size\r\n",
        "            if (token.tag_ in req_tag or token.text in sizes) and token.shape_ != 'x':\r\n",
        "                extracted_words.append(token.lemma_)\r\n",
        "        \r\n",
        "        clean_sents.append(clean_text)\r\n",
        "        extracted_aspects = aspect_extraction(extracted_words) #extract aspects from the nouns and adjectives\r\n",
        "        sent_aspects.append(extracted_aspects) #append aspects for each sentence\r\n",
        "\r\n",
        "        if i == 0:\r\n",
        "            pass\r\n",
        "        elif not set(sent_aspects[i]).issuperset(set(sent_aspects[i-1])) and not set(sent_aspects[i-1]).issuperset(set(sent_aspects[i])):\r\n",
        "            ''' predict sentiment for the former sentence if current sentence \r\n",
        "            aspects don't include all previous sentence aspects, and previous \r\n",
        "            sentence aspects don't include all current sentence aspects'''\r\n",
        "            input = []\r\n",
        "            input.append(convert_list_to_string(clean_sents[i-1]))\r\n",
        "            pred, _ = model.predict(input)\r\n",
        "            sentiment = encoder.inverse_transform(pred)[0]\r\n",
        "            printmd('<br>**Review:** {}<br>**Aspects:** {}<br>**Sentiment:** {}'.format(sents[i-1], ', '.join(sent_aspects[i-1]), sentiment))\r\n",
        "        elif set(sent_aspects[i-1]).issuperset(set(sent_aspects[i])):\r\n",
        "            sents[i] = sents[i-1] + ' ' + sents[i]\r\n",
        "            clean_sents[i] = clean_sents[i-1] + clean_sents[i]\r\n",
        "            sent_aspects[i] = sent_aspects[i-1]\r\n",
        "        else: # combine with the former sentence and tokens if same aspects\r\n",
        "            sents[i] = sents[i-1] + ' ' + sents[i]\r\n",
        "            clean_sents[i] = clean_sents[i-1] + clean_sents[i]\r\n",
        "\r\n",
        "    input = []\r\n",
        "    input.append(convert_list_to_string(clean_sents[i]))\r\n",
        "    pred, _ = model.predict(input) #predict the sentiment\r\n",
        "    sentiment = encoder.inverse_transform(pred)[0] #convert to text sentiment\r\n",
        "    printmd('<br>**Review:** {}<br>**Aspects:** {}<br>**Sentiment:** {}'.format(sents[i], ', '.join(sent_aspects[i]), sentiment))"
      ],
      "execution_count": 48,
      "outputs": []
    },
    {
      "cell_type": "markdown",
      "metadata": {
        "id": "R-ruHxPEa2Sz"
      },
      "source": [
        "# Examples"
      ]
    },
    {
      "cell_type": "markdown",
      "metadata": {
        "id": "Szuyy-aycMkb"
      },
      "source": [
        "## Positive Reviews"
      ]
    },
    {
      "cell_type": "markdown",
      "metadata": {
        "id": "T_9oc7TKbOO0"
      },
      "source": [
        "Review link: https://www.amazon.com/gp/customer-reviews/R2D9JK13WPNO5V/"
      ]
    },
    {
      "cell_type": "code",
      "metadata": {
        "colab": {
          "base_uri": "https://localhost:8080/",
          "height": 276
        },
        "id": "7Yz8JiLbAnBU",
        "outputId": "56f6b702-9a9d-4a53-b17b-443fd00c8d61"
      },
      "source": [
        "review = '''I recently moved to a cold climate and needed shoes to protect my \r\n",
        "          feet. These are definitely warm and comfortable. The build is a little \r\n",
        "          bit stiffer than I expected and not as fluffy and soft on the inside \r\n",
        "          but it definitely does what it says it will do. I found the fit to be \r\n",
        "          comfortable and true to what I expected. I usually wear a 6.5 woman's \r\n",
        "          but I ordered a 7 just in case and it has just enough room for thick \r\n",
        "          socks. Walked around an outdoor mall for a few hours with no issues.'''\r\n",
        "\r\n",
        "aspect_sentiment(review)"
      ],
      "execution_count": 54,
      "outputs": [
        {
          "output_type": "display_data",
          "data": {
            "text/markdown": "<br>**Review:** i recently moved to a cold climate and needed shoes to protect my feet. these are definitely warm and comfortable. the build is a little bit stiffer than i expected and not as fluffy and soft on the inside but it definitely does what it says it will do.<br>**Aspects:** general<br>**Sentiment:** Positive",
            "text/plain": [
              "<IPython.core.display.Markdown object>"
            ]
          },
          "metadata": {
            "tags": []
          }
        },
        {
          "output_type": "display_data",
          "data": {
            "text/markdown": "<br>**Review:** i found the fit to be comfortable and true to what i expected.<br>**Aspects:** sizing<br>**Sentiment:** Positive",
            "text/plain": [
              "<IPython.core.display.Markdown object>"
            ]
          },
          "metadata": {
            "tags": []
          }
        },
        {
          "output_type": "display_data",
          "data": {
            "text/markdown": "<br>**Review:** i usually wear a 6.5 woman's but i ordered a 7 just in case and it has just enough room for thick socks. walked around an outdoor mall for a few hours with no issues.<br>**Aspects:** general<br>**Sentiment:** Positive",
            "text/plain": [
              "<IPython.core.display.Markdown object>"
            ]
          },
          "metadata": {
            "tags": []
          }
        }
      ]
    },
    {
      "cell_type": "markdown",
      "metadata": {
        "id": "2oWpMTFmU1wS"
      },
      "source": [
        "Review link: https://www.amazon.com/gp/customer-reviews/R3HZT3MXM51016"
      ]
    },
    {
      "cell_type": "code",
      "metadata": {
        "colab": {
          "base_uri": "https://localhost:8080/",
          "height": 276
        },
        "id": "bL2KhYoMU1Kq",
        "outputId": "f6c1fef4-b37e-4ad0-9603-c20bcedb36c7"
      },
      "source": [
        "review = '''Just got the pair described as Matte Havana / Blue. The colors are \r\n",
        "          not even close to the photos. In the photos on Amazon they look royal \r\n",
        "          blue and orange. They are in fact slate blue, almost gray, on the \r\n",
        "          outside of the ear pieces, and basically coffee or caramel colored on \r\n",
        "          the inside. While the look is still very cool, it is not accurate on \r\n",
        "          this site at all. I own another pair of these that I have enjoyed for \r\n",
        "          many years, and I am going to keep these, but be aware that the colors \r\n",
        "          are pretty hard to pick out on this site and they are WAY off, like, \r\n",
        "          not even close.'''\r\n",
        "\r\n",
        "aspect_sentiment(review)"
      ],
      "execution_count": 55,
      "outputs": [
        {
          "output_type": "display_data",
          "data": {
            "text/markdown": "<br>**Review:** just got the pair described as matte havana / blue. the colors are not even close to the photos. in the photos on amazon they look royal blue and orange. they are in fact slate blue, almost gray, on the outside of the ear pieces, and basically coffee or caramel colored on the inside.<br>**Aspects:** color<br>**Sentiment:** Negative",
            "text/plain": [
              "<IPython.core.display.Markdown object>"
            ]
          },
          "metadata": {
            "tags": []
          }
        },
        {
          "output_type": "display_data",
          "data": {
            "text/markdown": "<br>**Review:** while the look is still very cool, it is not accurate on this site at all.<br>**Aspects:** general<br>**Sentiment:** Negative",
            "text/plain": [
              "<IPython.core.display.Markdown object>"
            ]
          },
          "metadata": {
            "tags": []
          }
        },
        {
          "output_type": "display_data",
          "data": {
            "text/markdown": "<br>**Review:** i own another pair of these that i have enjoyed for many years, and i am going to keep these, but be aware that the colors are pretty hard to pick out on this site and they are way off, like, not even close.<br>**Aspects:** color<br>**Sentiment:** Negative",
            "text/plain": [
              "<IPython.core.display.Markdown object>"
            ]
          },
          "metadata": {
            "tags": []
          }
        }
      ]
    },
    {
      "cell_type": "markdown",
      "metadata": {
        "id": "LwC4We35bHkL"
      },
      "source": [
        "Review link: https://www.amazon.com/gp/customer-reviews/R2O0GVQHXIPVMJ/"
      ]
    },
    {
      "cell_type": "code",
      "metadata": {
        "colab": {
          "base_uri": "https://localhost:8080/",
          "height": 389
        },
        "id": "f3Fx_8dIkMbe",
        "outputId": "b30bd121-5f24-4b09-e241-abd2e0396fc6"
      },
      "source": [
        "review = '''I love this dress and will definitely buy a couple more. The “red” \r\n",
        "is the true color on the ad, but I’d say it’s more of a maroon/wine color, \r\n",
        "wouldn’t you? :) The scoop neck is a little too scooped for modest me, so I \r\n",
        "added a scarf, and love that look. I’m 5’2”, 106 lbs, bought a small, and I love \r\n",
        "the fit. It comes about 2” below my knees, perfect length for my taste.'''\r\n",
        "\r\n",
        "aspect_sentiment(review)"
      ],
      "execution_count": 56,
      "outputs": [
        {
          "output_type": "display_data",
          "data": {
            "text/markdown": "<br>**Review:** i love this dress and will definitely buy a couple more.<br>**Aspects:** general<br>**Sentiment:** Positive",
            "text/plain": [
              "<IPython.core.display.Markdown object>"
            ]
          },
          "metadata": {
            "tags": []
          }
        },
        {
          "output_type": "display_data",
          "data": {
            "text/markdown": "<br>**Review:** the \"red\" is the true color on the ad, but i would say it is more of a maroon/wine color, would not you?<br>**Aspects:** color<br>**Sentiment:** Neutural",
            "text/plain": [
              "<IPython.core.display.Markdown object>"
            ]
          },
          "metadata": {
            "tags": []
          }
        },
        {
          "output_type": "display_data",
          "data": {
            "text/markdown": "<br>**Review:** :) the scoop neck is a little too scooped for modest me, so i added a scarf, and love that look.<br>**Aspects:** general<br>**Sentiment:** Positive",
            "text/plain": [
              "<IPython.core.display.Markdown object>"
            ]
          },
          "metadata": {
            "tags": []
          }
        },
        {
          "output_type": "display_data",
          "data": {
            "text/markdown": "<br>**Review:** i am 5'2\", 106 lbs, bought a small, and i love the fit.<br>**Aspects:** sizing<br>**Sentiment:** Positive",
            "text/plain": [
              "<IPython.core.display.Markdown object>"
            ]
          },
          "metadata": {
            "tags": []
          }
        },
        {
          "output_type": "display_data",
          "data": {
            "text/markdown": "<br>**Review:** it comes about 2\" below my knees, perfect length for my taste.<br>**Aspects:** general<br>**Sentiment:** Positive",
            "text/plain": [
              "<IPython.core.display.Markdown object>"
            ]
          },
          "metadata": {
            "tags": []
          }
        }
      ]
    },
    {
      "cell_type": "markdown",
      "metadata": {
        "id": "-Ff7UW7nAlYI"
      },
      "source": [
        "Review link: https://www.amazon.com/gp/customer-reviews/RW9WUK98V8G74"
      ]
    },
    {
      "cell_type": "code",
      "metadata": {
        "colab": {
          "base_uri": "https://localhost:8080/",
          "height": 659
        },
        "id": "h5SNfiSu5HRM",
        "outputId": "a227ba32-f7ca-4e97-ab88-824f3fef3f89"
      },
      "source": [
        "review = '''Love these dresses! They are great quality for the price. I was \r\n",
        "          about to buy one similar Hannah Andersson dress that was on sale for \r\n",
        "          $30 but since these are way cheaper I thought I would give them a try. \r\n",
        "          I am so glad I did!!! These are a way better deal and more color \r\n",
        "          options. I really struggled with what size to buy these dresses in \r\n",
        "          since several reviews said they shrink. My daughter is in a 5T for \r\n",
        "          dresses right now and they are a tiny bit big so I bought these in a \r\n",
        "          XS(4/5). I washed the coral colored one first, with a white shirt I \r\n",
        "          didn’t care about to test if the color would bleed & if it shrinks. I \r\n",
        "          was very pleased to see the color did not bleed and it didn’t shrink! \r\n",
        "          I washed it on normal w/cold water and medium heat for the dryer.'''\r\n",
        "\r\n",
        "aspect_sentiment(review)"
      ],
      "execution_count": 57,
      "outputs": [
        {
          "output_type": "display_data",
          "data": {
            "text/markdown": "<br>**Review:** love these dresses!<br>**Aspects:** general<br>**Sentiment:** Positive",
            "text/plain": [
              "<IPython.core.display.Markdown object>"
            ]
          },
          "metadata": {
            "tags": []
          }
        },
        {
          "output_type": "display_data",
          "data": {
            "text/markdown": "<br>**Review:** they are great quality for the price. i was about to buy one similar hannah andersson dress that was on sale for $30 but since these are way cheaper i thought i would give them a try.<br>**Aspects:** quality, price<br>**Sentiment:** Positive",
            "text/plain": [
              "<IPython.core.display.Markdown object>"
            ]
          },
          "metadata": {
            "tags": []
          }
        },
        {
          "output_type": "display_data",
          "data": {
            "text/markdown": "<br>**Review:** i am so glad i did!!!<br>**Aspects:** general<br>**Sentiment:** Positive",
            "text/plain": [
              "<IPython.core.display.Markdown object>"
            ]
          },
          "metadata": {
            "tags": []
          }
        },
        {
          "output_type": "display_data",
          "data": {
            "text/markdown": "<br>**Review:** these are a way better deal and more color options.<br>**Aspects:** price, color<br>**Sentiment:** Positive",
            "text/plain": [
              "<IPython.core.display.Markdown object>"
            ]
          },
          "metadata": {
            "tags": []
          }
        },
        {
          "output_type": "display_data",
          "data": {
            "text/markdown": "<br>**Review:** i really struggled with what size to buy these dresses in since several reviews said they shrink. my daughter is in a 5t for dresses right now and they are a tiny bit big<br>**Aspects:** sizing<br>**Sentiment:** Positive",
            "text/plain": [
              "<IPython.core.display.Markdown object>"
            ]
          },
          "metadata": {
            "tags": []
          }
        },
        {
          "output_type": "display_data",
          "data": {
            "text/markdown": "<br>**Review:** so i bought these in a xs(4/5).<br>**Aspects:** general<br>**Sentiment:** Positive",
            "text/plain": [
              "<IPython.core.display.Markdown object>"
            ]
          },
          "metadata": {
            "tags": []
          }
        },
        {
          "output_type": "display_data",
          "data": {
            "text/markdown": "<br>**Review:** i washed the coral colored one first, with a white shirt i did not care about to test if the color would bleed & if it shrinks. i was very pleased to see the color did not bleed and it did not shrink!<br>**Aspects:** color<br>**Sentiment:** Positive",
            "text/plain": [
              "<IPython.core.display.Markdown object>"
            ]
          },
          "metadata": {
            "tags": []
          }
        },
        {
          "output_type": "display_data",
          "data": {
            "text/markdown": "<br>**Review:** i washed it on normal w/cold water and medium heat for the dryer.<br>**Aspects:** sizing<br>**Sentiment:** Positive",
            "text/plain": [
              "<IPython.core.display.Markdown object>"
            ]
          },
          "metadata": {
            "tags": []
          }
        }
      ]
    },
    {
      "cell_type": "markdown",
      "metadata": {
        "id": "FzlBn0len5mt"
      },
      "source": [
        "Review link: https://www.amazon.com/gp/customer-reviews/R2SNCMUD6NQ1W3/"
      ]
    },
    {
      "cell_type": "code",
      "metadata": {
        "colab": {
          "base_uri": "https://localhost:8080/",
          "height": 609
        },
        "id": "QNliG4RGn4nh",
        "outputId": "3e4108f3-9a34-4dad-e007-71c209e93cef"
      },
      "source": [
        "review = '''This is a great flannel shirt. I purchased a Medium which fits nice. \r\n",
        "          I wear size 42 T-shirts (LGG) and size 44 coats. I stand 5 feet 8 \r\n",
        "          inches. My pants size is 34 inch waist and this flannel shirt fits \r\n",
        "          nicely inside the pants as well as on the outside. You will get one \r\n",
        "          extra button plus a smaller button? Maybe not as warm as a coat, but \r\n",
        "          cuts the cold when you wear it. It is relatively thick but not really \r\n",
        "          thick and heavy. It is good as a multi-layered clothing...maybe a black \r\n",
        "          T-shirt plus this flannel shirt and maybe a nice sized coat will keep \r\n",
        "          you nice and comfortably warm. I wear a size 16 neck size dress shirt \r\n",
        "          and when this flannel shirt has the top button secured, you have a \r\n",
        "          thumb thickness spacing..and feels comfortable. Hope this helps.'''\r\n",
        "\r\n",
        "aspect_sentiment(review)"
      ],
      "execution_count": 58,
      "outputs": [
        {
          "output_type": "display_data",
          "data": {
            "text/markdown": "<br>**Review:** this is a great flannel shirt.<br>**Aspects:** general<br>**Sentiment:** Positive",
            "text/plain": [
              "<IPython.core.display.Markdown object>"
            ]
          },
          "metadata": {
            "tags": []
          }
        },
        {
          "output_type": "display_data",
          "data": {
            "text/markdown": "<br>**Review:** i purchased a medium which fits nice. i wear size 42 t-shirts (lgg) and size 44 coats.<br>**Aspects:** sizing<br>**Sentiment:** Positive",
            "text/plain": [
              "<IPython.core.display.Markdown object>"
            ]
          },
          "metadata": {
            "tags": []
          }
        },
        {
          "output_type": "display_data",
          "data": {
            "text/markdown": "<br>**Review:** i stand 5 feet 8 inches.<br>**Aspects:** general<br>**Sentiment:** Positive",
            "text/plain": [
              "<IPython.core.display.Markdown object>"
            ]
          },
          "metadata": {
            "tags": []
          }
        },
        {
          "output_type": "display_data",
          "data": {
            "text/markdown": "<br>**Review:** my pants size is 34 inch waist and this flannel shirt fits nicely inside the pants as well as on the outside. you will get one extra button plus a smaller button?<br>**Aspects:** sizing<br>**Sentiment:** Positive",
            "text/plain": [
              "<IPython.core.display.Markdown object>"
            ]
          },
          "metadata": {
            "tags": []
          }
        },
        {
          "output_type": "display_data",
          "data": {
            "text/markdown": "<br>**Review:** maybe not as warm as a coat, but cuts the cold when you wear it. it is relatively thick but not really thick and heavy.<br>**Aspects:** general<br>**Sentiment:** Neutural",
            "text/plain": [
              "<IPython.core.display.Markdown object>"
            ]
          },
          "metadata": {
            "tags": []
          }
        },
        {
          "output_type": "display_data",
          "data": {
            "text/markdown": "<br>**Review:** it is good as a multi-layered clothing...maybe a black t-shirt plus this flannel shirt and maybe a nice sized coat will keep you nice and comfortably warm.<br>**Aspects:** color<br>**Sentiment:** Positive",
            "text/plain": [
              "<IPython.core.display.Markdown object>"
            ]
          },
          "metadata": {
            "tags": []
          }
        },
        {
          "output_type": "display_data",
          "data": {
            "text/markdown": "<br>**Review:** i wear a size 16 neck size dress shirt and when this flannel shirt has the top button secured, you have a thumb thickness spacing..and feels comfortable.<br>**Aspects:** sizing<br>**Sentiment:** Positive",
            "text/plain": [
              "<IPython.core.display.Markdown object>"
            ]
          },
          "metadata": {
            "tags": []
          }
        },
        {
          "output_type": "display_data",
          "data": {
            "text/markdown": "<br>**Review:** hope this helps.<br>**Aspects:** general<br>**Sentiment:** Positive",
            "text/plain": [
              "<IPython.core.display.Markdown object>"
            ]
          },
          "metadata": {
            "tags": []
          }
        }
      ]
    },
    {
      "cell_type": "markdown",
      "metadata": {
        "id": "fdq_7LFAlCVn"
      },
      "source": [
        "## Neutral Reviews"
      ]
    },
    {
      "cell_type": "markdown",
      "metadata": {
        "id": "2VpaC8G4pSI6"
      },
      "source": [
        "Review link: https://www.amazon.com/gp/customer-reviews/RT3QMJNXV7E0Q/"
      ]
    },
    {
      "cell_type": "code",
      "metadata": {
        "colab": {
          "base_uri": "https://localhost:8080/",
          "height": 259
        },
        "id": "a6oUTUsPlF3d",
        "outputId": "a36e8f44-9170-43b3-8e4d-428928661026"
      },
      "source": [
        "review = '''Kind of pissed. First one i got. Ended up being bleached from sweat \r\n",
        "          which seems stupid as its an athletic hat and i only had it for two \r\n",
        "          months in the winter.\r\n",
        "\r\n",
        "          Ordered another and the logo was off center.\r\n",
        "\r\n",
        "          Dont know if ill buy again if i cant even be guarenteed quality and \r\n",
        "          cant speek to anyone about making sure the hats logo is centered. As \r\n",
        "          it should be.'''\r\n",
        "\r\n",
        "aspect_sentiment(review)"
      ],
      "execution_count": 59,
      "outputs": [
        {
          "output_type": "display_data",
          "data": {
            "text/markdown": "<br>**Review:** kind of pissed. first one i got. ended up being bleached from sweat which seems stupid as its an athletic hat and i only had it for two months in the winter. ordered another and the logo was off center.<br>**Aspects:** general<br>**Sentiment:** Negative",
            "text/plain": [
              "<IPython.core.display.Markdown object>"
            ]
          },
          "metadata": {
            "tags": []
          }
        },
        {
          "output_type": "display_data",
          "data": {
            "text/markdown": "<br>**Review:** do not know if ill buy again if i can not even be guarenteed quality and can not speek to anyone about making sure the hats logo is centered.<br>**Aspects:** quality<br>**Sentiment:** Negative",
            "text/plain": [
              "<IPython.core.display.Markdown object>"
            ]
          },
          "metadata": {
            "tags": []
          }
        },
        {
          "output_type": "display_data",
          "data": {
            "text/markdown": "<br>**Review:** as it should be.<br>**Aspects:** general<br>**Sentiment:** Positive",
            "text/plain": [
              "<IPython.core.display.Markdown object>"
            ]
          },
          "metadata": {
            "tags": []
          }
        }
      ]
    },
    {
      "cell_type": "markdown",
      "metadata": {
        "id": "B0yjh1EzcVVT"
      },
      "source": [
        "## Negative Reviews"
      ]
    },
    {
      "cell_type": "markdown",
      "metadata": {
        "id": "HgpNNYF4bToR"
      },
      "source": [
        "Review link: https://www.amazon.com/gp/customer-reviews/R3E1GV6HPZ32XE/"
      ]
    },
    {
      "cell_type": "code",
      "metadata": {
        "colab": {
          "base_uri": "https://localhost:8080/",
          "height": 316
        },
        "id": "l-j7NGPdB8qS",
        "outputId": "c2106a91-2304-4d33-aff5-2260fefc3b28"
      },
      "source": [
        "review = '''Garbage quality product and nothing like the picture. Fabric looks \r\n",
        "          thick and nice color on the picture. The real thing is dull and very \r\n",
        "          cheap fabric that it looks secondhand. False advertisement'''\r\n",
        "\r\n",
        "aspect_sentiment(review)"
      ],
      "execution_count": 60,
      "outputs": [
        {
          "output_type": "display_data",
          "data": {
            "text/markdown": "<br>**Review:** garbage quality product and nothing like the picture.<br>**Aspects:** quality<br>**Sentiment:** Negative",
            "text/plain": [
              "<IPython.core.display.Markdown object>"
            ]
          },
          "metadata": {
            "tags": []
          }
        },
        {
          "output_type": "display_data",
          "data": {
            "text/markdown": "<br>**Review:** fabric looks thick and nice color on the picture.<br>**Aspects:** material, color<br>**Sentiment:** Positive",
            "text/plain": [
              "<IPython.core.display.Markdown object>"
            ]
          },
          "metadata": {
            "tags": []
          }
        },
        {
          "output_type": "display_data",
          "data": {
            "text/markdown": "<br>**Review:** the real thing is dull and very cheap fabric that it looks secondhand.<br>**Aspects:** price, material<br>**Sentiment:** Negative",
            "text/plain": [
              "<IPython.core.display.Markdown object>"
            ]
          },
          "metadata": {
            "tags": []
          }
        },
        {
          "output_type": "display_data",
          "data": {
            "text/markdown": "<br>**Review:** false advertisement<br>**Aspects:** general<br>**Sentiment:** Negative",
            "text/plain": [
              "<IPython.core.display.Markdown object>"
            ]
          },
          "metadata": {
            "tags": []
          }
        }
      ]
    },
    {
      "cell_type": "markdown",
      "metadata": {
        "id": "Z9ZgJT_a0UEJ"
      },
      "source": [
        "Review link: https://www.amazon.com/gp/customer-reviews/R3H6VDOWEE3ZB6/"
      ]
    },
    {
      "cell_type": "code",
      "metadata": {
        "id": "fsw_N5sOGkKR",
        "colab": {
          "base_uri": "https://localhost:8080/",
          "height": 259
        },
        "outputId": "80540d3c-0be0-40d3-f40a-bbd36271d112"
      },
      "source": [
        "review = '''I really wanted to like this suit! The material was great and nicely \r\n",
        "          made. I'm 5'9 with a long torso and 200 lbs. I do have a thicker butt \r\n",
        "          and thighs. This was tight around my legs... like cut into my legs. \r\n",
        "          Fit nicely in my mid section and in the chest. But because I'm so long \r\n",
        "          waisted when i life my right arm my whole boob almost comes out the top \r\n",
        "          of the suit! It was a no for me'''\r\n",
        "\r\n",
        "aspect_sentiment(review)"
      ],
      "execution_count": 61,
      "outputs": [
        {
          "output_type": "display_data",
          "data": {
            "text/markdown": "<br>**Review:** i really wanted to like this suit!<br>**Aspects:** general<br>**Sentiment:** Negative",
            "text/plain": [
              "<IPython.core.display.Markdown object>"
            ]
          },
          "metadata": {
            "tags": []
          }
        },
        {
          "output_type": "display_data",
          "data": {
            "text/markdown": "<br>**Review:** the material was great and nicely made.<br>**Aspects:** material<br>**Sentiment:** Positive",
            "text/plain": [
              "<IPython.core.display.Markdown object>"
            ]
          },
          "metadata": {
            "tags": []
          }
        },
        {
          "output_type": "display_data",
          "data": {
            "text/markdown": "<br>**Review:** i am 5'9 with a long torso and 200 lbs. i do have a thicker butt and thighs. this was tight around my legs... like cut into my legs. fit nicely in my mid section and in the chest. but because i am so long waisted when i life my right arm my whole boob almost comes out the top of the suit! it was a no for me<br>**Aspects:** general<br>**Sentiment:** Neutural",
            "text/plain": [
              "<IPython.core.display.Markdown object>"
            ]
          },
          "metadata": {
            "tags": []
          }
        }
      ]
    }
  ]
}