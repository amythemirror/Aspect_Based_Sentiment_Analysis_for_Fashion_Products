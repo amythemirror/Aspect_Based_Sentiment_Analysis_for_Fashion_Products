{
 "cells": [
  {
   "cell_type": "code",
   "execution_count": 1,
   "metadata": {},
   "outputs": [],
   "source": [
    "import numpy as np\n",
    "import pandas as pd\n",
    "from ast import literal_eval"
   ]
  },
  {
   "cell_type": "code",
   "execution_count": 2,
   "metadata": {},
   "outputs": [],
   "source": [
    "X = pd.read_csv('data_wrangling.csv', usecols=['reviewClean_sw'], squeeze=True,\\\n",
    "                converters={'reviewClean_sw': literal_eval}).values\n",
    "y = pd.read_csv('data_wrangling.csv', usecols=['sentiment'], squeeze=True).values"
   ]
  },
  {
   "cell_type": "code",
   "execution_count": 3,
   "metadata": {},
   "outputs": [],
   "source": [
    "import matplotlib.pyplot as plt\n",
    "\n",
    "def pie_chart(array):    \n",
    "    # Declare a figure with a custom size\n",
    "    fig = plt.figure(figsize=(5, 5))\n",
    "\n",
    "    # Sizes for each slide\n",
    "    sizes = []\n",
    "    for i, sentiment in enumerate(np.unique(array)):\n",
    "        sizes.append(np.unique(array, return_counts=True)[1][i])\n",
    "\n",
    "    # Declare pie chart, where the slices will be ordered and plotted counter-clockwise:\n",
    "    plt.pie(sizes, labels=np.unique(array), \\\n",
    "            autopct=lambda pct: '{:.2f}%\\n({:d} reviews)'.format(pct, int(pct/100*len(array))), startangle=90)\n",
    "\n",
    "    # Equal aspect ratio ensures that pie is drawn as a circle.\n",
    "    plt.axis('equal')  \n",
    "    \n",
    "    plt.title('Review Sentiment Distribution')\n",
    "    plt.show()"
   ]
  },
  {
   "cell_type": "code",
   "execution_count": 4,
   "metadata": {},
   "outputs": [
    {
     "data": {
      "image/png": "[encoded data removed]",
      "text/plain": [
       "<Figure size 360x360 with 1 Axes>"
      ]
     },
     "metadata": {},
     "output_type": "display_data"
    }
   ],
   "source": [
    "pie_chart(y)"
   ]
  },
  {
   "cell_type": "code",
   "execution_count": 5,
   "metadata": {},
   "outputs": [],
   "source": [
    "from sklearn.model_selection import train_test_split\n",
    "\n",
    "X_train, X_test, y_train, y_test = train_test_split(X, y, train_size=0.8, stratify=y, random_state=42)"
   ]
  },
  {
   "cell_type": "code",
   "execution_count": 6,
   "metadata": {},
   "outputs": [
    {
     "data": {
      "text/plain": [
       "array(['Negative', 'Neutral', 'Positive'], dtype=object)"
      ]
     },
     "execution_count": 6,
     "metadata": {},
     "output_type": "execute_result"
    }
   ],
   "source": [
    "from sklearn.preprocessing import LabelEncoder\n",
    "\n",
    "# encode text sentiment labels\n",
    "encoder = LabelEncoder()\n",
    "y_train = encoder.fit_transform(y_train)\n",
    "y_test = encoder.transform(y_test)\n",
    "\n",
    "encoder.classes_"
   ]
  },
  {
   "cell_type": "markdown",
   "metadata": {},
   "source": [
    "<h2>Feature Engineering</h2>"
   ]
  },
  {
   "cell_type": "markdown",
   "metadata": {},
   "source": [
    "**Convert list of tokens to strings for BOW and tfidf embedding**"
   ]
  },
  {
   "cell_type": "code",
   "execution_count": 7,
   "metadata": {},
   "outputs": [],
   "source": [
    "def convert_list_to_string(org_list, seperator=' '):\n",
    "    \"\"\" Convert list to string, by joining all item in list with given separator.\n",
    "        Returns the concatenated string \"\"\"\n",
    "    return seperator.join(org_list)"
   ]
  },
  {
   "cell_type": "code",
   "execution_count": 8,
   "metadata": {},
   "outputs": [],
   "source": [
    "X_train = [convert_list_to_string(tokens) for tokens in X_train]\n",
    "X_test = [convert_list_to_string(tokens) for tokens in X_test]"
   ]
  },
  {
   "cell_type": "markdown",
   "metadata": {},
   "source": [
    "**BOW - Unigram**"
   ]
  },
  {
   "cell_type": "code",
   "execution_count": 9,
   "metadata": {},
   "outputs": [],
   "source": [
    "from sklearn.feature_extraction.text import CountVectorizer\n",
    "\n",
    "cv = CountVectorizer(lowercase=False)\n",
    "X_train_bow = cv.fit_transform(X_train)\n",
    "X_test_bow = cv.transform(X_test)"
   ]
  },
  {
   "cell_type": "markdown",
   "metadata": {},
   "source": [
    "**BOW - Unigram & Bigram**"
   ]
  },
  {
   "cell_type": "code",
   "execution_count": 10,
   "metadata": {},
   "outputs": [],
   "source": [
    "from sklearn.feature_extraction.text import CountVectorizer\n",
    "\n",
    "cv = CountVectorizer(ngram_range=(1,2), lowercase=False)\n",
    "X_train_ngbow = cv.fit_transform(X_train)\n",
    "X_test_ngbow = cv.transform(X_test)"
   ]
  },
  {
   "cell_type": "markdown",
   "metadata": {},
   "source": [
    "**TF-IDF - Unigram**"
   ]
  },
  {
   "cell_type": "code",
   "execution_count": 11,
   "metadata": {
    "scrolled": true
   },
   "outputs": [],
   "source": [
    "from sklearn.feature_extraction.text import TfidfVectorizer\n",
    "\n",
    "tfidf = TfidfVectorizer()\n",
    "X_train_tfidf = tfidf.fit_transform(X_train)\n",
    "X_test_tfidf = tfidf.transform(X_test)"
   ]
  },
  {
   "cell_type": "markdown",
   "metadata": {},
   "source": [
    "**TF-IDF - Unigram & Bigram**"
   ]
  },
  {
   "cell_type": "code",
   "execution_count": 12,
   "metadata": {},
   "outputs": [],
   "source": [
    "from sklearn.feature_extraction.text import TfidfVectorizer\n",
    "\n",
    "tfidf = TfidfVectorizer(ngram_range=(1,2), lowercase=False)\n",
    "X_train_ngtfidf = tfidf.fit_transform(X_train)\n",
    "X_test_ngtfidf = tfidf.transform(X_test)\n",
    "\n",
    "# center tfidf by substracting the mean for each term\n",
    "# X_train_ngtfidf = X_train_ngtfidf - X_train_ngtfidf.mean(axis=0)\n",
    "# X_test_ngtfidf = X_test_ngtfidf - X_test_ngtfidf.mean(axis=0)"
   ]
  },
  {
   "cell_type": "markdown",
   "metadata": {},
   "source": [
    "**Oversampling for Imbalanced Dataset**"
   ]
  },
  {
   "cell_type": "code",
   "execution_count": null,
   "metadata": {},
   "outputs": [],
   "source": [
    "# from imblearn.over_sampling import RandomOverSampler\n",
    "\n",
    "# ros = RandomOverSampler(random_state=42)\n",
    "# X_train, y_train = ros.fit_sample(X_train, y_train)"
   ]
  },
  {
   "cell_type": "code",
   "execution_count": null,
   "metadata": {},
   "outputs": [],
   "source": [
    "# from imblearn.over_sampling import SMOTE\n",
    "\n",
    "# sm = SMOTE(random_state=42, n_jobs=-1)\n",
    "# X_train, y_train = sm.fit_resample(X_train, y_train)"
   ]
  },
  {
   "cell_type": "markdown",
   "metadata": {},
   "source": [
    "**Class Weights for Imbalanced Dataset**"
   ]
  },
  {
   "cell_type": "code",
   "execution_count": null,
   "metadata": {},
   "outputs": [],
   "source": [
    "# import numpy as np\n",
    "# from sklearn.utils import class_weight\n",
    "\n",
    "# # calculate class weight\n",
    "# class_weights = class_weight.compute_class_weight('balanced', np.unique(y_train), y_train)\n",
    "# class_weight_dict = dict(enumerate(class_weights))\n",
    "# class_weight_dict"
   ]
  },
  {
   "cell_type": "code",
   "execution_count": null,
   "metadata": {},
   "outputs": [],
   "source": [
    "# class_weight_dict = {0: 1, 1: 10, 2: 0.1}"
   ]
  },
  {
   "cell_type": "markdown",
   "metadata": {},
   "source": [
    "<h2>Model Training</h2>"
   ]
  },
  {
   "cell_type": "markdown",
   "metadata": {},
   "source": [
    "<h3>Logistic Regression</h3>"
   ]
  },
  {
   "cell_type": "code",
   "execution_count": 13,
   "metadata": {},
   "outputs": [],
   "source": [
    "from sklearn.linear_model import LogisticRegression\n",
    "from sklearn.metrics import accuracy_score\n",
    "from sklearn.metrics import balanced_accuracy_score\n",
    "from sklearn.metrics import classification_report\n",
    "from sklearn.metrics import plot_confusion_matrix\n",
    "import matplotlib.pyplot as plt"
   ]
  },
  {
   "cell_type": "markdown",
   "metadata": {},
   "source": [
    "**N-Gram BOW**"
   ]
  },
  {
   "cell_type": "code",
   "execution_count": 14,
   "metadata": {},
   "outputs": [
    {
     "name": "stdout",
     "output_type": "stream",
     "text": [
      "Accuracy Score: 0.848191979732345\n",
      "\n",
      "Balanced Accuracy Score: 0.6857525922501595\n",
      "\n",
      "              precision    recall  f1-score   support\n",
      "\n",
      "           0       0.78      0.81      0.79     33576\n",
      "           1       0.43      0.30      0.36     18808\n",
      "           2       0.91      0.95      0.93    118134\n",
      "\n",
      "    accuracy                           0.85    170518\n",
      "   macro avg       0.71      0.69      0.69    170518\n",
      "weighted avg       0.83      0.85      0.84    170518\n",
      "\n"
     ]
    }
   ],
   "source": [
    "lr_bow = LogisticRegression(max_iter=1000, n_jobs=-1)\n",
    "lr_bow.fit(X_train_ngbow, y_train)\n",
    "\n",
    "y_pred = lr_bow.predict(X_test_ngbow)\n",
    "\n",
    "print('Accuracy Score: {}'.format(accuracy_score(y_test, y_pred)))\n",
    "print('\\nBalanced Accuracy Score: {}\\n'.format(balanced_accuracy_score(y_test, y_pred)))\n",
    "print(classification_report(y_test, y_pred))"
   ]
  },
  {
   "cell_type": "markdown",
   "metadata": {},
   "source": [
    "**N-Gram TFIDF**"
   ]
  },
  {
   "cell_type": "code",
   "execution_count": 14,
   "metadata": {},
   "outputs": [
    {
     "name": "stdout",
     "output_type": "stream",
     "text": [
      "--- Predict time 0.12502837181091309 seconds ---\n",
      "\n",
      "Accuracy Score: 0.8563963921697416\n",
      "\n",
      "Balanced Accuracy Score: 0.6824411499979511\n",
      "\n",
      "              precision    recall  f1-score   support\n",
      "\n",
      "           0       0.78      0.83      0.80     33576\n",
      "           1       0.49      0.26      0.34     18808\n",
      "           2       0.91      0.96      0.93    118134\n",
      "\n",
      "    accuracy                           0.86    170518\n",
      "   macro avg       0.73      0.68      0.69    170518\n",
      "weighted avg       0.84      0.86      0.84    170518\n",
      "\n"
     ]
    }
   ],
   "source": [
    "import time\n",
    "\n",
    "lr_tfidf = LogisticRegression(max_iter=1000, n_jobs=-1)\n",
    "lr_tfidf.fit(X_train_ngtfidf, y_train)\n",
    "\n",
    "start_time = time.time()\n",
    "y_pred = lr_tfidf.predict(X_test_ngtfidf)\n",
    "print(\"--- Predict time %s seconds ---\" % (time.time() - start_time))\n",
    "\n",
    "print('\\nAccuracy Score: {}'.format(accuracy_score(y_test, y_pred)))\n",
    "print('\\nBalanced Accuracy Score: {}\\n'.format(balanced_accuracy_score(y_test, y_pred)))\n",
    "print(classification_report(y_test, y_pred))"
   ]
  },
  {
   "cell_type": "code",
   "execution_count": 16,
   "metadata": {},
   "outputs": [],
   "source": [
    "import pickle\n",
    "\n",
    "# saving the model\n",
    "with open('logistic regression model', 'wb') as file:\n",
    "    pickle.dump(lr_tfidf, file)"
   ]
  },
  {
   "cell_type": "markdown",
   "metadata": {},
   "source": [
    "<h3>Multinomial Naive Bayes</h3>"
   ]
  },
  {
   "cell_type": "code",
   "execution_count": 16,
   "metadata": {},
   "outputs": [],
   "source": [
    "from sklearn.naive_bayes import MultinomialNB\n",
    "from sklearn.metrics import accuracy_score\n",
    "from sklearn.metrics import balanced_accuracy_score\n",
    "from sklearn.metrics import classification_report\n",
    "from sklearn.metrics import plot_confusion_matrix\n",
    "import matplotlib.pyplot as plt"
   ]
  },
  {
   "cell_type": "markdown",
   "metadata": {},
   "source": [
    "**N-Gram BOW**"
   ]
  },
  {
   "cell_type": "code",
   "execution_count": 18,
   "metadata": {},
   "outputs": [
    {
     "name": "stdout",
     "output_type": "stream",
     "text": [
      "Accuracy Score: 0.8414595526571975\n",
      "\n",
      "Balanced Accuracy Score: 0.6631825172957818\n",
      "\n",
      "              precision    recall  f1-score   support\n",
      "\n",
      "           0       0.76      0.81      0.78     33576\n",
      "           1       0.45      0.24      0.31     18808\n",
      "           2       0.90      0.95      0.92    118134\n",
      "\n",
      "    accuracy                           0.84    170518\n",
      "   macro avg       0.70      0.66      0.67    170518\n",
      "weighted avg       0.82      0.84      0.83    170518\n",
      "\n"
     ]
    }
   ],
   "source": [
    "mnb_bow = MultinomialNB()\n",
    "mnb_bow.fit(X_train_ngbow, y_train)\n",
    "\n",
    "y_pred = mnb_bow.predict(X_test_ngbow)\n",
    "\n",
    "print('Accuracy Score: {}'.format(accuracy_score(y_test, y_pred)))\n",
    "print('\\nBalanced Accuracy Score: {}\\n'.format(balanced_accuracy_score(y_test, y_pred)))\n",
    "print(classification_report(y_test, y_pred))"
   ]
  },
  {
   "cell_type": "markdown",
   "metadata": {},
   "source": [
    "**N-Gram TFIDF**"
   ]
  },
  {
   "cell_type": "code",
   "execution_count": 19,
   "metadata": {},
   "outputs": [
    {
     "name": "stdout",
     "output_type": "stream",
     "text": [
      "Accuracy Score: 0.7660071077540201\n",
      "\n",
      "Balanced Accuracy Score: 0.45908358956021816\n",
      "\n",
      "              precision    recall  f1-score   support\n",
      "\n",
      "           0       0.90      0.38      0.53     33576\n",
      "           1       0.58      0.00      0.00     18808\n",
      "           2       0.75      1.00      0.86    118134\n",
      "\n",
      "    accuracy                           0.77    170518\n",
      "   macro avg       0.74      0.46      0.46    170518\n",
      "weighted avg       0.76      0.77      0.70    170518\n",
      "\n"
     ]
    }
   ],
   "source": [
    "mnb_tfidf = MultinomialNB()\n",
    "mnb_tfidf.fit(X_train_ngtfidf, y_train)\n",
    "\n",
    "y_pred = mnb_tfidf.predict(X_test_ngtfidf)\n",
    "\n",
    "print('Accuracy Score: {}'.format(accuracy_score(y_test, y_pred)))\n",
    "print('\\nBalanced Accuracy Score: {}\\n'.format(balanced_accuracy_score(y_test, y_pred)))\n",
    "print(classification_report(y_test, y_pred))"
   ]
  },
  {
   "cell_type": "markdown",
   "metadata": {},
   "source": [
    "<h3>Random Forest</h3>"
   ]
  },
  {
   "cell_type": "code",
   "execution_count": 20,
   "metadata": {},
   "outputs": [],
   "source": [
    "from sklearn.ensemble import RandomForestClassifier\n",
    "from sklearn.metrics import accuracy_score\n",
    "from sklearn.metrics import balanced_accuracy_score\n",
    "from sklearn.metrics import classification_report\n",
    "from sklearn.metrics import plot_confusion_matrix\n",
    "import matplotlib.pyplot as plt"
   ]
  },
  {
   "cell_type": "markdown",
   "metadata": {},
   "source": [
    "**N-Gram BOW**"
   ]
  },
  {
   "cell_type": "code",
   "execution_count": 21,
   "metadata": {},
   "outputs": [
    {
     "name": "stdout",
     "output_type": "stream",
     "text": [
      "Accuracy Score: 0.824141732837589\n",
      "\n",
      "Balanced Accuracy Score: 0.5801293385872962\n",
      "\n",
      "              precision    recall  f1-score   support\n",
      "\n",
      "           0       0.79      0.70      0.74     33576\n",
      "           1       0.47      0.06      0.11     18808\n",
      "           2       0.84      0.98      0.90    118134\n",
      "\n",
      "    accuracy                           0.82    170518\n",
      "   macro avg       0.70      0.58      0.58    170518\n",
      "weighted avg       0.79      0.82      0.78    170518\n",
      "\n"
     ]
    }
   ],
   "source": [
    "rf_bow = RandomForestClassifier(n_jobs=8, warm_start=True)\n",
    "rf_bow.fit(X_train_ngbow, y_train)\n",
    "\n",
    "y_pred = rf_bow.predict(X_test_ngbow)\n",
    "\n",
    "print('Accuracy Score: {}'.format(accuracy_score(y_test, y_pred)))\n",
    "print('\\nBalanced Accuracy Score: {}\\n'.format(balanced_accuracy_score(y_test, y_pred)))\n",
    "print(classification_report(y_test, y_pred))"
   ]
  },
  {
   "cell_type": "markdown",
   "metadata": {},
   "source": [
    "**N-Gram TFIDF**"
   ]
  },
  {
   "cell_type": "code",
   "execution_count": 25,
   "metadata": {},
   "outputs": [
    {
     "name": "stderr",
     "output_type": "stream",
     "text": [
      "[Parallel(n_jobs=8)]: Using backend ThreadingBackend with 8 concurrent workers.\n"
     ]
    },
    {
     "name": "stdout",
     "output_type": "stream",
     "text": [
      "building tree 1 of 100building tree 2 of 100\n",
      "building tree 3 of 100\n",
      "building tree 4 of 100\n",
      "\n",
      "building tree 5 of 100\n",
      "building tree 6 of 100building tree 7 of 100building tree 8 of 100\n",
      "\n",
      "\n",
      "building tree 9 of 100\n",
      "building tree 10 of 100\n",
      "building tree 11 of 100\n",
      "building tree 12 of 100\n",
      "building tree 13 of 100\n",
      "building tree 14 of 100\n",
      "building tree 15 of 100\n",
      "building tree 16 of 100\n",
      "building tree 17 of 100\n",
      "building tree 18 of 100\n",
      "building tree 19 of 100\n",
      "building tree 20 of 100\n",
      "building tree 21 of 100\n",
      "building tree 22 of 100\n",
      "building tree 23 of 100\n",
      "building tree 24 of 100\n",
      "building tree 25 of 100\n",
      "building tree 26 of 100\n",
      "building tree 27 of 100\n",
      "building tree 28 of 100\n",
      "building tree 29 of 100\n",
      "building tree 30 of 100\n",
      "building tree 31 of 100\n",
      "building tree 32 of 100\n"
     ]
    },
    {
     "name": "stderr",
     "output_type": "stream",
     "text": [
      "[Parallel(n_jobs=8)]: Done  25 tasks      | elapsed: 87.0min\n"
     ]
    },
    {
     "name": "stdout",
     "output_type": "stream",
     "text": [
      "building tree 33 of 100\n",
      "building tree 34 of 100\n",
      "building tree 35 of 100\n",
      "building tree 36 of 100\n",
      "building tree 37 of 100\n",
      "building tree 38 of 100\n",
      "building tree 39 of 100\n",
      "building tree 40 of 100\n",
      "building tree 41 of 100\n",
      "building tree 42 of 100\n",
      "building tree 43 of 100\n",
      "building tree 44 of 100\n",
      "building tree 45 of 100\n",
      "building tree 46 of 100\n",
      "building tree 47 of 100\n",
      "building tree 48 of 100\n",
      "building tree 49 of 100\n",
      "building tree 50 of 100\n",
      "building tree 51 of 100\n",
      "building tree 52 of 100\n",
      "building tree 53 of 100\n",
      "building tree 54 of 100\n",
      "building tree 55 of 100\n",
      "building tree 56 of 100\n",
      "building tree 57 of 100\n",
      "building tree 58 of 100\n",
      "building tree 59 of 100\n",
      "building tree 60 of 100\n",
      "building tree 61 of 100\n",
      "building tree 62 of 100\n",
      "building tree 63 of 100\n",
      "building tree 64 of 100\n",
      "building tree 65 of 100\n",
      "building tree 66 of 100\n",
      "building tree 67 of 100\n",
      "building tree 68 of 100\n",
      "building tree 69 of 100\n",
      "building tree 70 of 100\n",
      "building tree 71 of 100\n",
      "building tree 72 of 100\n",
      "building tree 73 of 100\n",
      "building tree 74 of 100\n",
      "building tree 75 of 100\n",
      "building tree 76 of 100\n",
      "building tree 77 of 100\n",
      "building tree 78 of 100\n",
      "building tree 79 of 100\n",
      "building tree 80 of 100\n",
      "building tree 81 of 100\n",
      "building tree 82 of 100\n",
      "building tree 83 of 100\n",
      "building tree 84 of 100\n",
      "building tree 85 of 100\n",
      "building tree 86 of 100\n",
      "building tree 87 of 100\n",
      "building tree 88 of 100\n",
      "building tree 89 of 100\n",
      "building tree 90 of 100\n",
      "building tree 91 of 100\n",
      "building tree 92 of 100\n",
      "building tree 93 of 100\n",
      "building tree 94 of 100\n",
      "building tree 95 of 100\n",
      "building tree 96 of 100\n",
      "building tree 97 of 100\n",
      "building tree 98 of 100\n",
      "building tree 99 of 100\n",
      "building tree 100 of 100\n"
     ]
    },
    {
     "name": "stderr",
     "output_type": "stream",
     "text": [
      "[Parallel(n_jobs=8)]: Done 100 out of 100 | elapsed: 268.4min finished\n",
      "[Parallel(n_jobs=8)]: Using backend ThreadingBackend with 8 concurrent workers.\n",
      "[Parallel(n_jobs=8)]: Done  25 tasks      | elapsed:    3.9s\n",
      "[Parallel(n_jobs=8)]: Done 100 out of 100 | elapsed:   12.9s finished\n"
     ]
    },
    {
     "name": "stdout",
     "output_type": "stream",
     "text": [
      "Accuracy Score: 0.8226638829918249\n",
      "\n",
      "Balanced Accuracy Score: 0.5747261931396508\n",
      "\n",
      "              precision    recall  f1-score   support\n",
      "\n",
      "           0       0.80      0.69      0.74     33576\n",
      "           1       0.48      0.05      0.09     18808\n",
      "           2       0.83      0.98      0.90    118134\n",
      "\n",
      "    accuracy                           0.82    170518\n",
      "   macro avg       0.70      0.57      0.58    170518\n",
      "weighted avg       0.79      0.82      0.78    170518\n",
      "\n"
     ]
    }
   ],
   "source": [
    "rf_tfidf = RandomForestClassifier(n_jobs=8, verbose=2, warm_start=True)\n",
    "rf_tfidf.fit(X_train_ngtfidf, y_train)\n",
    "\n",
    "y_pred = rf_tfidf.predict(X_test_ngtfidf)\n",
    "\n",
    "print('Accuracy Score: {}'.format(accuracy_score(y_test, y_pred)))\n",
    "print('\\nBalanced Accuracy Score: {}\\n'.format(balanced_accuracy_score(y_test, y_pred)))\n",
    "print(classification_report(y_test, y_pred))"
   ]
  },
  {
   "cell_type": "markdown",
   "metadata": {},
   "source": [
    "<h2>Model Evaluation</h2>"
   ]
  },
  {
   "cell_type": "markdown",
   "metadata": {},
   "source": [
    "We also trained LSTM models and transformer models on Google Colab, and below is the summary of the model performance comparison."
   ]
  },
  {
   "cell_type": "code",
   "execution_count": 30,
   "metadata": {},
   "outputs": [
    {
     "data": {
      "text/html": [
       "<div>\n",
       "<style scoped>\n",
       "    .dataframe tbody tr th:only-of-type {\n",
       "        vertical-align: middle;\n",
       "    }\n",
       "\n",
       "    .dataframe tbody tr th {\n",
       "        vertical-align: top;\n",
       "    }\n",
       "\n",
       "    .dataframe thead th {\n",
       "        text-align: right;\n",
       "    }\n",
       "</style>\n",
       "<table border=\"1\" class=\"dataframe\">\n",
       "  <thead>\n",
       "    <tr style=\"text-align: right;\">\n",
       "      <th></th>\n",
       "      <th></th>\n",
       "      <th>Accuracy</th>\n",
       "      <th>F1</th>\n",
       "      <th>F1 Positive</th>\n",
       "      <th>F1 Neutral</th>\n",
       "      <th>F1 Negative</th>\n",
       "      <th>Predict Time (seconds)</th>\n",
       "    </tr>\n",
       "    <tr>\n",
       "      <th>Model</th>\n",
       "      <th>Feature</th>\n",
       "      <th></th>\n",
       "      <th></th>\n",
       "      <th></th>\n",
       "      <th></th>\n",
       "      <th></th>\n",
       "      <th></th>\n",
       "    </tr>\n",
       "  </thead>\n",
       "  <tbody>\n",
       "    <tr>\n",
       "      <th rowspan=\"2\" valign=\"top\">Logistic Regression</th>\n",
       "      <th>BOW</th>\n",
       "      <td>0.85</td>\n",
       "      <td>0.84</td>\n",
       "      <td>0.93</td>\n",
       "      <td>0.36</td>\n",
       "      <td>0.79</td>\n",
       "      <td></td>\n",
       "    </tr>\n",
       "    <tr>\n",
       "      <th>TF-IDF</th>\n",
       "      <td>0.86</td>\n",
       "      <td>0.84</td>\n",
       "      <td>0.93</td>\n",
       "      <td>0.34</td>\n",
       "      <td>0.80</td>\n",
       "      <td>0.125</td>\n",
       "    </tr>\n",
       "    <tr>\n",
       "      <th rowspan=\"2\" valign=\"top\">Multinomial Naive Bayes</th>\n",
       "      <th>BOW</th>\n",
       "      <td>0.84</td>\n",
       "      <td>0.83</td>\n",
       "      <td>0.92</td>\n",
       "      <td>0.31</td>\n",
       "      <td>0.78</td>\n",
       "      <td></td>\n",
       "    </tr>\n",
       "    <tr>\n",
       "      <th>TF-IDF</th>\n",
       "      <td>0.77</td>\n",
       "      <td>0.70</td>\n",
       "      <td>0.86</td>\n",
       "      <td>0.00</td>\n",
       "      <td>0.53</td>\n",
       "      <td></td>\n",
       "    </tr>\n",
       "    <tr>\n",
       "      <th rowspan=\"2\" valign=\"top\">Random Forest</th>\n",
       "      <th>BOW</th>\n",
       "      <td>0.82</td>\n",
       "      <td>0.78</td>\n",
       "      <td>0.90</td>\n",
       "      <td>0.11</td>\n",
       "      <td>0.74</td>\n",
       "      <td></td>\n",
       "    </tr>\n",
       "    <tr>\n",
       "      <th>TF-IDF</th>\n",
       "      <td>0.82</td>\n",
       "      <td>0.78</td>\n",
       "      <td>0.90</td>\n",
       "      <td>0.09</td>\n",
       "      <td>0.74</td>\n",
       "      <td></td>\n",
       "    </tr>\n",
       "    <tr>\n",
       "      <th>LSTM</th>\n",
       "      <th>Word2Vec</th>\n",
       "      <td>0.82</td>\n",
       "      <td>0.80</td>\n",
       "      <td>0.91</td>\n",
       "      <td>0.23</td>\n",
       "      <td>0.73</td>\n",
       "      <td></td>\n",
       "    </tr>\n",
       "    <tr>\n",
       "      <th>Bi-LSTM</th>\n",
       "      <th>Word2Vec</th>\n",
       "      <td>0.83</td>\n",
       "      <td>0.81</td>\n",
       "      <td>0.91</td>\n",
       "      <td>0.27</td>\n",
       "      <td>0.73</td>\n",
       "      <td></td>\n",
       "    </tr>\n",
       "    <tr>\n",
       "      <th>Bi-LSTM + Attention</th>\n",
       "      <th>Word2Vec</th>\n",
       "      <td>0.83</td>\n",
       "      <td>0.81</td>\n",
       "      <td>0.91</td>\n",
       "      <td>0.30</td>\n",
       "      <td>0.74</td>\n",
       "      <td></td>\n",
       "    </tr>\n",
       "    <tr>\n",
       "      <th>Transformer</th>\n",
       "      <th>Built-in</th>\n",
       "      <td>0.87</td>\n",
       "      <td>0.87</td>\n",
       "      <td>0.95</td>\n",
       "      <td>0.42</td>\n",
       "      <td>0.82</td>\n",
       "      <td>512.725</td>\n",
       "    </tr>\n",
       "  </tbody>\n",
       "</table>\n",
       "</div>"
      ],
      "text/plain": [
       "                                 Accuracy    F1 F1 Positive F1 Neutral  \\\n",
       "Model                   Feature                                          \n",
       "Logistic Regression     BOW          0.85  0.84        0.93       0.36   \n",
       "                        TF-IDF       0.86  0.84        0.93       0.34   \n",
       "Multinomial Naive Bayes BOW          0.84  0.83        0.92       0.31   \n",
       "                        TF-IDF       0.77  0.70        0.86       0.00   \n",
       "Random Forest           BOW          0.82  0.78        0.90       0.11   \n",
       "                        TF-IDF       0.82  0.78        0.90       0.09   \n",
       "LSTM                    Word2Vec     0.82  0.80        0.91       0.23   \n",
       "Bi-LSTM                 Word2Vec     0.83  0.81        0.91       0.27   \n",
       "Bi-LSTM + Attention     Word2Vec     0.83  0.81        0.91       0.30   \n",
       "Transformer             Built-in     0.87  0.87        0.95       0.42   \n",
       "\n",
       "                                 F1 Negative Predict Time (seconds)  \n",
       "Model                   Feature                                      \n",
       "Logistic Regression     BOW             0.79                         \n",
       "                        TF-IDF          0.80                  0.125  \n",
       "Multinomial Naive Bayes BOW             0.78                         \n",
       "                        TF-IDF          0.53                         \n",
       "Random Forest           BOW             0.74                         \n",
       "                        TF-IDF          0.74                         \n",
       "LSTM                    Word2Vec        0.73                         \n",
       "Bi-LSTM                 Word2Vec        0.73                         \n",
       "Bi-LSTM + Attention     Word2Vec        0.74                         \n",
       "Transformer             Built-in        0.82                512.725  "
      ]
     },
     "execution_count": 30,
     "metadata": {},
     "output_type": "execute_result"
    }
   ],
   "source": [
    "import pandas as pd\n",
    "\n",
    "models = ['Logistic Regression', 'Logistic Regression',\\\n",
    "          'Multinomial Naive Bayes', 'Multinomial Naive Bayes',\\\n",
    "          'Random Forest', 'Random Forest',\\\n",
    "          'LSTM', 'Bi-LSTM', 'Bi-LSTM + Attention', 'Transformer']\n",
    "\n",
    "evaluation = pd.DataFrame(index=models)\n",
    "evaluation.index.names = ['Model']\n",
    "\n",
    "evaluation['Feature'] = ['BOW', 'TF-IDF', 'BOW', 'TF-IDF', 'BOW', 'TF-IDF',\\\n",
    "                         'Word2Vec', 'Word2Vec', 'Word2Vec', 'Built-in']\n",
    "evaluation.set_index('Feature', append=True, inplace=True)\n",
    "\n",
    "evaluation['Accuracy'] = ['0.85', '0.86', '0.84', '0.77', '0.82', '0.82', '0.82', '0.83', '0.83', '0.87']\n",
    "evaluation['F1'] = ['0.84', '0.84', '0.83', '0.70', '0.78', '0.78', '0.80', '0.81', '0.81', '0.87']\n",
    "evaluation['F1 Positive'] = ['0.93', '0.93', '0.92', '0.86', '0.90', '0.90', '0.91', '0.91', '0.91', '0.95']\n",
    "evaluation['F1 Neutral'] = ['0.36', '0.34', '0.31', '0.00', '0.11', '0.09', '0.23', '0.27', '0.30', '0.42']\n",
    "evaluation['F1 Negative'] = ['0.79', '0.80', '0.78', '0.53', '0.74', '0.74', '0.73', '0.73', '0.74', '0.82']\n",
    "evaluation['Predict Time (seconds)'] = ['', '0.125', '', '', '', '', '', '', '', '512.725']\n",
    "\n",
    "evaluation"
   ]
  },
  {
   "cell_type": "code",
   "execution_count": 33,
   "metadata": {},
   "outputs": [
    {
     "data": {
      "text/html": [
       "<style  type=\"text/css\" >\n",
       "    #T_90c142a8_7edf_11eb_85cc_5c879cd8c4c0row0_col0 {\n",
       "            background-color:  transparent;\n",
       "        }    #T_90c142a8_7edf_11eb_85cc_5c879cd8c4c0row0_col1 {\n",
       "            background-color:  transparent;\n",
       "        }    #T_90c142a8_7edf_11eb_85cc_5c879cd8c4c0row0_col2 {\n",
       "            background-color:  transparent;\n",
       "        }    #T_90c142a8_7edf_11eb_85cc_5c879cd8c4c0row0_col3 {\n",
       "            background-color:  transparent;\n",
       "        }    #T_90c142a8_7edf_11eb_85cc_5c879cd8c4c0row0_col4 {\n",
       "            background-color:  transparent;\n",
       "        }    #T_90c142a8_7edf_11eb_85cc_5c879cd8c4c0row0_col5 {\n",
       "            background-color:  transparent;\n",
       "        }    #T_90c142a8_7edf_11eb_85cc_5c879cd8c4c0row1_col0 {\n",
       "            background-color:  yellow;\n",
       "        }    #T_90c142a8_7edf_11eb_85cc_5c879cd8c4c0row1_col1 {\n",
       "            background-color:  yellow;\n",
       "        }    #T_90c142a8_7edf_11eb_85cc_5c879cd8c4c0row1_col2 {\n",
       "            background-color:  yellow;\n",
       "        }    #T_90c142a8_7edf_11eb_85cc_5c879cd8c4c0row1_col3 {\n",
       "            background-color:  yellow;\n",
       "        }    #T_90c142a8_7edf_11eb_85cc_5c879cd8c4c0row1_col4 {\n",
       "            background-color:  yellow;\n",
       "        }    #T_90c142a8_7edf_11eb_85cc_5c879cd8c4c0row1_col5 {\n",
       "            background-color:  yellow;\n",
       "        }    #T_90c142a8_7edf_11eb_85cc_5c879cd8c4c0row2_col0 {\n",
       "            background-color:  transparent;\n",
       "        }    #T_90c142a8_7edf_11eb_85cc_5c879cd8c4c0row2_col1 {\n",
       "            background-color:  transparent;\n",
       "        }    #T_90c142a8_7edf_11eb_85cc_5c879cd8c4c0row2_col2 {\n",
       "            background-color:  transparent;\n",
       "        }    #T_90c142a8_7edf_11eb_85cc_5c879cd8c4c0row2_col3 {\n",
       "            background-color:  transparent;\n",
       "        }    #T_90c142a8_7edf_11eb_85cc_5c879cd8c4c0row2_col4 {\n",
       "            background-color:  transparent;\n",
       "        }    #T_90c142a8_7edf_11eb_85cc_5c879cd8c4c0row2_col5 {\n",
       "            background-color:  transparent;\n",
       "        }    #T_90c142a8_7edf_11eb_85cc_5c879cd8c4c0row3_col0 {\n",
       "            background-color:  transparent;\n",
       "        }    #T_90c142a8_7edf_11eb_85cc_5c879cd8c4c0row3_col1 {\n",
       "            background-color:  transparent;\n",
       "        }    #T_90c142a8_7edf_11eb_85cc_5c879cd8c4c0row3_col2 {\n",
       "            background-color:  transparent;\n",
       "        }    #T_90c142a8_7edf_11eb_85cc_5c879cd8c4c0row3_col3 {\n",
       "            background-color:  transparent;\n",
       "        }    #T_90c142a8_7edf_11eb_85cc_5c879cd8c4c0row3_col4 {\n",
       "            background-color:  transparent;\n",
       "        }    #T_90c142a8_7edf_11eb_85cc_5c879cd8c4c0row3_col5 {\n",
       "            background-color:  transparent;\n",
       "        }    #T_90c142a8_7edf_11eb_85cc_5c879cd8c4c0row4_col0 {\n",
       "            background-color:  transparent;\n",
       "        }    #T_90c142a8_7edf_11eb_85cc_5c879cd8c4c0row4_col1 {\n",
       "            background-color:  transparent;\n",
       "        }    #T_90c142a8_7edf_11eb_85cc_5c879cd8c4c0row4_col2 {\n",
       "            background-color:  transparent;\n",
       "        }    #T_90c142a8_7edf_11eb_85cc_5c879cd8c4c0row4_col3 {\n",
       "            background-color:  transparent;\n",
       "        }    #T_90c142a8_7edf_11eb_85cc_5c879cd8c4c0row4_col4 {\n",
       "            background-color:  transparent;\n",
       "        }    #T_90c142a8_7edf_11eb_85cc_5c879cd8c4c0row4_col5 {\n",
       "            background-color:  transparent;\n",
       "        }    #T_90c142a8_7edf_11eb_85cc_5c879cd8c4c0row5_col0 {\n",
       "            background-color:  transparent;\n",
       "        }    #T_90c142a8_7edf_11eb_85cc_5c879cd8c4c0row5_col1 {\n",
       "            background-color:  transparent;\n",
       "        }    #T_90c142a8_7edf_11eb_85cc_5c879cd8c4c0row5_col2 {\n",
       "            background-color:  transparent;\n",
       "        }    #T_90c142a8_7edf_11eb_85cc_5c879cd8c4c0row5_col3 {\n",
       "            background-color:  transparent;\n",
       "        }    #T_90c142a8_7edf_11eb_85cc_5c879cd8c4c0row5_col4 {\n",
       "            background-color:  transparent;\n",
       "        }    #T_90c142a8_7edf_11eb_85cc_5c879cd8c4c0row5_col5 {\n",
       "            background-color:  transparent;\n",
       "        }    #T_90c142a8_7edf_11eb_85cc_5c879cd8c4c0row6_col0 {\n",
       "            background-color:  transparent;\n",
       "        }    #T_90c142a8_7edf_11eb_85cc_5c879cd8c4c0row6_col1 {\n",
       "            background-color:  transparent;\n",
       "        }    #T_90c142a8_7edf_11eb_85cc_5c879cd8c4c0row6_col2 {\n",
       "            background-color:  transparent;\n",
       "        }    #T_90c142a8_7edf_11eb_85cc_5c879cd8c4c0row6_col3 {\n",
       "            background-color:  transparent;\n",
       "        }    #T_90c142a8_7edf_11eb_85cc_5c879cd8c4c0row6_col4 {\n",
       "            background-color:  transparent;\n",
       "        }    #T_90c142a8_7edf_11eb_85cc_5c879cd8c4c0row6_col5 {\n",
       "            background-color:  transparent;\n",
       "        }    #T_90c142a8_7edf_11eb_85cc_5c879cd8c4c0row7_col0 {\n",
       "            background-color:  transparent;\n",
       "        }    #T_90c142a8_7edf_11eb_85cc_5c879cd8c4c0row7_col1 {\n",
       "            background-color:  transparent;\n",
       "        }    #T_90c142a8_7edf_11eb_85cc_5c879cd8c4c0row7_col2 {\n",
       "            background-color:  transparent;\n",
       "        }    #T_90c142a8_7edf_11eb_85cc_5c879cd8c4c0row7_col3 {\n",
       "            background-color:  transparent;\n",
       "        }    #T_90c142a8_7edf_11eb_85cc_5c879cd8c4c0row7_col4 {\n",
       "            background-color:  transparent;\n",
       "        }    #T_90c142a8_7edf_11eb_85cc_5c879cd8c4c0row7_col5 {\n",
       "            background-color:  transparent;\n",
       "        }    #T_90c142a8_7edf_11eb_85cc_5c879cd8c4c0row8_col0 {\n",
       "            background-color:  transparent;\n",
       "        }    #T_90c142a8_7edf_11eb_85cc_5c879cd8c4c0row8_col1 {\n",
       "            background-color:  transparent;\n",
       "        }    #T_90c142a8_7edf_11eb_85cc_5c879cd8c4c0row8_col2 {\n",
       "            background-color:  transparent;\n",
       "        }    #T_90c142a8_7edf_11eb_85cc_5c879cd8c4c0row8_col3 {\n",
       "            background-color:  transparent;\n",
       "        }    #T_90c142a8_7edf_11eb_85cc_5c879cd8c4c0row8_col4 {\n",
       "            background-color:  transparent;\n",
       "        }    #T_90c142a8_7edf_11eb_85cc_5c879cd8c4c0row8_col5 {\n",
       "            background-color:  transparent;\n",
       "        }    #T_90c142a8_7edf_11eb_85cc_5c879cd8c4c0row9_col0 {\n",
       "            background-color:  yellow;\n",
       "        }    #T_90c142a8_7edf_11eb_85cc_5c879cd8c4c0row9_col1 {\n",
       "            background-color:  yellow;\n",
       "        }    #T_90c142a8_7edf_11eb_85cc_5c879cd8c4c0row9_col2 {\n",
       "            background-color:  yellow;\n",
       "        }    #T_90c142a8_7edf_11eb_85cc_5c879cd8c4c0row9_col3 {\n",
       "            background-color:  yellow;\n",
       "        }    #T_90c142a8_7edf_11eb_85cc_5c879cd8c4c0row9_col4 {\n",
       "            background-color:  yellow;\n",
       "        }    #T_90c142a8_7edf_11eb_85cc_5c879cd8c4c0row9_col5 {\n",
       "            background-color:  yellow;\n",
       "        }</style><table id=\"T_90c142a8_7edf_11eb_85cc_5c879cd8c4c0\" ><thead>    <tr>        <th class=\"blank\" ></th>        <th class=\"blank level0\" ></th>        <th class=\"col_heading level0 col0\" >Accuracy</th>        <th class=\"col_heading level0 col1\" >F1</th>        <th class=\"col_heading level0 col2\" >F1 Positive</th>        <th class=\"col_heading level0 col3\" >F1 Neutral</th>        <th class=\"col_heading level0 col4\" >F1 Negative</th>        <th class=\"col_heading level0 col5\" >Predict Time (seconds)</th>    </tr>    <tr>        <th class=\"index_name level0\" >Model</th>        <th class=\"index_name level1\" >Feature</th>        <th class=\"blank\" ></th>        <th class=\"blank\" ></th>        <th class=\"blank\" ></th>        <th class=\"blank\" ></th>        <th class=\"blank\" ></th>        <th class=\"blank\" ></th>    </tr></thead><tbody>\n",
       "                <tr>\n",
       "                        <th id=\"T_90c142a8_7edf_11eb_85cc_5c879cd8c4c0level0_row0\" class=\"row_heading level0 row0\" rowspan=2>Logistic Regression</th>\n",
       "                        <th id=\"T_90c142a8_7edf_11eb_85cc_5c879cd8c4c0level1_row0\" class=\"row_heading level1 row0\" >BOW</th>\n",
       "                        <td id=\"T_90c142a8_7edf_11eb_85cc_5c879cd8c4c0row0_col0\" class=\"data row0 col0\" >0.85</td>\n",
       "                        <td id=\"T_90c142a8_7edf_11eb_85cc_5c879cd8c4c0row0_col1\" class=\"data row0 col1\" >0.84</td>\n",
       "                        <td id=\"T_90c142a8_7edf_11eb_85cc_5c879cd8c4c0row0_col2\" class=\"data row0 col2\" >0.93</td>\n",
       "                        <td id=\"T_90c142a8_7edf_11eb_85cc_5c879cd8c4c0row0_col3\" class=\"data row0 col3\" >0.36</td>\n",
       "                        <td id=\"T_90c142a8_7edf_11eb_85cc_5c879cd8c4c0row0_col4\" class=\"data row0 col4\" >0.79</td>\n",
       "                        <td id=\"T_90c142a8_7edf_11eb_85cc_5c879cd8c4c0row0_col5\" class=\"data row0 col5\" ></td>\n",
       "            </tr>\n",
       "            <tr>\n",
       "                                <th id=\"T_90c142a8_7edf_11eb_85cc_5c879cd8c4c0level1_row1\" class=\"row_heading level1 row1\" >TF-IDF</th>\n",
       "                        <td id=\"T_90c142a8_7edf_11eb_85cc_5c879cd8c4c0row1_col0\" class=\"data row1 col0\" >0.86</td>\n",
       "                        <td id=\"T_90c142a8_7edf_11eb_85cc_5c879cd8c4c0row1_col1\" class=\"data row1 col1\" >0.84</td>\n",
       "                        <td id=\"T_90c142a8_7edf_11eb_85cc_5c879cd8c4c0row1_col2\" class=\"data row1 col2\" >0.93</td>\n",
       "                        <td id=\"T_90c142a8_7edf_11eb_85cc_5c879cd8c4c0row1_col3\" class=\"data row1 col3\" >0.34</td>\n",
       "                        <td id=\"T_90c142a8_7edf_11eb_85cc_5c879cd8c4c0row1_col4\" class=\"data row1 col4\" >0.80</td>\n",
       "                        <td id=\"T_90c142a8_7edf_11eb_85cc_5c879cd8c4c0row1_col5\" class=\"data row1 col5\" >0.125</td>\n",
       "            </tr>\n",
       "            <tr>\n",
       "                        <th id=\"T_90c142a8_7edf_11eb_85cc_5c879cd8c4c0level0_row2\" class=\"row_heading level0 row2\" rowspan=2>Multinomial Naive Bayes</th>\n",
       "                        <th id=\"T_90c142a8_7edf_11eb_85cc_5c879cd8c4c0level1_row2\" class=\"row_heading level1 row2\" >BOW</th>\n",
       "                        <td id=\"T_90c142a8_7edf_11eb_85cc_5c879cd8c4c0row2_col0\" class=\"data row2 col0\" >0.84</td>\n",
       "                        <td id=\"T_90c142a8_7edf_11eb_85cc_5c879cd8c4c0row2_col1\" class=\"data row2 col1\" >0.83</td>\n",
       "                        <td id=\"T_90c142a8_7edf_11eb_85cc_5c879cd8c4c0row2_col2\" class=\"data row2 col2\" >0.92</td>\n",
       "                        <td id=\"T_90c142a8_7edf_11eb_85cc_5c879cd8c4c0row2_col3\" class=\"data row2 col3\" >0.31</td>\n",
       "                        <td id=\"T_90c142a8_7edf_11eb_85cc_5c879cd8c4c0row2_col4\" class=\"data row2 col4\" >0.78</td>\n",
       "                        <td id=\"T_90c142a8_7edf_11eb_85cc_5c879cd8c4c0row2_col5\" class=\"data row2 col5\" ></td>\n",
       "            </tr>\n",
       "            <tr>\n",
       "                                <th id=\"T_90c142a8_7edf_11eb_85cc_5c879cd8c4c0level1_row3\" class=\"row_heading level1 row3\" >TF-IDF</th>\n",
       "                        <td id=\"T_90c142a8_7edf_11eb_85cc_5c879cd8c4c0row3_col0\" class=\"data row3 col0\" >0.77</td>\n",
       "                        <td id=\"T_90c142a8_7edf_11eb_85cc_5c879cd8c4c0row3_col1\" class=\"data row3 col1\" >0.70</td>\n",
       "                        <td id=\"T_90c142a8_7edf_11eb_85cc_5c879cd8c4c0row3_col2\" class=\"data row3 col2\" >0.86</td>\n",
       "                        <td id=\"T_90c142a8_7edf_11eb_85cc_5c879cd8c4c0row3_col3\" class=\"data row3 col3\" >0.00</td>\n",
       "                        <td id=\"T_90c142a8_7edf_11eb_85cc_5c879cd8c4c0row3_col4\" class=\"data row3 col4\" >0.53</td>\n",
       "                        <td id=\"T_90c142a8_7edf_11eb_85cc_5c879cd8c4c0row3_col5\" class=\"data row3 col5\" ></td>\n",
       "            </tr>\n",
       "            <tr>\n",
       "                        <th id=\"T_90c142a8_7edf_11eb_85cc_5c879cd8c4c0level0_row4\" class=\"row_heading level0 row4\" rowspan=2>Random Forest</th>\n",
       "                        <th id=\"T_90c142a8_7edf_11eb_85cc_5c879cd8c4c0level1_row4\" class=\"row_heading level1 row4\" >BOW</th>\n",
       "                        <td id=\"T_90c142a8_7edf_11eb_85cc_5c879cd8c4c0row4_col0\" class=\"data row4 col0\" >0.82</td>\n",
       "                        <td id=\"T_90c142a8_7edf_11eb_85cc_5c879cd8c4c0row4_col1\" class=\"data row4 col1\" >0.78</td>\n",
       "                        <td id=\"T_90c142a8_7edf_11eb_85cc_5c879cd8c4c0row4_col2\" class=\"data row4 col2\" >0.90</td>\n",
       "                        <td id=\"T_90c142a8_7edf_11eb_85cc_5c879cd8c4c0row4_col3\" class=\"data row4 col3\" >0.11</td>\n",
       "                        <td id=\"T_90c142a8_7edf_11eb_85cc_5c879cd8c4c0row4_col4\" class=\"data row4 col4\" >0.74</td>\n",
       "                        <td id=\"T_90c142a8_7edf_11eb_85cc_5c879cd8c4c0row4_col5\" class=\"data row4 col5\" ></td>\n",
       "            </tr>\n",
       "            <tr>\n",
       "                                <th id=\"T_90c142a8_7edf_11eb_85cc_5c879cd8c4c0level1_row5\" class=\"row_heading level1 row5\" >TF-IDF</th>\n",
       "                        <td id=\"T_90c142a8_7edf_11eb_85cc_5c879cd8c4c0row5_col0\" class=\"data row5 col0\" >0.82</td>\n",
       "                        <td id=\"T_90c142a8_7edf_11eb_85cc_5c879cd8c4c0row5_col1\" class=\"data row5 col1\" >0.78</td>\n",
       "                        <td id=\"T_90c142a8_7edf_11eb_85cc_5c879cd8c4c0row5_col2\" class=\"data row5 col2\" >0.90</td>\n",
       "                        <td id=\"T_90c142a8_7edf_11eb_85cc_5c879cd8c4c0row5_col3\" class=\"data row5 col3\" >0.09</td>\n",
       "                        <td id=\"T_90c142a8_7edf_11eb_85cc_5c879cd8c4c0row5_col4\" class=\"data row5 col4\" >0.74</td>\n",
       "                        <td id=\"T_90c142a8_7edf_11eb_85cc_5c879cd8c4c0row5_col5\" class=\"data row5 col5\" ></td>\n",
       "            </tr>\n",
       "            <tr>\n",
       "                        <th id=\"T_90c142a8_7edf_11eb_85cc_5c879cd8c4c0level0_row6\" class=\"row_heading level0 row6\" >LSTM</th>\n",
       "                        <th id=\"T_90c142a8_7edf_11eb_85cc_5c879cd8c4c0level1_row6\" class=\"row_heading level1 row6\" >Word2Vec</th>\n",
       "                        <td id=\"T_90c142a8_7edf_11eb_85cc_5c879cd8c4c0row6_col0\" class=\"data row6 col0\" >0.82</td>\n",
       "                        <td id=\"T_90c142a8_7edf_11eb_85cc_5c879cd8c4c0row6_col1\" class=\"data row6 col1\" >0.80</td>\n",
       "                        <td id=\"T_90c142a8_7edf_11eb_85cc_5c879cd8c4c0row6_col2\" class=\"data row6 col2\" >0.91</td>\n",
       "                        <td id=\"T_90c142a8_7edf_11eb_85cc_5c879cd8c4c0row6_col3\" class=\"data row6 col3\" >0.23</td>\n",
       "                        <td id=\"T_90c142a8_7edf_11eb_85cc_5c879cd8c4c0row6_col4\" class=\"data row6 col4\" >0.73</td>\n",
       "                        <td id=\"T_90c142a8_7edf_11eb_85cc_5c879cd8c4c0row6_col5\" class=\"data row6 col5\" ></td>\n",
       "            </tr>\n",
       "            <tr>\n",
       "                        <th id=\"T_90c142a8_7edf_11eb_85cc_5c879cd8c4c0level0_row7\" class=\"row_heading level0 row7\" >Bi-LSTM</th>\n",
       "                        <th id=\"T_90c142a8_7edf_11eb_85cc_5c879cd8c4c0level1_row7\" class=\"row_heading level1 row7\" >Word2Vec</th>\n",
       "                        <td id=\"T_90c142a8_7edf_11eb_85cc_5c879cd8c4c0row7_col0\" class=\"data row7 col0\" >0.83</td>\n",
       "                        <td id=\"T_90c142a8_7edf_11eb_85cc_5c879cd8c4c0row7_col1\" class=\"data row7 col1\" >0.81</td>\n",
       "                        <td id=\"T_90c142a8_7edf_11eb_85cc_5c879cd8c4c0row7_col2\" class=\"data row7 col2\" >0.91</td>\n",
       "                        <td id=\"T_90c142a8_7edf_11eb_85cc_5c879cd8c4c0row7_col3\" class=\"data row7 col3\" >0.27</td>\n",
       "                        <td id=\"T_90c142a8_7edf_11eb_85cc_5c879cd8c4c0row7_col4\" class=\"data row7 col4\" >0.73</td>\n",
       "                        <td id=\"T_90c142a8_7edf_11eb_85cc_5c879cd8c4c0row7_col5\" class=\"data row7 col5\" ></td>\n",
       "            </tr>\n",
       "            <tr>\n",
       "                        <th id=\"T_90c142a8_7edf_11eb_85cc_5c879cd8c4c0level0_row8\" class=\"row_heading level0 row8\" >Bi-LSTM + Attention</th>\n",
       "                        <th id=\"T_90c142a8_7edf_11eb_85cc_5c879cd8c4c0level1_row8\" class=\"row_heading level1 row8\" >Word2Vec</th>\n",
       "                        <td id=\"T_90c142a8_7edf_11eb_85cc_5c879cd8c4c0row8_col0\" class=\"data row8 col0\" >0.83</td>\n",
       "                        <td id=\"T_90c142a8_7edf_11eb_85cc_5c879cd8c4c0row8_col1\" class=\"data row8 col1\" >0.81</td>\n",
       "                        <td id=\"T_90c142a8_7edf_11eb_85cc_5c879cd8c4c0row8_col2\" class=\"data row8 col2\" >0.91</td>\n",
       "                        <td id=\"T_90c142a8_7edf_11eb_85cc_5c879cd8c4c0row8_col3\" class=\"data row8 col3\" >0.30</td>\n",
       "                        <td id=\"T_90c142a8_7edf_11eb_85cc_5c879cd8c4c0row8_col4\" class=\"data row8 col4\" >0.74</td>\n",
       "                        <td id=\"T_90c142a8_7edf_11eb_85cc_5c879cd8c4c0row8_col5\" class=\"data row8 col5\" ></td>\n",
       "            </tr>\n",
       "            <tr>\n",
       "                        <th id=\"T_90c142a8_7edf_11eb_85cc_5c879cd8c4c0level0_row9\" class=\"row_heading level0 row9\" >Transformer</th>\n",
       "                        <th id=\"T_90c142a8_7edf_11eb_85cc_5c879cd8c4c0level1_row9\" class=\"row_heading level1 row9\" >Built-in</th>\n",
       "                        <td id=\"T_90c142a8_7edf_11eb_85cc_5c879cd8c4c0row9_col0\" class=\"data row9 col0\" >0.87</td>\n",
       "                        <td id=\"T_90c142a8_7edf_11eb_85cc_5c879cd8c4c0row9_col1\" class=\"data row9 col1\" >0.87</td>\n",
       "                        <td id=\"T_90c142a8_7edf_11eb_85cc_5c879cd8c4c0row9_col2\" class=\"data row9 col2\" >0.95</td>\n",
       "                        <td id=\"T_90c142a8_7edf_11eb_85cc_5c879cd8c4c0row9_col3\" class=\"data row9 col3\" >0.42</td>\n",
       "                        <td id=\"T_90c142a8_7edf_11eb_85cc_5c879cd8c4c0row9_col4\" class=\"data row9 col4\" >0.82</td>\n",
       "                        <td id=\"T_90c142a8_7edf_11eb_85cc_5c879cd8c4c0row9_col5\" class=\"data row9 col5\" >512.725</td>\n",
       "            </tr>\n",
       "    </tbody></table>"
      ],
      "text/plain": [
       "<pandas.io.formats.style.Styler at 0x1cc42674f08>"
      ]
     },
     "execution_count": 33,
     "metadata": {},
     "output_type": "execute_result"
    }
   ],
   "source": [
    "def highlight_row(x):\n",
    "    if x['Predict Time (seconds)'] != '':\n",
    "        return ['background-color: yellow']*6\n",
    "    else:\n",
    "        return ['background-color: transparent']*6\n",
    "    \n",
    "evaluation.style.apply(highlight_row, axis=1)"
   ]
  },
  {
   "cell_type": "code",
   "execution_count": null,
   "metadata": {},
   "outputs": [],
   "source": []
  }
 ],
 "metadata": {
  "kernelspec": {
   "display_name": "Python 3",
   "language": "python",
   "name": "python3"
  },
  "language_info": {
   "codemirror_mode": {
    "name": "ipython",
    "version": 3
   },
   "file_extension": ".py",
   "mimetype": "text/x-python",
   "name": "python",
   "nbconvert_exporter": "python",
   "pygments_lexer": "ipython3",
   "version": "3.7.6"
  }
 },
 "nbformat": 4,
 "nbformat_minor": 4
}
